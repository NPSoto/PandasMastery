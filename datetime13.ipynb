{
  "nbformat": 4,
  "nbformat_minor": 0,
  "metadata": {
    "colab": {
      "name": "datetime13.ipynb",
      "provenance": [],
      "authorship_tag": "ABX9TyNxN5QwhL7nsM7mK+WxPNrt",
      "include_colab_link": true
    },
    "kernelspec": {
      "name": "python3",
      "display_name": "Python 3"
    },
    "language_info": {
      "name": "python"
    }
  },
  "cells": [
    {
      "cell_type": "markdown",
      "metadata": {
        "id": "view-in-github",
        "colab_type": "text"
      },
      "source": [
        "<a href=\"https://colab.research.google.com/github/NPSoto/PandasMastery/blob/main/datetime13.ipynb\" target=\"_parent\"><img src=\"https://colab.research.google.com/assets/colab-badge.svg\" alt=\"Open In Colab\"/></a>"
      ]
    },
    {
      "cell_type": "code",
      "metadata": {
        "colab": {
          "base_uri": "https://localhost:8080/",
          "height": 343
        },
        "id": "7TAflHt570F8",
        "outputId": "5c3ea30a-40dc-49e2-f4c0-9a2de745e044"
      },
      "source": [
        "!pip install --upgrade pandas"
      ],
      "execution_count": 1,
      "outputs": [
        {
          "output_type": "stream",
          "text": [
            "Collecting pandas\n",
            "\u001b[?25l  Downloading https://files.pythonhosted.org/packages/51/51/48f3fc47c4e2144da2806dfb6629c4dd1fa3d5a143f9652b141e979a8ca9/pandas-1.2.4-cp37-cp37m-manylinux1_x86_64.whl (9.9MB)\n",
            "\u001b[K     |████████████████████████████████| 9.9MB 5.4MB/s \n",
            "\u001b[?25hRequirement already satisfied, skipping upgrade: python-dateutil>=2.7.3 in /usr/local/lib/python3.7/dist-packages (from pandas) (2.8.1)\n",
            "Requirement already satisfied, skipping upgrade: numpy>=1.16.5 in /usr/local/lib/python3.7/dist-packages (from pandas) (1.19.5)\n",
            "Requirement already satisfied, skipping upgrade: pytz>=2017.3 in /usr/local/lib/python3.7/dist-packages (from pandas) (2018.9)\n",
            "Requirement already satisfied, skipping upgrade: six>=1.5 in /usr/local/lib/python3.7/dist-packages (from python-dateutil>=2.7.3->pandas) (1.15.0)\n",
            "\u001b[31mERROR: google-colab 1.0.0 has requirement pandas~=1.1.0; python_version >= \"3.0\", but you'll have pandas 1.2.4 which is incompatible.\u001b[0m\n",
            "Installing collected packages: pandas\n",
            "  Found existing installation: pandas 1.1.5\n",
            "    Uninstalling pandas-1.1.5:\n",
            "      Successfully uninstalled pandas-1.1.5\n",
            "Successfully installed pandas-1.2.4\n"
          ],
          "name": "stdout"
        },
        {
          "output_type": "display_data",
          "data": {
            "application/vnd.colab-display-data+json": {
              "pip_warning": {
                "packages": [
                  "pandas"
                ]
              }
            }
          },
          "metadata": {
            "tags": []
          }
        }
      ]
    },
    {
      "cell_type": "code",
      "metadata": {
        "colab": {
          "base_uri": "https://localhost:8080/",
          "height": 35
        },
        "id": "T6QWg14i77yU",
        "outputId": "919797b3-00a7-4552-9ab4-2680ecd74e81"
      },
      "source": [
        "import pandas as pd\n",
        "pd.__version__"
      ],
      "execution_count": 1,
      "outputs": [
        {
          "output_type": "execute_result",
          "data": {
            "application/vnd.google.colaboratory.intrinsic+json": {
              "type": "string"
            },
            "text/plain": [
              "'1.2.4'"
            ]
          },
          "metadata": {
            "tags": []
          },
          "execution_count": 1
        }
      ]
    },
    {
      "cell_type": "code",
      "metadata": {
        "colab": {
          "base_uri": "https://localhost:8080/"
        },
        "id": "9ASrlPol8Krh",
        "outputId": "fac59d1f-84f0-48d3-f07c-754c62b15186"
      },
      "source": [
        "from google.colab import drive\n",
        "drive.mount('/content/drive')"
      ],
      "execution_count": 2,
      "outputs": [
        {
          "output_type": "stream",
          "text": [
            "Mounted at /content/drive\n"
          ],
          "name": "stdout"
        }
      ]
    },
    {
      "cell_type": "code",
      "metadata": {
        "colab": {
          "base_uri": "https://localhost:8080/"
        },
        "id": "9_Z1vTz18fG1",
        "outputId": "a2e1036b-002c-4fca-ea02-bbac9cf75919"
      },
      "source": [
        "%cd '/content/drive/My Drive/Pandas y Python/db'\n",
        "!ls"
      ],
      "execution_count": 4,
      "outputs": [
        {
          "output_type": "stream",
          "text": [
            "/content/drive/My Drive/Pandas y Python/db\n",
            "'Copia de API_AG.LND.AGRI.K2_DS2_en_csv_v2_716226.csv'\n",
            "'Copia de API_AG.LND.FRST.K2_DS2_en_csv_v2_716262.csv'\n",
            "'Copia de API_EG.USE.ELEC.KH.PC_DS2_en_csv_v2_715482.csv'\n",
            "'Copia de API_EN.ATM.CO2E.KT_DS2_en_csv_v2_713263.csv'\n",
            "'Copia de API_SP.POP.TOTL_DS2_en_csv_v2_713131.csv'\n",
            "'Copia de flights.db'\n",
            "'Copia de GlobalLandTemperaturesByCountry.csv'\n",
            "'Copia de test.csv'\n",
            "'Copia de test.hdf'\n",
            "'Copia de test.json'\n",
            "'Copia de test.parquet'\n",
            "'Copia de test.pkl'\n",
            "'Copia de test.xlsx'\n",
            " covid_19_data.csv\n",
            " london_merged.csv\n",
            " Meteorite_Landings.csv\n",
            " poblacion.csv\n"
          ],
          "name": "stdout"
        }
      ]
    },
    {
      "cell_type": "code",
      "metadata": {
        "colab": {
          "base_uri": "https://localhost:8080/",
          "height": 566
        },
        "id": "jv7XEnyk80Sc",
        "outputId": "1734a879-19f8-4307-a788-7fceccaa4a5b"
      },
      "source": [
        "df = pd.read_csv('covid_19_data.csv')\n",
        "df.sample(10)\n"
      ],
      "execution_count": 7,
      "outputs": [
        {
          "output_type": "execute_result",
          "data": {
            "text/html": [
              "<div>\n",
              "<style scoped>\n",
              "    .dataframe tbody tr th:only-of-type {\n",
              "        vertical-align: middle;\n",
              "    }\n",
              "\n",
              "    .dataframe tbody tr th {\n",
              "        vertical-align: top;\n",
              "    }\n",
              "\n",
              "    .dataframe thead th {\n",
              "        text-align: right;\n",
              "    }\n",
              "</style>\n",
              "<table border=\"1\" class=\"dataframe\">\n",
              "  <thead>\n",
              "    <tr style=\"text-align: right;\">\n",
              "      <th></th>\n",
              "      <th>SNo</th>\n",
              "      <th>ObservationDate</th>\n",
              "      <th>Province/State</th>\n",
              "      <th>Country/Region</th>\n",
              "      <th>Last Update</th>\n",
              "      <th>Confirmed</th>\n",
              "      <th>Deaths</th>\n",
              "      <th>Recovered</th>\n",
              "    </tr>\n",
              "  </thead>\n",
              "  <tbody>\n",
              "    <tr>\n",
              "      <th>1499</th>\n",
              "      <td>1500</td>\n",
              "      <td>02/15/2020</td>\n",
              "      <td>Shandong</td>\n",
              "      <td>Mainland China</td>\n",
              "      <td>2020-02-15T11:23:17</td>\n",
              "      <td>532.0</td>\n",
              "      <td>2.0</td>\n",
              "      <td>156.0</td>\n",
              "    </tr>\n",
              "    <tr>\n",
              "      <th>1752</th>\n",
              "      <td>1753</td>\n",
              "      <td>02/18/2020</td>\n",
              "      <td>Qinghai</td>\n",
              "      <td>Mainland China</td>\n",
              "      <td>2020-02-18T07:43:02</td>\n",
              "      <td>18.0</td>\n",
              "      <td>0.0</td>\n",
              "      <td>15.0</td>\n",
              "    </tr>\n",
              "    <tr>\n",
              "      <th>2745</th>\n",
              "      <td>2746</td>\n",
              "      <td>02/29/2020</td>\n",
              "      <td>NaN</td>\n",
              "      <td>United Arab Emirates</td>\n",
              "      <td>2020-02-29T12:33:03</td>\n",
              "      <td>21.0</td>\n",
              "      <td>0.0</td>\n",
              "      <td>5.0</td>\n",
              "    </tr>\n",
              "    <tr>\n",
              "      <th>1172</th>\n",
              "      <td>1173</td>\n",
              "      <td>02/10/2020</td>\n",
              "      <td>NaN</td>\n",
              "      <td>Italy</td>\n",
              "      <td>2020-02-07T17:53:02</td>\n",
              "      <td>3.0</td>\n",
              "      <td>0.0</td>\n",
              "      <td>0.0</td>\n",
              "    </tr>\n",
              "    <tr>\n",
              "      <th>384</th>\n",
              "      <td>385</td>\n",
              "      <td>01/30/2020</td>\n",
              "      <td>Beijing</td>\n",
              "      <td>Mainland China</td>\n",
              "      <td>1/30/20 16:00</td>\n",
              "      <td>114.0</td>\n",
              "      <td>1.0</td>\n",
              "      <td>4.0</td>\n",
              "    </tr>\n",
              "    <tr>\n",
              "      <th>1209</th>\n",
              "      <td>1210</td>\n",
              "      <td>02/11/2020</td>\n",
              "      <td>Fujian</td>\n",
              "      <td>Mainland China</td>\n",
              "      <td>2020-02-11T14:03:05</td>\n",
              "      <td>267.0</td>\n",
              "      <td>0.0</td>\n",
              "      <td>45.0</td>\n",
              "    </tr>\n",
              "    <tr>\n",
              "      <th>2285</th>\n",
              "      <td>2286</td>\n",
              "      <td>02/25/2020</td>\n",
              "      <td>Hubei</td>\n",
              "      <td>Mainland China</td>\n",
              "      <td>2020-02-25T15:23:04</td>\n",
              "      <td>64786.0</td>\n",
              "      <td>2563.0</td>\n",
              "      <td>18971.0</td>\n",
              "    </tr>\n",
              "    <tr>\n",
              "      <th>1999</th>\n",
              "      <td>2000</td>\n",
              "      <td>02/21/2020</td>\n",
              "      <td>NaN</td>\n",
              "      <td>Russia</td>\n",
              "      <td>2020-02-12T14:43:03</td>\n",
              "      <td>2.0</td>\n",
              "      <td>0.0</td>\n",
              "      <td>2.0</td>\n",
              "    </tr>\n",
              "    <tr>\n",
              "      <th>2001</th>\n",
              "      <td>2002</td>\n",
              "      <td>02/21/2020</td>\n",
              "      <td>Chicago, IL</td>\n",
              "      <td>US</td>\n",
              "      <td>2020-02-09T19:03:03</td>\n",
              "      <td>2.0</td>\n",
              "      <td>0.0</td>\n",
              "      <td>2.0</td>\n",
              "    </tr>\n",
              "    <tr>\n",
              "      <th>538</th>\n",
              "      <td>539</td>\n",
              "      <td>02/01/2020</td>\n",
              "      <td>Ontario</td>\n",
              "      <td>Canada</td>\n",
              "      <td>2/1/2020 18:12</td>\n",
              "      <td>3.0</td>\n",
              "      <td>0.0</td>\n",
              "      <td>0.0</td>\n",
              "    </tr>\n",
              "  </tbody>\n",
              "</table>\n",
              "</div>"
            ],
            "text/plain": [
              "       SNo ObservationDate Province/State  ... Confirmed  Deaths  Recovered\n",
              "1499  1500      02/15/2020       Shandong  ...     532.0     2.0      156.0\n",
              "1752  1753      02/18/2020        Qinghai  ...      18.0     0.0       15.0\n",
              "2745  2746      02/29/2020            NaN  ...      21.0     0.0        5.0\n",
              "1172  1173      02/10/2020            NaN  ...       3.0     0.0        0.0\n",
              "384    385      01/30/2020        Beijing  ...     114.0     1.0        4.0\n",
              "1209  1210      02/11/2020         Fujian  ...     267.0     0.0       45.0\n",
              "2285  2286      02/25/2020          Hubei  ...   64786.0  2563.0    18971.0\n",
              "1999  2000      02/21/2020            NaN  ...       2.0     0.0        2.0\n",
              "2001  2002      02/21/2020    Chicago, IL  ...       2.0     0.0        2.0\n",
              "538    539      02/01/2020        Ontario  ...       3.0     0.0        0.0\n",
              "\n",
              "[10 rows x 8 columns]"
            ]
          },
          "metadata": {
            "tags": []
          },
          "execution_count": 7
        }
      ]
    },
    {
      "cell_type": "code",
      "metadata": {
        "id": "GXzKC1e59Un5"
      },
      "source": [
        "df['ObservationDate'] = pd.to_datetime(df['ObservationDate'])"
      ],
      "execution_count": 8,
      "outputs": []
    },
    {
      "cell_type": "code",
      "metadata": {
        "colab": {
          "base_uri": "https://localhost:8080/"
        },
        "id": "dTujRNwX9vI3",
        "outputId": "dc81ee8b-d5da-4525-fc2d-f66f8aab7e1a"
      },
      "source": [
        "list(df)"
      ],
      "execution_count": 9,
      "outputs": [
        {
          "output_type": "execute_result",
          "data": {
            "text/plain": [
              "['SNo',\n",
              " 'ObservationDate',\n",
              " 'Province/State',\n",
              " 'Country/Region',\n",
              " 'Last Update',\n",
              " 'Confirmed',\n",
              " 'Deaths',\n",
              " 'Recovered']"
            ]
          },
          "metadata": {
            "tags": []
          },
          "execution_count": 9
        }
      ]
    },
    {
      "cell_type": "code",
      "metadata": {
        "colab": {
          "base_uri": "https://localhost:8080/",
          "height": 419
        },
        "id": "7-yFzLjd90Lp",
        "outputId": "49bbf8de-efeb-4110-d20f-bf17b4d698da"
      },
      "source": [
        "df = df[[\n",
        "  'ObservationDate',\n",
        "  'Country/Region',\n",
        "  'Confirmed',\n",
        "  'Deaths',\n",
        "  'Recovered']]\n",
        "df"
      ],
      "execution_count": 11,
      "outputs": [
        {
          "output_type": "execute_result",
          "data": {
            "text/html": [
              "<div>\n",
              "<style scoped>\n",
              "    .dataframe tbody tr th:only-of-type {\n",
              "        vertical-align: middle;\n",
              "    }\n",
              "\n",
              "    .dataframe tbody tr th {\n",
              "        vertical-align: top;\n",
              "    }\n",
              "\n",
              "    .dataframe thead th {\n",
              "        text-align: right;\n",
              "    }\n",
              "</style>\n",
              "<table border=\"1\" class=\"dataframe\">\n",
              "  <thead>\n",
              "    <tr style=\"text-align: right;\">\n",
              "      <th></th>\n",
              "      <th>ObservationDate</th>\n",
              "      <th>Country/Region</th>\n",
              "      <th>Confirmed</th>\n",
              "      <th>Deaths</th>\n",
              "      <th>Recovered</th>\n",
              "    </tr>\n",
              "  </thead>\n",
              "  <tbody>\n",
              "    <tr>\n",
              "      <th>0</th>\n",
              "      <td>2020-01-22</td>\n",
              "      <td>Mainland China</td>\n",
              "      <td>1.0</td>\n",
              "      <td>0.0</td>\n",
              "      <td>0.0</td>\n",
              "    </tr>\n",
              "    <tr>\n",
              "      <th>1</th>\n",
              "      <td>2020-01-22</td>\n",
              "      <td>Mainland China</td>\n",
              "      <td>14.0</td>\n",
              "      <td>0.0</td>\n",
              "      <td>0.0</td>\n",
              "    </tr>\n",
              "    <tr>\n",
              "      <th>2</th>\n",
              "      <td>2020-01-22</td>\n",
              "      <td>Mainland China</td>\n",
              "      <td>6.0</td>\n",
              "      <td>0.0</td>\n",
              "      <td>0.0</td>\n",
              "    </tr>\n",
              "    <tr>\n",
              "      <th>3</th>\n",
              "      <td>2020-01-22</td>\n",
              "      <td>Mainland China</td>\n",
              "      <td>1.0</td>\n",
              "      <td>0.0</td>\n",
              "      <td>0.0</td>\n",
              "    </tr>\n",
              "    <tr>\n",
              "      <th>4</th>\n",
              "      <td>2020-01-22</td>\n",
              "      <td>Mainland China</td>\n",
              "      <td>0.0</td>\n",
              "      <td>0.0</td>\n",
              "      <td>0.0</td>\n",
              "    </tr>\n",
              "    <tr>\n",
              "      <th>...</th>\n",
              "      <td>...</td>\n",
              "      <td>...</td>\n",
              "      <td>...</td>\n",
              "      <td>...</td>\n",
              "      <td>...</td>\n",
              "    </tr>\n",
              "    <tr>\n",
              "      <th>3390</th>\n",
              "      <td>2020-03-04</td>\n",
              "      <td>Ukraine</td>\n",
              "      <td>1.0</td>\n",
              "      <td>0.0</td>\n",
              "      <td>0.0</td>\n",
              "    </tr>\n",
              "    <tr>\n",
              "      <th>3391</th>\n",
              "      <td>2020-03-04</td>\n",
              "      <td>Australia</td>\n",
              "      <td>0.0</td>\n",
              "      <td>0.0</td>\n",
              "      <td>0.0</td>\n",
              "    </tr>\n",
              "    <tr>\n",
              "      <th>3392</th>\n",
              "      <td>2020-03-04</td>\n",
              "      <td>US</td>\n",
              "      <td>0.0</td>\n",
              "      <td>0.0</td>\n",
              "      <td>0.0</td>\n",
              "    </tr>\n",
              "    <tr>\n",
              "      <th>3393</th>\n",
              "      <td>2020-03-04</td>\n",
              "      <td>US</td>\n",
              "      <td>0.0</td>\n",
              "      <td>0.0</td>\n",
              "      <td>0.0</td>\n",
              "    </tr>\n",
              "    <tr>\n",
              "      <th>3394</th>\n",
              "      <td>2020-03-04</td>\n",
              "      <td>US</td>\n",
              "      <td>0.0</td>\n",
              "      <td>0.0</td>\n",
              "      <td>0.0</td>\n",
              "    </tr>\n",
              "  </tbody>\n",
              "</table>\n",
              "<p>3395 rows × 5 columns</p>\n",
              "</div>"
            ],
            "text/plain": [
              "     ObservationDate  Country/Region  Confirmed  Deaths  Recovered\n",
              "0         2020-01-22  Mainland China        1.0     0.0        0.0\n",
              "1         2020-01-22  Mainland China       14.0     0.0        0.0\n",
              "2         2020-01-22  Mainland China        6.0     0.0        0.0\n",
              "3         2020-01-22  Mainland China        1.0     0.0        0.0\n",
              "4         2020-01-22  Mainland China        0.0     0.0        0.0\n",
              "...              ...             ...        ...     ...        ...\n",
              "3390      2020-03-04         Ukraine        1.0     0.0        0.0\n",
              "3391      2020-03-04       Australia        0.0     0.0        0.0\n",
              "3392      2020-03-04              US        0.0     0.0        0.0\n",
              "3393      2020-03-04              US        0.0     0.0        0.0\n",
              "3394      2020-03-04              US        0.0     0.0        0.0\n",
              "\n",
              "[3395 rows x 5 columns]"
            ]
          },
          "metadata": {
            "tags": []
          },
          "execution_count": 11
        }
      ]
    },
    {
      "cell_type": "code",
      "metadata": {
        "colab": {
          "base_uri": "https://localhost:8080/",
          "height": 235
        },
        "id": "kfHKC2Eb-Woo",
        "outputId": "71ec7286-268d-4049-affc-2c7c13c6e94b"
      },
      "source": [
        "df_time = df.groupby('ObservationDate').sum()\n",
        "df_time.head(5)"
      ],
      "execution_count": 13,
      "outputs": [
        {
          "output_type": "execute_result",
          "data": {
            "text/html": [
              "<div>\n",
              "<style scoped>\n",
              "    .dataframe tbody tr th:only-of-type {\n",
              "        vertical-align: middle;\n",
              "    }\n",
              "\n",
              "    .dataframe tbody tr th {\n",
              "        vertical-align: top;\n",
              "    }\n",
              "\n",
              "    .dataframe thead th {\n",
              "        text-align: right;\n",
              "    }\n",
              "</style>\n",
              "<table border=\"1\" class=\"dataframe\">\n",
              "  <thead>\n",
              "    <tr style=\"text-align: right;\">\n",
              "      <th></th>\n",
              "      <th>Confirmed</th>\n",
              "      <th>Deaths</th>\n",
              "      <th>Recovered</th>\n",
              "    </tr>\n",
              "    <tr>\n",
              "      <th>ObservationDate</th>\n",
              "      <th></th>\n",
              "      <th></th>\n",
              "      <th></th>\n",
              "    </tr>\n",
              "  </thead>\n",
              "  <tbody>\n",
              "    <tr>\n",
              "      <th>2020-01-22</th>\n",
              "      <td>555.0</td>\n",
              "      <td>17.0</td>\n",
              "      <td>28.0</td>\n",
              "    </tr>\n",
              "    <tr>\n",
              "      <th>2020-01-23</th>\n",
              "      <td>653.0</td>\n",
              "      <td>18.0</td>\n",
              "      <td>30.0</td>\n",
              "    </tr>\n",
              "    <tr>\n",
              "      <th>2020-01-24</th>\n",
              "      <td>941.0</td>\n",
              "      <td>26.0</td>\n",
              "      <td>36.0</td>\n",
              "    </tr>\n",
              "    <tr>\n",
              "      <th>2020-01-25</th>\n",
              "      <td>1438.0</td>\n",
              "      <td>42.0</td>\n",
              "      <td>39.0</td>\n",
              "    </tr>\n",
              "    <tr>\n",
              "      <th>2020-01-26</th>\n",
              "      <td>2118.0</td>\n",
              "      <td>56.0</td>\n",
              "      <td>52.0</td>\n",
              "    </tr>\n",
              "  </tbody>\n",
              "</table>\n",
              "</div>"
            ],
            "text/plain": [
              "                 Confirmed  Deaths  Recovered\n",
              "ObservationDate                              \n",
              "2020-01-22           555.0    17.0       28.0\n",
              "2020-01-23           653.0    18.0       30.0\n",
              "2020-01-24           941.0    26.0       36.0\n",
              "2020-01-25          1438.0    42.0       39.0\n",
              "2020-01-26          2118.0    56.0       52.0"
            ]
          },
          "metadata": {
            "tags": []
          },
          "execution_count": 13
        }
      ]
    },
    {
      "cell_type": "code",
      "metadata": {
        "colab": {
          "base_uri": "https://localhost:8080/"
        },
        "id": "uaXUYQAb-rSV",
        "outputId": "22c62925-f18e-4733-ec5b-52f223ef71bb"
      },
      "source": [
        "df1 = df_time['Confirmed'].iloc[10:15]\n",
        "df1"
      ],
      "execution_count": 14,
      "outputs": [
        {
          "output_type": "execute_result",
          "data": {
            "text/plain": [
              "ObservationDate\n",
              "2020-02-01    12038.0\n",
              "2020-02-02    16787.0\n",
              "2020-02-03    19881.0\n",
              "2020-02-04    23892.0\n",
              "2020-02-05    27636.0\n",
              "Name: Confirmed, dtype: float64"
            ]
          },
          "metadata": {
            "tags": []
          },
          "execution_count": 14
        }
      ]
    },
    {
      "cell_type": "code",
      "metadata": {
        "colab": {
          "base_uri": "https://localhost:8080/"
        },
        "id": "r_gE4OMn_JH3",
        "outputId": "6f7743c4-e3a3-43a2-b2d1-7f84d0f50e39"
      },
      "source": [
        "df2 = df_time['Deaths'].iloc[12:17]\n",
        "df2"
      ],
      "execution_count": 15,
      "outputs": [
        {
          "output_type": "execute_result",
          "data": {
            "text/plain": [
              "ObservationDate\n",
              "2020-02-03    426.0\n",
              "2020-02-04    492.0\n",
              "2020-02-05    564.0\n",
              "2020-02-06    634.0\n",
              "2020-02-07    719.0\n",
              "Name: Deaths, dtype: float64"
            ]
          },
          "metadata": {
            "tags": []
          },
          "execution_count": 15
        }
      ]
    },
    {
      "cell_type": "code",
      "metadata": {
        "colab": {
          "base_uri": "https://localhost:8080/"
        },
        "id": "yq4dYIiB_VM6",
        "outputId": "70361dee-e3f5-4b10-c12c-66d119046ab4"
      },
      "source": [
        "df1 - df2"
      ],
      "execution_count": 16,
      "outputs": [
        {
          "output_type": "execute_result",
          "data": {
            "text/plain": [
              "ObservationDate\n",
              "2020-02-01        NaN\n",
              "2020-02-02        NaN\n",
              "2020-02-03    19455.0\n",
              "2020-02-04    23400.0\n",
              "2020-02-05    27072.0\n",
              "2020-02-06        NaN\n",
              "2020-02-07        NaN\n",
              "dtype: float64"
            ]
          },
          "metadata": {
            "tags": []
          },
          "execution_count": 16
        }
      ]
    },
    {
      "cell_type": "code",
      "metadata": {
        "colab": {
          "base_uri": "https://localhost:8080/",
          "height": 1000
        },
        "id": "ewfu_zD1_eqc",
        "outputId": "02bba1c4-dcf6-4a0d-d18b-ef94446ae2eb"
      },
      "source": [
        "df_diff = df_time.diff()\n",
        "df_diff"
      ],
      "execution_count": 20,
      "outputs": [
        {
          "output_type": "execute_result",
          "data": {
            "text/html": [
              "<div>\n",
              "<style scoped>\n",
              "    .dataframe tbody tr th:only-of-type {\n",
              "        vertical-align: middle;\n",
              "    }\n",
              "\n",
              "    .dataframe tbody tr th {\n",
              "        vertical-align: top;\n",
              "    }\n",
              "\n",
              "    .dataframe thead th {\n",
              "        text-align: right;\n",
              "    }\n",
              "</style>\n",
              "<table border=\"1\" class=\"dataframe\">\n",
              "  <thead>\n",
              "    <tr style=\"text-align: right;\">\n",
              "      <th></th>\n",
              "      <th>Confirmed</th>\n",
              "      <th>Deaths</th>\n",
              "      <th>Recovered</th>\n",
              "    </tr>\n",
              "    <tr>\n",
              "      <th>ObservationDate</th>\n",
              "      <th></th>\n",
              "      <th></th>\n",
              "      <th></th>\n",
              "    </tr>\n",
              "  </thead>\n",
              "  <tbody>\n",
              "    <tr>\n",
              "      <th>2020-01-22</th>\n",
              "      <td>NaN</td>\n",
              "      <td>NaN</td>\n",
              "      <td>NaN</td>\n",
              "    </tr>\n",
              "    <tr>\n",
              "      <th>2020-01-23</th>\n",
              "      <td>98.0</td>\n",
              "      <td>1.0</td>\n",
              "      <td>2.0</td>\n",
              "    </tr>\n",
              "    <tr>\n",
              "      <th>2020-01-24</th>\n",
              "      <td>288.0</td>\n",
              "      <td>8.0</td>\n",
              "      <td>6.0</td>\n",
              "    </tr>\n",
              "    <tr>\n",
              "      <th>2020-01-25</th>\n",
              "      <td>497.0</td>\n",
              "      <td>16.0</td>\n",
              "      <td>3.0</td>\n",
              "    </tr>\n",
              "    <tr>\n",
              "      <th>2020-01-26</th>\n",
              "      <td>680.0</td>\n",
              "      <td>14.0</td>\n",
              "      <td>13.0</td>\n",
              "    </tr>\n",
              "    <tr>\n",
              "      <th>2020-01-27</th>\n",
              "      <td>809.0</td>\n",
              "      <td>26.0</td>\n",
              "      <td>9.0</td>\n",
              "    </tr>\n",
              "    <tr>\n",
              "      <th>2020-01-28</th>\n",
              "      <td>2651.0</td>\n",
              "      <td>49.0</td>\n",
              "      <td>46.0</td>\n",
              "    </tr>\n",
              "    <tr>\n",
              "      <th>2020-01-29</th>\n",
              "      <td>587.0</td>\n",
              "      <td>2.0</td>\n",
              "      <td>19.0</td>\n",
              "    </tr>\n",
              "    <tr>\n",
              "      <th>2020-01-30</th>\n",
              "      <td>2070.0</td>\n",
              "      <td>38.0</td>\n",
              "      <td>17.0</td>\n",
              "    </tr>\n",
              "    <tr>\n",
              "      <th>2020-01-31</th>\n",
              "      <td>1690.0</td>\n",
              "      <td>42.0</td>\n",
              "      <td>79.0</td>\n",
              "    </tr>\n",
              "    <tr>\n",
              "      <th>2020-02-01</th>\n",
              "      <td>2113.0</td>\n",
              "      <td>46.0</td>\n",
              "      <td>62.0</td>\n",
              "    </tr>\n",
              "    <tr>\n",
              "      <th>2020-02-02</th>\n",
              "      <td>4749.0</td>\n",
              "      <td>103.0</td>\n",
              "      <td>188.0</td>\n",
              "    </tr>\n",
              "    <tr>\n",
              "      <th>2020-02-03</th>\n",
              "      <td>3094.0</td>\n",
              "      <td>64.0</td>\n",
              "      <td>151.0</td>\n",
              "    </tr>\n",
              "    <tr>\n",
              "      <th>2020-02-04</th>\n",
              "      <td>4011.0</td>\n",
              "      <td>66.0</td>\n",
              "      <td>229.0</td>\n",
              "    </tr>\n",
              "    <tr>\n",
              "      <th>2020-02-05</th>\n",
              "      <td>3744.0</td>\n",
              "      <td>72.0</td>\n",
              "      <td>272.0</td>\n",
              "    </tr>\n",
              "    <tr>\n",
              "      <th>2020-02-06</th>\n",
              "      <td>3182.0</td>\n",
              "      <td>70.0</td>\n",
              "      <td>363.0</td>\n",
              "    </tr>\n",
              "    <tr>\n",
              "      <th>2020-02-07</th>\n",
              "      <td>3574.0</td>\n",
              "      <td>85.0</td>\n",
              "      <td>524.0</td>\n",
              "    </tr>\n",
              "    <tr>\n",
              "      <th>2020-02-08</th>\n",
              "      <td>2729.0</td>\n",
              "      <td>87.0</td>\n",
              "      <td>605.0</td>\n",
              "    </tr>\n",
              "    <tr>\n",
              "      <th>2020-02-09</th>\n",
              "      <td>3030.0</td>\n",
              "      <td>100.0</td>\n",
              "      <td>628.0</td>\n",
              "    </tr>\n",
              "    <tr>\n",
              "      <th>2020-02-10</th>\n",
              "      <td>2612.0</td>\n",
              "      <td>107.0</td>\n",
              "      <td>702.0</td>\n",
              "    </tr>\n",
              "    <tr>\n",
              "      <th>2020-02-11</th>\n",
              "      <td>2040.0</td>\n",
              "      <td>100.0</td>\n",
              "      <td>737.0</td>\n",
              "    </tr>\n",
              "    <tr>\n",
              "      <th>2020-02-12</th>\n",
              "      <td>419.0</td>\n",
              "      <td>5.0</td>\n",
              "      <td>467.0</td>\n",
              "    </tr>\n",
              "    <tr>\n",
              "      <th>2020-02-13</th>\n",
              "      <td>15148.0</td>\n",
              "      <td>253.0</td>\n",
              "      <td>1145.0</td>\n",
              "    </tr>\n",
              "    <tr>\n",
              "      <th>2020-02-14</th>\n",
              "      <td>6517.0</td>\n",
              "      <td>152.0</td>\n",
              "      <td>1763.0</td>\n",
              "    </tr>\n",
              "    <tr>\n",
              "      <th>2020-02-15</th>\n",
              "      <td>2145.0</td>\n",
              "      <td>143.0</td>\n",
              "      <td>1337.0</td>\n",
              "    </tr>\n",
              "    <tr>\n",
              "      <th>2020-02-16</th>\n",
              "      <td>2194.0</td>\n",
              "      <td>104.0</td>\n",
              "      <td>1470.0</td>\n",
              "    </tr>\n",
              "    <tr>\n",
              "      <th>2020-02-17</th>\n",
              "      <td>2034.0</td>\n",
              "      <td>98.0</td>\n",
              "      <td>1718.0</td>\n",
              "    </tr>\n",
              "    <tr>\n",
              "      <th>2020-02-18</th>\n",
              "      <td>1878.0</td>\n",
              "      <td>139.0</td>\n",
              "      <td>1769.0</td>\n",
              "    </tr>\n",
              "    <tr>\n",
              "      <th>2020-02-19</th>\n",
              "      <td>503.0</td>\n",
              "      <td>115.0</td>\n",
              "      <td>1769.0</td>\n",
              "    </tr>\n",
              "    <tr>\n",
              "      <th>2020-02-20</th>\n",
              "      <td>558.0</td>\n",
              "      <td>125.0</td>\n",
              "      <td>2056.0</td>\n",
              "    </tr>\n",
              "    <tr>\n",
              "      <th>2020-02-21</th>\n",
              "      <td>644.0</td>\n",
              "      <td>4.0</td>\n",
              "      <td>713.0</td>\n",
              "    </tr>\n",
              "    <tr>\n",
              "      <th>2020-02-22</th>\n",
              "      <td>1756.0</td>\n",
              "      <td>207.0</td>\n",
              "      <td>3996.0</td>\n",
              "    </tr>\n",
              "    <tr>\n",
              "      <th>2020-02-23</th>\n",
              "      <td>386.0</td>\n",
              "      <td>11.0</td>\n",
              "      <td>508.0</td>\n",
              "    </tr>\n",
              "    <tr>\n",
              "      <th>2020-02-24</th>\n",
              "      <td>585.0</td>\n",
              "      <td>160.0</td>\n",
              "      <td>1833.0</td>\n",
              "    </tr>\n",
              "    <tr>\n",
              "      <th>2020-02-25</th>\n",
              "      <td>845.0</td>\n",
              "      <td>79.0</td>\n",
              "      <td>2678.0</td>\n",
              "    </tr>\n",
              "    <tr>\n",
              "      <th>2020-02-26</th>\n",
              "      <td>982.0</td>\n",
              "      <td>62.0</td>\n",
              "      <td>2479.0</td>\n",
              "    </tr>\n",
              "    <tr>\n",
              "      <th>2020-02-27</th>\n",
              "      <td>1359.0</td>\n",
              "      <td>44.0</td>\n",
              "      <td>2893.0</td>\n",
              "    </tr>\n",
              "    <tr>\n",
              "      <th>2020-02-28</th>\n",
              "      <td>1368.0</td>\n",
              "      <td>58.0</td>\n",
              "      <td>3434.0</td>\n",
              "    </tr>\n",
              "    <tr>\n",
              "      <th>2020-02-29</th>\n",
              "      <td>1889.0</td>\n",
              "      <td>69.0</td>\n",
              "      <td>3071.0</td>\n",
              "    </tr>\n",
              "    <tr>\n",
              "      <th>2020-03-01</th>\n",
              "      <td>2358.0</td>\n",
              "      <td>55.0</td>\n",
              "      <td>2934.0</td>\n",
              "    </tr>\n",
              "    <tr>\n",
              "      <th>2020-03-02</th>\n",
              "      <td>1938.0</td>\n",
              "      <td>89.0</td>\n",
              "      <td>2886.0</td>\n",
              "    </tr>\n",
              "    <tr>\n",
              "      <th>2020-03-03</th>\n",
              "      <td>2535.0</td>\n",
              "      <td>75.0</td>\n",
              "      <td>2627.0</td>\n",
              "    </tr>\n",
              "    <tr>\n",
              "      <th>2020-03-04</th>\n",
              "      <td>2280.0</td>\n",
              "      <td>94.0</td>\n",
              "      <td>2942.0</td>\n",
              "    </tr>\n",
              "  </tbody>\n",
              "</table>\n",
              "</div>"
            ],
            "text/plain": [
              "                 Confirmed  Deaths  Recovered\n",
              "ObservationDate                              \n",
              "2020-01-22             NaN     NaN        NaN\n",
              "2020-01-23            98.0     1.0        2.0\n",
              "2020-01-24           288.0     8.0        6.0\n",
              "2020-01-25           497.0    16.0        3.0\n",
              "2020-01-26           680.0    14.0       13.0\n",
              "2020-01-27           809.0    26.0        9.0\n",
              "2020-01-28          2651.0    49.0       46.0\n",
              "2020-01-29           587.0     2.0       19.0\n",
              "2020-01-30          2070.0    38.0       17.0\n",
              "2020-01-31          1690.0    42.0       79.0\n",
              "2020-02-01          2113.0    46.0       62.0\n",
              "2020-02-02          4749.0   103.0      188.0\n",
              "2020-02-03          3094.0    64.0      151.0\n",
              "2020-02-04          4011.0    66.0      229.0\n",
              "2020-02-05          3744.0    72.0      272.0\n",
              "2020-02-06          3182.0    70.0      363.0\n",
              "2020-02-07          3574.0    85.0      524.0\n",
              "2020-02-08          2729.0    87.0      605.0\n",
              "2020-02-09          3030.0   100.0      628.0\n",
              "2020-02-10          2612.0   107.0      702.0\n",
              "2020-02-11          2040.0   100.0      737.0\n",
              "2020-02-12           419.0     5.0      467.0\n",
              "2020-02-13         15148.0   253.0     1145.0\n",
              "2020-02-14          6517.0   152.0     1763.0\n",
              "2020-02-15          2145.0   143.0     1337.0\n",
              "2020-02-16          2194.0   104.0     1470.0\n",
              "2020-02-17          2034.0    98.0     1718.0\n",
              "2020-02-18          1878.0   139.0     1769.0\n",
              "2020-02-19           503.0   115.0     1769.0\n",
              "2020-02-20           558.0   125.0     2056.0\n",
              "2020-02-21           644.0     4.0      713.0\n",
              "2020-02-22          1756.0   207.0     3996.0\n",
              "2020-02-23           386.0    11.0      508.0\n",
              "2020-02-24           585.0   160.0     1833.0\n",
              "2020-02-25           845.0    79.0     2678.0\n",
              "2020-02-26           982.0    62.0     2479.0\n",
              "2020-02-27          1359.0    44.0     2893.0\n",
              "2020-02-28          1368.0    58.0     3434.0\n",
              "2020-02-29          1889.0    69.0     3071.0\n",
              "2020-03-01          2358.0    55.0     2934.0\n",
              "2020-03-02          1938.0    89.0     2886.0\n",
              "2020-03-03          2535.0    75.0     2627.0\n",
              "2020-03-04          2280.0    94.0     2942.0"
            ]
          },
          "metadata": {
            "tags": []
          },
          "execution_count": 20
        }
      ]
    },
    {
      "cell_type": "code",
      "metadata": {
        "colab": {
          "base_uri": "https://localhost:8080/"
        },
        "id": "RGxXIJR__v52",
        "outputId": "0a29f241-c9e3-4a0a-a695-f7a97aa2a204"
      },
      "source": [
        "df_time.head(1).to_dict()"
      ],
      "execution_count": 21,
      "outputs": [
        {
          "output_type": "execute_result",
          "data": {
            "text/plain": [
              "{'Confirmed': {Timestamp('2020-01-22 00:00:00'): 555.0},\n",
              " 'Deaths': {Timestamp('2020-01-22 00:00:00'): 17.0},\n",
              " 'Recovered': {Timestamp('2020-01-22 00:00:00'): 28.0}}"
            ]
          },
          "metadata": {
            "tags": []
          },
          "execution_count": 21
        }
      ]
    },
    {
      "cell_type": "code",
      "metadata": {
        "id": "zdzhyve8ALUO"
      },
      "source": [
        "df_diff = df_diff.fillna({'Confirmed': 555.0,\n",
        " 'Deaths': 17.0,\n",
        " 'Recovered': 28.0})"
      ],
      "execution_count": 23,
      "outputs": []
    },
    {
      "cell_type": "code",
      "metadata": {
        "colab": {
          "base_uri": "https://localhost:8080/",
          "height": 1000
        },
        "id": "K9ef5R0qAzyJ",
        "outputId": "d3a00cdd-7d24-4fd1-98cf-c47d31af5ae9"
      },
      "source": [
        "df_diff.cumsum()"
      ],
      "execution_count": 25,
      "outputs": [
        {
          "output_type": "execute_result",
          "data": {
            "text/html": [
              "<div>\n",
              "<style scoped>\n",
              "    .dataframe tbody tr th:only-of-type {\n",
              "        vertical-align: middle;\n",
              "    }\n",
              "\n",
              "    .dataframe tbody tr th {\n",
              "        vertical-align: top;\n",
              "    }\n",
              "\n",
              "    .dataframe thead th {\n",
              "        text-align: right;\n",
              "    }\n",
              "</style>\n",
              "<table border=\"1\" class=\"dataframe\">\n",
              "  <thead>\n",
              "    <tr style=\"text-align: right;\">\n",
              "      <th></th>\n",
              "      <th>Confirmed</th>\n",
              "      <th>Deaths</th>\n",
              "      <th>Recovered</th>\n",
              "    </tr>\n",
              "    <tr>\n",
              "      <th>ObservationDate</th>\n",
              "      <th></th>\n",
              "      <th></th>\n",
              "      <th></th>\n",
              "    </tr>\n",
              "  </thead>\n",
              "  <tbody>\n",
              "    <tr>\n",
              "      <th>2020-01-22</th>\n",
              "      <td>555.0</td>\n",
              "      <td>17.0</td>\n",
              "      <td>28.0</td>\n",
              "    </tr>\n",
              "    <tr>\n",
              "      <th>2020-01-23</th>\n",
              "      <td>653.0</td>\n",
              "      <td>18.0</td>\n",
              "      <td>30.0</td>\n",
              "    </tr>\n",
              "    <tr>\n",
              "      <th>2020-01-24</th>\n",
              "      <td>941.0</td>\n",
              "      <td>26.0</td>\n",
              "      <td>36.0</td>\n",
              "    </tr>\n",
              "    <tr>\n",
              "      <th>2020-01-25</th>\n",
              "      <td>1438.0</td>\n",
              "      <td>42.0</td>\n",
              "      <td>39.0</td>\n",
              "    </tr>\n",
              "    <tr>\n",
              "      <th>2020-01-26</th>\n",
              "      <td>2118.0</td>\n",
              "      <td>56.0</td>\n",
              "      <td>52.0</td>\n",
              "    </tr>\n",
              "    <tr>\n",
              "      <th>2020-01-27</th>\n",
              "      <td>2927.0</td>\n",
              "      <td>82.0</td>\n",
              "      <td>61.0</td>\n",
              "    </tr>\n",
              "    <tr>\n",
              "      <th>2020-01-28</th>\n",
              "      <td>5578.0</td>\n",
              "      <td>131.0</td>\n",
              "      <td>107.0</td>\n",
              "    </tr>\n",
              "    <tr>\n",
              "      <th>2020-01-29</th>\n",
              "      <td>6165.0</td>\n",
              "      <td>133.0</td>\n",
              "      <td>126.0</td>\n",
              "    </tr>\n",
              "    <tr>\n",
              "      <th>2020-01-30</th>\n",
              "      <td>8235.0</td>\n",
              "      <td>171.0</td>\n",
              "      <td>143.0</td>\n",
              "    </tr>\n",
              "    <tr>\n",
              "      <th>2020-01-31</th>\n",
              "      <td>9925.0</td>\n",
              "      <td>213.0</td>\n",
              "      <td>222.0</td>\n",
              "    </tr>\n",
              "    <tr>\n",
              "      <th>2020-02-01</th>\n",
              "      <td>12038.0</td>\n",
              "      <td>259.0</td>\n",
              "      <td>284.0</td>\n",
              "    </tr>\n",
              "    <tr>\n",
              "      <th>2020-02-02</th>\n",
              "      <td>16787.0</td>\n",
              "      <td>362.0</td>\n",
              "      <td>472.0</td>\n",
              "    </tr>\n",
              "    <tr>\n",
              "      <th>2020-02-03</th>\n",
              "      <td>19881.0</td>\n",
              "      <td>426.0</td>\n",
              "      <td>623.0</td>\n",
              "    </tr>\n",
              "    <tr>\n",
              "      <th>2020-02-04</th>\n",
              "      <td>23892.0</td>\n",
              "      <td>492.0</td>\n",
              "      <td>852.0</td>\n",
              "    </tr>\n",
              "    <tr>\n",
              "      <th>2020-02-05</th>\n",
              "      <td>27636.0</td>\n",
              "      <td>564.0</td>\n",
              "      <td>1124.0</td>\n",
              "    </tr>\n",
              "    <tr>\n",
              "      <th>2020-02-06</th>\n",
              "      <td>30818.0</td>\n",
              "      <td>634.0</td>\n",
              "      <td>1487.0</td>\n",
              "    </tr>\n",
              "    <tr>\n",
              "      <th>2020-02-07</th>\n",
              "      <td>34392.0</td>\n",
              "      <td>719.0</td>\n",
              "      <td>2011.0</td>\n",
              "    </tr>\n",
              "    <tr>\n",
              "      <th>2020-02-08</th>\n",
              "      <td>37121.0</td>\n",
              "      <td>806.0</td>\n",
              "      <td>2616.0</td>\n",
              "    </tr>\n",
              "    <tr>\n",
              "      <th>2020-02-09</th>\n",
              "      <td>40151.0</td>\n",
              "      <td>906.0</td>\n",
              "      <td>3244.0</td>\n",
              "    </tr>\n",
              "    <tr>\n",
              "      <th>2020-02-10</th>\n",
              "      <td>42763.0</td>\n",
              "      <td>1013.0</td>\n",
              "      <td>3946.0</td>\n",
              "    </tr>\n",
              "    <tr>\n",
              "      <th>2020-02-11</th>\n",
              "      <td>44803.0</td>\n",
              "      <td>1113.0</td>\n",
              "      <td>4683.0</td>\n",
              "    </tr>\n",
              "    <tr>\n",
              "      <th>2020-02-12</th>\n",
              "      <td>45222.0</td>\n",
              "      <td>1118.0</td>\n",
              "      <td>5150.0</td>\n",
              "    </tr>\n",
              "    <tr>\n",
              "      <th>2020-02-13</th>\n",
              "      <td>60370.0</td>\n",
              "      <td>1371.0</td>\n",
              "      <td>6295.0</td>\n",
              "    </tr>\n",
              "    <tr>\n",
              "      <th>2020-02-14</th>\n",
              "      <td>66887.0</td>\n",
              "      <td>1523.0</td>\n",
              "      <td>8058.0</td>\n",
              "    </tr>\n",
              "    <tr>\n",
              "      <th>2020-02-15</th>\n",
              "      <td>69032.0</td>\n",
              "      <td>1666.0</td>\n",
              "      <td>9395.0</td>\n",
              "    </tr>\n",
              "    <tr>\n",
              "      <th>2020-02-16</th>\n",
              "      <td>71226.0</td>\n",
              "      <td>1770.0</td>\n",
              "      <td>10865.0</td>\n",
              "    </tr>\n",
              "    <tr>\n",
              "      <th>2020-02-17</th>\n",
              "      <td>73260.0</td>\n",
              "      <td>1868.0</td>\n",
              "      <td>12583.0</td>\n",
              "    </tr>\n",
              "    <tr>\n",
              "      <th>2020-02-18</th>\n",
              "      <td>75138.0</td>\n",
              "      <td>2007.0</td>\n",
              "      <td>14352.0</td>\n",
              "    </tr>\n",
              "    <tr>\n",
              "      <th>2020-02-19</th>\n",
              "      <td>75641.0</td>\n",
              "      <td>2122.0</td>\n",
              "      <td>16121.0</td>\n",
              "    </tr>\n",
              "    <tr>\n",
              "      <th>2020-02-20</th>\n",
              "      <td>76199.0</td>\n",
              "      <td>2247.0</td>\n",
              "      <td>18177.0</td>\n",
              "    </tr>\n",
              "    <tr>\n",
              "      <th>2020-02-21</th>\n",
              "      <td>76843.0</td>\n",
              "      <td>2251.0</td>\n",
              "      <td>18890.0</td>\n",
              "    </tr>\n",
              "    <tr>\n",
              "      <th>2020-02-22</th>\n",
              "      <td>78599.0</td>\n",
              "      <td>2458.0</td>\n",
              "      <td>22886.0</td>\n",
              "    </tr>\n",
              "    <tr>\n",
              "      <th>2020-02-23</th>\n",
              "      <td>78985.0</td>\n",
              "      <td>2469.0</td>\n",
              "      <td>23394.0</td>\n",
              "    </tr>\n",
              "    <tr>\n",
              "      <th>2020-02-24</th>\n",
              "      <td>79570.0</td>\n",
              "      <td>2629.0</td>\n",
              "      <td>25227.0</td>\n",
              "    </tr>\n",
              "    <tr>\n",
              "      <th>2020-02-25</th>\n",
              "      <td>80415.0</td>\n",
              "      <td>2708.0</td>\n",
              "      <td>27905.0</td>\n",
              "    </tr>\n",
              "    <tr>\n",
              "      <th>2020-02-26</th>\n",
              "      <td>81397.0</td>\n",
              "      <td>2770.0</td>\n",
              "      <td>30384.0</td>\n",
              "    </tr>\n",
              "    <tr>\n",
              "      <th>2020-02-27</th>\n",
              "      <td>82756.0</td>\n",
              "      <td>2814.0</td>\n",
              "      <td>33277.0</td>\n",
              "    </tr>\n",
              "    <tr>\n",
              "      <th>2020-02-28</th>\n",
              "      <td>84124.0</td>\n",
              "      <td>2872.0</td>\n",
              "      <td>36711.0</td>\n",
              "    </tr>\n",
              "    <tr>\n",
              "      <th>2020-02-29</th>\n",
              "      <td>86013.0</td>\n",
              "      <td>2941.0</td>\n",
              "      <td>39782.0</td>\n",
              "    </tr>\n",
              "    <tr>\n",
              "      <th>2020-03-01</th>\n",
              "      <td>88371.0</td>\n",
              "      <td>2996.0</td>\n",
              "      <td>42716.0</td>\n",
              "    </tr>\n",
              "    <tr>\n",
              "      <th>2020-03-02</th>\n",
              "      <td>90309.0</td>\n",
              "      <td>3085.0</td>\n",
              "      <td>45602.0</td>\n",
              "    </tr>\n",
              "    <tr>\n",
              "      <th>2020-03-03</th>\n",
              "      <td>92844.0</td>\n",
              "      <td>3160.0</td>\n",
              "      <td>48229.0</td>\n",
              "    </tr>\n",
              "    <tr>\n",
              "      <th>2020-03-04</th>\n",
              "      <td>95124.0</td>\n",
              "      <td>3254.0</td>\n",
              "      <td>51171.0</td>\n",
              "    </tr>\n",
              "  </tbody>\n",
              "</table>\n",
              "</div>"
            ],
            "text/plain": [
              "                 Confirmed  Deaths  Recovered\n",
              "ObservationDate                              \n",
              "2020-01-22           555.0    17.0       28.0\n",
              "2020-01-23           653.0    18.0       30.0\n",
              "2020-01-24           941.0    26.0       36.0\n",
              "2020-01-25          1438.0    42.0       39.0\n",
              "2020-01-26          2118.0    56.0       52.0\n",
              "2020-01-27          2927.0    82.0       61.0\n",
              "2020-01-28          5578.0   131.0      107.0\n",
              "2020-01-29          6165.0   133.0      126.0\n",
              "2020-01-30          8235.0   171.0      143.0\n",
              "2020-01-31          9925.0   213.0      222.0\n",
              "2020-02-01         12038.0   259.0      284.0\n",
              "2020-02-02         16787.0   362.0      472.0\n",
              "2020-02-03         19881.0   426.0      623.0\n",
              "2020-02-04         23892.0   492.0      852.0\n",
              "2020-02-05         27636.0   564.0     1124.0\n",
              "2020-02-06         30818.0   634.0     1487.0\n",
              "2020-02-07         34392.0   719.0     2011.0\n",
              "2020-02-08         37121.0   806.0     2616.0\n",
              "2020-02-09         40151.0   906.0     3244.0\n",
              "2020-02-10         42763.0  1013.0     3946.0\n",
              "2020-02-11         44803.0  1113.0     4683.0\n",
              "2020-02-12         45222.0  1118.0     5150.0\n",
              "2020-02-13         60370.0  1371.0     6295.0\n",
              "2020-02-14         66887.0  1523.0     8058.0\n",
              "2020-02-15         69032.0  1666.0     9395.0\n",
              "2020-02-16         71226.0  1770.0    10865.0\n",
              "2020-02-17         73260.0  1868.0    12583.0\n",
              "2020-02-18         75138.0  2007.0    14352.0\n",
              "2020-02-19         75641.0  2122.0    16121.0\n",
              "2020-02-20         76199.0  2247.0    18177.0\n",
              "2020-02-21         76843.0  2251.0    18890.0\n",
              "2020-02-22         78599.0  2458.0    22886.0\n",
              "2020-02-23         78985.0  2469.0    23394.0\n",
              "2020-02-24         79570.0  2629.0    25227.0\n",
              "2020-02-25         80415.0  2708.0    27905.0\n",
              "2020-02-26         81397.0  2770.0    30384.0\n",
              "2020-02-27         82756.0  2814.0    33277.0\n",
              "2020-02-28         84124.0  2872.0    36711.0\n",
              "2020-02-29         86013.0  2941.0    39782.0\n",
              "2020-03-01         88371.0  2996.0    42716.0\n",
              "2020-03-02         90309.0  3085.0    45602.0\n",
              "2020-03-03         92844.0  3160.0    48229.0\n",
              "2020-03-04         95124.0  3254.0    51171.0"
            ]
          },
          "metadata": {
            "tags": []
          },
          "execution_count": 25
        }
      ]
    },
    {
      "cell_type": "code",
      "metadata": {
        "colab": {
          "base_uri": "https://localhost:8080/",
          "height": 173
        },
        "id": "CWHsif6CBE1B",
        "outputId": "0597246f-3176-4b55-97f6-0075360bdf61"
      },
      "source": [
        "df_diff.resample('M').sum()"
      ],
      "execution_count": 27,
      "outputs": [
        {
          "output_type": "execute_result",
          "data": {
            "text/html": [
              "<div>\n",
              "<style scoped>\n",
              "    .dataframe tbody tr th:only-of-type {\n",
              "        vertical-align: middle;\n",
              "    }\n",
              "\n",
              "    .dataframe tbody tr th {\n",
              "        vertical-align: top;\n",
              "    }\n",
              "\n",
              "    .dataframe thead th {\n",
              "        text-align: right;\n",
              "    }\n",
              "</style>\n",
              "<table border=\"1\" class=\"dataframe\">\n",
              "  <thead>\n",
              "    <tr style=\"text-align: right;\">\n",
              "      <th></th>\n",
              "      <th>Confirmed</th>\n",
              "      <th>Deaths</th>\n",
              "      <th>Recovered</th>\n",
              "    </tr>\n",
              "    <tr>\n",
              "      <th>ObservationDate</th>\n",
              "      <th></th>\n",
              "      <th></th>\n",
              "      <th></th>\n",
              "    </tr>\n",
              "  </thead>\n",
              "  <tbody>\n",
              "    <tr>\n",
              "      <th>2020-01-31</th>\n",
              "      <td>9925.0</td>\n",
              "      <td>213.0</td>\n",
              "      <td>222.0</td>\n",
              "    </tr>\n",
              "    <tr>\n",
              "      <th>2020-02-29</th>\n",
              "      <td>76088.0</td>\n",
              "      <td>2728.0</td>\n",
              "      <td>39560.0</td>\n",
              "    </tr>\n",
              "    <tr>\n",
              "      <th>2020-03-31</th>\n",
              "      <td>9111.0</td>\n",
              "      <td>313.0</td>\n",
              "      <td>11389.0</td>\n",
              "    </tr>\n",
              "  </tbody>\n",
              "</table>\n",
              "</div>"
            ],
            "text/plain": [
              "                 Confirmed  Deaths  Recovered\n",
              "ObservationDate                              \n",
              "2020-01-31          9925.0   213.0      222.0\n",
              "2020-02-29         76088.0  2728.0    39560.0\n",
              "2020-03-31          9111.0   313.0    11389.0"
            ]
          },
          "metadata": {
            "tags": []
          },
          "execution_count": 27
        }
      ]
    },
    {
      "cell_type": "code",
      "metadata": {
        "colab": {
          "base_uri": "https://localhost:8080/",
          "height": 173
        },
        "id": "6C0l5nfUBabp",
        "outputId": "f1ae2a04-0658-4fd2-d21f-82f0231f245c"
      },
      "source": [
        "df_diff.resample('M').count()"
      ],
      "execution_count": 28,
      "outputs": [
        {
          "output_type": "execute_result",
          "data": {
            "text/html": [
              "<div>\n",
              "<style scoped>\n",
              "    .dataframe tbody tr th:only-of-type {\n",
              "        vertical-align: middle;\n",
              "    }\n",
              "\n",
              "    .dataframe tbody tr th {\n",
              "        vertical-align: top;\n",
              "    }\n",
              "\n",
              "    .dataframe thead th {\n",
              "        text-align: right;\n",
              "    }\n",
              "</style>\n",
              "<table border=\"1\" class=\"dataframe\">\n",
              "  <thead>\n",
              "    <tr style=\"text-align: right;\">\n",
              "      <th></th>\n",
              "      <th>Confirmed</th>\n",
              "      <th>Deaths</th>\n",
              "      <th>Recovered</th>\n",
              "    </tr>\n",
              "    <tr>\n",
              "      <th>ObservationDate</th>\n",
              "      <th></th>\n",
              "      <th></th>\n",
              "      <th></th>\n",
              "    </tr>\n",
              "  </thead>\n",
              "  <tbody>\n",
              "    <tr>\n",
              "      <th>2020-01-31</th>\n",
              "      <td>10</td>\n",
              "      <td>10</td>\n",
              "      <td>10</td>\n",
              "    </tr>\n",
              "    <tr>\n",
              "      <th>2020-02-29</th>\n",
              "      <td>29</td>\n",
              "      <td>29</td>\n",
              "      <td>29</td>\n",
              "    </tr>\n",
              "    <tr>\n",
              "      <th>2020-03-31</th>\n",
              "      <td>4</td>\n",
              "      <td>4</td>\n",
              "      <td>4</td>\n",
              "    </tr>\n",
              "  </tbody>\n",
              "</table>\n",
              "</div>"
            ],
            "text/plain": [
              "                 Confirmed  Deaths  Recovered\n",
              "ObservationDate                              \n",
              "2020-01-31              10      10         10\n",
              "2020-02-29              29      29         29\n",
              "2020-03-31               4       4          4"
            ]
          },
          "metadata": {
            "tags": []
          },
          "execution_count": 28
        }
      ]
    },
    {
      "cell_type": "code",
      "metadata": {
        "colab": {
          "base_uri": "https://localhost:8080/",
          "height": 173
        },
        "id": "dpxrHW8aBnr1",
        "outputId": "9a854e3b-e7c9-481b-c8e2-636b45e907d5"
      },
      "source": [
        "df_diff.resample('M').mean()"
      ],
      "execution_count": 29,
      "outputs": [
        {
          "output_type": "execute_result",
          "data": {
            "text/html": [
              "<div>\n",
              "<style scoped>\n",
              "    .dataframe tbody tr th:only-of-type {\n",
              "        vertical-align: middle;\n",
              "    }\n",
              "\n",
              "    .dataframe tbody tr th {\n",
              "        vertical-align: top;\n",
              "    }\n",
              "\n",
              "    .dataframe thead th {\n",
              "        text-align: right;\n",
              "    }\n",
              "</style>\n",
              "<table border=\"1\" class=\"dataframe\">\n",
              "  <thead>\n",
              "    <tr style=\"text-align: right;\">\n",
              "      <th></th>\n",
              "      <th>Confirmed</th>\n",
              "      <th>Deaths</th>\n",
              "      <th>Recovered</th>\n",
              "    </tr>\n",
              "    <tr>\n",
              "      <th>ObservationDate</th>\n",
              "      <th></th>\n",
              "      <th></th>\n",
              "      <th></th>\n",
              "    </tr>\n",
              "  </thead>\n",
              "  <tbody>\n",
              "    <tr>\n",
              "      <th>2020-01-31</th>\n",
              "      <td>992.500000</td>\n",
              "      <td>21.300000</td>\n",
              "      <td>22.200000</td>\n",
              "    </tr>\n",
              "    <tr>\n",
              "      <th>2020-02-29</th>\n",
              "      <td>2623.724138</td>\n",
              "      <td>94.068966</td>\n",
              "      <td>1364.137931</td>\n",
              "    </tr>\n",
              "    <tr>\n",
              "      <th>2020-03-31</th>\n",
              "      <td>2277.750000</td>\n",
              "      <td>78.250000</td>\n",
              "      <td>2847.250000</td>\n",
              "    </tr>\n",
              "  </tbody>\n",
              "</table>\n",
              "</div>"
            ],
            "text/plain": [
              "                   Confirmed     Deaths    Recovered\n",
              "ObservationDate                                     \n",
              "2020-01-31        992.500000  21.300000    22.200000\n",
              "2020-02-29       2623.724138  94.068966  1364.137931\n",
              "2020-03-31       2277.750000  78.250000  2847.250000"
            ]
          },
          "metadata": {
            "tags": []
          },
          "execution_count": 29
        }
      ]
    },
    {
      "cell_type": "code",
      "metadata": {
        "colab": {
          "base_uri": "https://localhost:8080/",
          "height": 450
        },
        "id": "e7w3CwKMBw94",
        "outputId": "163b45ef-299e-4308-d7e5-8a750a5fe408"
      },
      "source": [
        "df_cum = df_time.resample('12h').sum(min_count=1)\n",
        "df_cum"
      ],
      "execution_count": 33,
      "outputs": [
        {
          "output_type": "execute_result",
          "data": {
            "text/html": [
              "<div>\n",
              "<style scoped>\n",
              "    .dataframe tbody tr th:only-of-type {\n",
              "        vertical-align: middle;\n",
              "    }\n",
              "\n",
              "    .dataframe tbody tr th {\n",
              "        vertical-align: top;\n",
              "    }\n",
              "\n",
              "    .dataframe thead th {\n",
              "        text-align: right;\n",
              "    }\n",
              "</style>\n",
              "<table border=\"1\" class=\"dataframe\">\n",
              "  <thead>\n",
              "    <tr style=\"text-align: right;\">\n",
              "      <th></th>\n",
              "      <th>Confirmed</th>\n",
              "      <th>Deaths</th>\n",
              "      <th>Recovered</th>\n",
              "    </tr>\n",
              "    <tr>\n",
              "      <th>ObservationDate</th>\n",
              "      <th></th>\n",
              "      <th></th>\n",
              "      <th></th>\n",
              "    </tr>\n",
              "  </thead>\n",
              "  <tbody>\n",
              "    <tr>\n",
              "      <th>2020-01-22 00:00:00</th>\n",
              "      <td>555.0</td>\n",
              "      <td>17.0</td>\n",
              "      <td>28.0</td>\n",
              "    </tr>\n",
              "    <tr>\n",
              "      <th>2020-01-22 12:00:00</th>\n",
              "      <td>NaN</td>\n",
              "      <td>NaN</td>\n",
              "      <td>NaN</td>\n",
              "    </tr>\n",
              "    <tr>\n",
              "      <th>2020-01-23 00:00:00</th>\n",
              "      <td>653.0</td>\n",
              "      <td>18.0</td>\n",
              "      <td>30.0</td>\n",
              "    </tr>\n",
              "    <tr>\n",
              "      <th>2020-01-23 12:00:00</th>\n",
              "      <td>NaN</td>\n",
              "      <td>NaN</td>\n",
              "      <td>NaN</td>\n",
              "    </tr>\n",
              "    <tr>\n",
              "      <th>2020-01-24 00:00:00</th>\n",
              "      <td>941.0</td>\n",
              "      <td>26.0</td>\n",
              "      <td>36.0</td>\n",
              "    </tr>\n",
              "    <tr>\n",
              "      <th>...</th>\n",
              "      <td>...</td>\n",
              "      <td>...</td>\n",
              "      <td>...</td>\n",
              "    </tr>\n",
              "    <tr>\n",
              "      <th>2020-03-02 00:00:00</th>\n",
              "      <td>90309.0</td>\n",
              "      <td>3085.0</td>\n",
              "      <td>45602.0</td>\n",
              "    </tr>\n",
              "    <tr>\n",
              "      <th>2020-03-02 12:00:00</th>\n",
              "      <td>NaN</td>\n",
              "      <td>NaN</td>\n",
              "      <td>NaN</td>\n",
              "    </tr>\n",
              "    <tr>\n",
              "      <th>2020-03-03 00:00:00</th>\n",
              "      <td>92844.0</td>\n",
              "      <td>3160.0</td>\n",
              "      <td>48229.0</td>\n",
              "    </tr>\n",
              "    <tr>\n",
              "      <th>2020-03-03 12:00:00</th>\n",
              "      <td>NaN</td>\n",
              "      <td>NaN</td>\n",
              "      <td>NaN</td>\n",
              "    </tr>\n",
              "    <tr>\n",
              "      <th>2020-03-04 00:00:00</th>\n",
              "      <td>95124.0</td>\n",
              "      <td>3254.0</td>\n",
              "      <td>51171.0</td>\n",
              "    </tr>\n",
              "  </tbody>\n",
              "</table>\n",
              "<p>85 rows × 3 columns</p>\n",
              "</div>"
            ],
            "text/plain": [
              "                     Confirmed  Deaths  Recovered\n",
              "ObservationDate                                  \n",
              "2020-01-22 00:00:00      555.0    17.0       28.0\n",
              "2020-01-22 12:00:00        NaN     NaN        NaN\n",
              "2020-01-23 00:00:00      653.0    18.0       30.0\n",
              "2020-01-23 12:00:00        NaN     NaN        NaN\n",
              "2020-01-24 00:00:00      941.0    26.0       36.0\n",
              "...                        ...     ...        ...\n",
              "2020-03-02 00:00:00    90309.0  3085.0    45602.0\n",
              "2020-03-02 12:00:00        NaN     NaN        NaN\n",
              "2020-03-03 00:00:00    92844.0  3160.0    48229.0\n",
              "2020-03-03 12:00:00        NaN     NaN        NaN\n",
              "2020-03-04 00:00:00    95124.0  3254.0    51171.0\n",
              "\n",
              "[85 rows x 3 columns]"
            ]
          },
          "metadata": {
            "tags": []
          },
          "execution_count": 33
        }
      ]
    },
    {
      "cell_type": "code",
      "metadata": {
        "colab": {
          "base_uri": "https://localhost:8080/",
          "height": 450
        },
        "id": "IdDhMa4wCFGj",
        "outputId": "1aa70972-0451-481f-c632-d523511e6778"
      },
      "source": [
        "df_cum = df_cum.interpolate()\n",
        "df_cum"
      ],
      "execution_count": 34,
      "outputs": [
        {
          "output_type": "execute_result",
          "data": {
            "text/html": [
              "<div>\n",
              "<style scoped>\n",
              "    .dataframe tbody tr th:only-of-type {\n",
              "        vertical-align: middle;\n",
              "    }\n",
              "\n",
              "    .dataframe tbody tr th {\n",
              "        vertical-align: top;\n",
              "    }\n",
              "\n",
              "    .dataframe thead th {\n",
              "        text-align: right;\n",
              "    }\n",
              "</style>\n",
              "<table border=\"1\" class=\"dataframe\">\n",
              "  <thead>\n",
              "    <tr style=\"text-align: right;\">\n",
              "      <th></th>\n",
              "      <th>Confirmed</th>\n",
              "      <th>Deaths</th>\n",
              "      <th>Recovered</th>\n",
              "    </tr>\n",
              "    <tr>\n",
              "      <th>ObservationDate</th>\n",
              "      <th></th>\n",
              "      <th></th>\n",
              "      <th></th>\n",
              "    </tr>\n",
              "  </thead>\n",
              "  <tbody>\n",
              "    <tr>\n",
              "      <th>2020-01-22 00:00:00</th>\n",
              "      <td>555.0</td>\n",
              "      <td>17.0</td>\n",
              "      <td>28.0</td>\n",
              "    </tr>\n",
              "    <tr>\n",
              "      <th>2020-01-22 12:00:00</th>\n",
              "      <td>604.0</td>\n",
              "      <td>17.5</td>\n",
              "      <td>29.0</td>\n",
              "    </tr>\n",
              "    <tr>\n",
              "      <th>2020-01-23 00:00:00</th>\n",
              "      <td>653.0</td>\n",
              "      <td>18.0</td>\n",
              "      <td>30.0</td>\n",
              "    </tr>\n",
              "    <tr>\n",
              "      <th>2020-01-23 12:00:00</th>\n",
              "      <td>797.0</td>\n",
              "      <td>22.0</td>\n",
              "      <td>33.0</td>\n",
              "    </tr>\n",
              "    <tr>\n",
              "      <th>2020-01-24 00:00:00</th>\n",
              "      <td>941.0</td>\n",
              "      <td>26.0</td>\n",
              "      <td>36.0</td>\n",
              "    </tr>\n",
              "    <tr>\n",
              "      <th>...</th>\n",
              "      <td>...</td>\n",
              "      <td>...</td>\n",
              "      <td>...</td>\n",
              "    </tr>\n",
              "    <tr>\n",
              "      <th>2020-03-02 00:00:00</th>\n",
              "      <td>90309.0</td>\n",
              "      <td>3085.0</td>\n",
              "      <td>45602.0</td>\n",
              "    </tr>\n",
              "    <tr>\n",
              "      <th>2020-03-02 12:00:00</th>\n",
              "      <td>91576.5</td>\n",
              "      <td>3122.5</td>\n",
              "      <td>46915.5</td>\n",
              "    </tr>\n",
              "    <tr>\n",
              "      <th>2020-03-03 00:00:00</th>\n",
              "      <td>92844.0</td>\n",
              "      <td>3160.0</td>\n",
              "      <td>48229.0</td>\n",
              "    </tr>\n",
              "    <tr>\n",
              "      <th>2020-03-03 12:00:00</th>\n",
              "      <td>93984.0</td>\n",
              "      <td>3207.0</td>\n",
              "      <td>49700.0</td>\n",
              "    </tr>\n",
              "    <tr>\n",
              "      <th>2020-03-04 00:00:00</th>\n",
              "      <td>95124.0</td>\n",
              "      <td>3254.0</td>\n",
              "      <td>51171.0</td>\n",
              "    </tr>\n",
              "  </tbody>\n",
              "</table>\n",
              "<p>85 rows × 3 columns</p>\n",
              "</div>"
            ],
            "text/plain": [
              "                     Confirmed  Deaths  Recovered\n",
              "ObservationDate                                  \n",
              "2020-01-22 00:00:00      555.0    17.0       28.0\n",
              "2020-01-22 12:00:00      604.0    17.5       29.0\n",
              "2020-01-23 00:00:00      653.0    18.0       30.0\n",
              "2020-01-23 12:00:00      797.0    22.0       33.0\n",
              "2020-01-24 00:00:00      941.0    26.0       36.0\n",
              "...                        ...     ...        ...\n",
              "2020-03-02 00:00:00    90309.0  3085.0    45602.0\n",
              "2020-03-02 12:00:00    91576.5  3122.5    46915.5\n",
              "2020-03-03 00:00:00    92844.0  3160.0    48229.0\n",
              "2020-03-03 12:00:00    93984.0  3207.0    49700.0\n",
              "2020-03-04 00:00:00    95124.0  3254.0    51171.0\n",
              "\n",
              "[85 rows x 3 columns]"
            ]
          },
          "metadata": {
            "tags": []
          },
          "execution_count": 34
        }
      ]
    },
    {
      "cell_type": "code",
      "metadata": {
        "id": "VCs2jwRjDAZB"
      },
      "source": [
        "df_cum['rate'] = 1 - df_cum['Deaths']/df_cum['Confirmed']"
      ],
      "execution_count": 35,
      "outputs": []
    },
    {
      "cell_type": "code",
      "metadata": {
        "colab": {
          "base_uri": "https://localhost:8080/",
          "height": 419
        },
        "id": "EqTA6ejQDS5G",
        "outputId": "71e90591-4985-4002-88bb-7aa584d59106"
      },
      "source": [
        "df_cum = df_cum.reset_index()\n",
        "df_cum"
      ],
      "execution_count": 37,
      "outputs": [
        {
          "output_type": "execute_result",
          "data": {
            "text/html": [
              "<div>\n",
              "<style scoped>\n",
              "    .dataframe tbody tr th:only-of-type {\n",
              "        vertical-align: middle;\n",
              "    }\n",
              "\n",
              "    .dataframe tbody tr th {\n",
              "        vertical-align: top;\n",
              "    }\n",
              "\n",
              "    .dataframe thead th {\n",
              "        text-align: right;\n",
              "    }\n",
              "</style>\n",
              "<table border=\"1\" class=\"dataframe\">\n",
              "  <thead>\n",
              "    <tr style=\"text-align: right;\">\n",
              "      <th></th>\n",
              "      <th>ObservationDate</th>\n",
              "      <th>Confirmed</th>\n",
              "      <th>Deaths</th>\n",
              "      <th>Recovered</th>\n",
              "      <th>rate</th>\n",
              "    </tr>\n",
              "  </thead>\n",
              "  <tbody>\n",
              "    <tr>\n",
              "      <th>0</th>\n",
              "      <td>2020-01-22 00:00:00</td>\n",
              "      <td>555.0</td>\n",
              "      <td>17.0</td>\n",
              "      <td>28.0</td>\n",
              "      <td>0.969369</td>\n",
              "    </tr>\n",
              "    <tr>\n",
              "      <th>1</th>\n",
              "      <td>2020-01-22 12:00:00</td>\n",
              "      <td>604.0</td>\n",
              "      <td>17.5</td>\n",
              "      <td>29.0</td>\n",
              "      <td>0.971026</td>\n",
              "    </tr>\n",
              "    <tr>\n",
              "      <th>2</th>\n",
              "      <td>2020-01-23 00:00:00</td>\n",
              "      <td>653.0</td>\n",
              "      <td>18.0</td>\n",
              "      <td>30.0</td>\n",
              "      <td>0.972435</td>\n",
              "    </tr>\n",
              "    <tr>\n",
              "      <th>3</th>\n",
              "      <td>2020-01-23 12:00:00</td>\n",
              "      <td>797.0</td>\n",
              "      <td>22.0</td>\n",
              "      <td>33.0</td>\n",
              "      <td>0.972396</td>\n",
              "    </tr>\n",
              "    <tr>\n",
              "      <th>4</th>\n",
              "      <td>2020-01-24 00:00:00</td>\n",
              "      <td>941.0</td>\n",
              "      <td>26.0</td>\n",
              "      <td>36.0</td>\n",
              "      <td>0.972370</td>\n",
              "    </tr>\n",
              "    <tr>\n",
              "      <th>...</th>\n",
              "      <td>...</td>\n",
              "      <td>...</td>\n",
              "      <td>...</td>\n",
              "      <td>...</td>\n",
              "      <td>...</td>\n",
              "    </tr>\n",
              "    <tr>\n",
              "      <th>80</th>\n",
              "      <td>2020-03-02 00:00:00</td>\n",
              "      <td>90309.0</td>\n",
              "      <td>3085.0</td>\n",
              "      <td>45602.0</td>\n",
              "      <td>0.965840</td>\n",
              "    </tr>\n",
              "    <tr>\n",
              "      <th>81</th>\n",
              "      <td>2020-03-02 12:00:00</td>\n",
              "      <td>91576.5</td>\n",
              "      <td>3122.5</td>\n",
              "      <td>46915.5</td>\n",
              "      <td>0.965903</td>\n",
              "    </tr>\n",
              "    <tr>\n",
              "      <th>82</th>\n",
              "      <td>2020-03-03 00:00:00</td>\n",
              "      <td>92844.0</td>\n",
              "      <td>3160.0</td>\n",
              "      <td>48229.0</td>\n",
              "      <td>0.965964</td>\n",
              "    </tr>\n",
              "    <tr>\n",
              "      <th>83</th>\n",
              "      <td>2020-03-03 12:00:00</td>\n",
              "      <td>93984.0</td>\n",
              "      <td>3207.0</td>\n",
              "      <td>49700.0</td>\n",
              "      <td>0.965877</td>\n",
              "    </tr>\n",
              "    <tr>\n",
              "      <th>84</th>\n",
              "      <td>2020-03-04 00:00:00</td>\n",
              "      <td>95124.0</td>\n",
              "      <td>3254.0</td>\n",
              "      <td>51171.0</td>\n",
              "      <td>0.965792</td>\n",
              "    </tr>\n",
              "  </tbody>\n",
              "</table>\n",
              "<p>85 rows × 5 columns</p>\n",
              "</div>"
            ],
            "text/plain": [
              "       ObservationDate  Confirmed  Deaths  Recovered      rate\n",
              "0  2020-01-22 00:00:00      555.0    17.0       28.0  0.969369\n",
              "1  2020-01-22 12:00:00      604.0    17.5       29.0  0.971026\n",
              "2  2020-01-23 00:00:00      653.0    18.0       30.0  0.972435\n",
              "3  2020-01-23 12:00:00      797.0    22.0       33.0  0.972396\n",
              "4  2020-01-24 00:00:00      941.0    26.0       36.0  0.972370\n",
              "..                 ...        ...     ...        ...       ...\n",
              "80 2020-03-02 00:00:00    90309.0  3085.0    45602.0  0.965840\n",
              "81 2020-03-02 12:00:00    91576.5  3122.5    46915.5  0.965903\n",
              "82 2020-03-03 00:00:00    92844.0  3160.0    48229.0  0.965964\n",
              "83 2020-03-03 12:00:00    93984.0  3207.0    49700.0  0.965877\n",
              "84 2020-03-04 00:00:00    95124.0  3254.0    51171.0  0.965792\n",
              "\n",
              "[85 rows x 5 columns]"
            ]
          },
          "metadata": {
            "tags": []
          },
          "execution_count": 37
        }
      ]
    },
    {
      "cell_type": "code",
      "metadata": {
        "colab": {
          "base_uri": "https://localhost:8080/",
          "height": 173
        },
        "id": "xiWOABkSDUOr",
        "outputId": "a0a56837-e13f-4df6-87a4-352ba2f1053f"
      },
      "source": [
        "df_cum.groupby(pd.Grouper(key='ObservationDate', freq = 'M'))[['rate']].mean()"
      ],
      "execution_count": 38,
      "outputs": [
        {
          "output_type": "execute_result",
          "data": {
            "text/html": [
              "<div>\n",
              "<style scoped>\n",
              "    .dataframe tbody tr th:only-of-type {\n",
              "        vertical-align: middle;\n",
              "    }\n",
              "\n",
              "    .dataframe tbody tr th {\n",
              "        vertical-align: top;\n",
              "    }\n",
              "\n",
              "    .dataframe thead th {\n",
              "        text-align: right;\n",
              "    }\n",
              "</style>\n",
              "<table border=\"1\" class=\"dataframe\">\n",
              "  <thead>\n",
              "    <tr style=\"text-align: right;\">\n",
              "      <th></th>\n",
              "      <th>rate</th>\n",
              "    </tr>\n",
              "    <tr>\n",
              "      <th>ObservationDate</th>\n",
              "      <th></th>\n",
              "    </tr>\n",
              "  </thead>\n",
              "  <tbody>\n",
              "    <tr>\n",
              "      <th>2020-01-31</th>\n",
              "      <td>0.974594</td>\n",
              "    </tr>\n",
              "    <tr>\n",
              "      <th>2020-02-29</th>\n",
              "      <td>0.973562</td>\n",
              "    </tr>\n",
              "    <tr>\n",
              "      <th>2020-03-31</th>\n",
              "      <td>0.965920</td>\n",
              "    </tr>\n",
              "  </tbody>\n",
              "</table>\n",
              "</div>"
            ],
            "text/plain": [
              "                     rate\n",
              "ObservationDate          \n",
              "2020-01-31       0.974594\n",
              "2020-02-29       0.973562\n",
              "2020-03-31       0.965920"
            ]
          },
          "metadata": {
            "tags": []
          },
          "execution_count": 38
        }
      ]
    },
    {
      "cell_type": "code",
      "metadata": {
        "colab": {
          "base_uri": "https://localhost:8080/",
          "height": 332
        },
        "id": "l3K1kJBqD_FV",
        "outputId": "9955f5b7-92df-451b-c474-d8979344279b"
      },
      "source": [
        "sr = df_cum.groupby(pd.Grouper(key='ObservationDate', freq = '1D'))['rate'].mean()\n",
        "sr.plot()"
      ],
      "execution_count": 40,
      "outputs": [
        {
          "output_type": "execute_result",
          "data": {
            "text/plain": [
              "<matplotlib.axes._subplots.AxesSubplot at 0x7fc75b9221d0>"
            ]
          },
          "metadata": {
            "tags": []
          },
          "execution_count": 40
        },
        {
          "output_type": "display_data",
          "data": {
            "image/png": "[encoded data removed]",
            "text/plain": [
              "<Figure size 432x288 with 1 Axes>"
            ]
          },
          "metadata": {
            "tags": [],
            "needs_background": "light"
          }
        }
      ]
    },
    {
      "cell_type": "code",
      "metadata": {
        "colab": {
          "base_uri": "https://localhost:8080/",
          "height": 332
        },
        "id": "QX0bHmUQEW9Y",
        "outputId": "d894554b-0d19-4230-fce3-031621d2a952"
      },
      "source": [
        "sr.plot()\n",
        "sr.rolling(window=7).mean().plot()\n",
        "sr.rolling(window=14).mean().plot()"
      ],
      "execution_count": 41,
      "outputs": [
        {
          "output_type": "execute_result",
          "data": {
            "text/plain": [
              "<matplotlib.axes._subplots.AxesSubplot at 0x7fc75b35f050>"
            ]
          },
          "metadata": {
            "tags": []
          },
          "execution_count": 41
        },
        {
          "output_type": "display_data",
          "data": {
            "image/png": "[encoded data removed]",
            "text/plain": [
              "<Figure size 432x288 with 1 Axes>"
            ]
          },
          "metadata": {
            "tags": [],
            "needs_background": "light"
          }
        }
      ]
    },
    {
      "cell_type": "code",
      "metadata": {
        "id": "dvtvN5KHEwPn"
      },
      "source": [
        "import numpy as np"
      ],
      "execution_count": 42,
      "outputs": []
    },
    {
      "cell_type": "code",
      "metadata": {
        "colab": {
          "base_uri": "https://localhost:8080/",
          "height": 331
        },
        "id": "l87L94nJFE6l",
        "outputId": "0b152a42-8da8-4de6-fa99-e48be122457b"
      },
      "source": [
        "sr.rolling(window=14).apply(lambda x: np.std(x)).plot()"
      ],
      "execution_count": 43,
      "outputs": [
        {
          "output_type": "execute_result",
          "data": {
            "text/plain": [
              "<matplotlib.axes._subplots.AxesSubplot at 0x7fc75b25c810>"
            ]
          },
          "metadata": {
            "tags": []
          },
          "execution_count": 43
        },
        {
          "output_type": "display_data",
          "data": {
            "image/png": "[encoded data removed]",
            "text/plain": [
              "<Figure size 432x288 with 1 Axes>"
            ]
          },
          "metadata": {
            "tags": [],
            "needs_background": "light"
          }
        }
      ]
    },
    {
      "cell_type": "code",
      "metadata": {
        "colab": {
          "base_uri": "https://localhost:8080/"
        },
        "id": "Npi4kEmzFFiR",
        "outputId": "300aeb58-6194-47c7-d092-ac35c064a10e"
      },
      "source": [
        "df.groupby('Country/Region')['Confirmed'].max().sort_values(ascending=False)"
      ],
      "execution_count": 44,
      "outputs": [
        {
          "output_type": "execute_result",
          "data": {
            "text/plain": [
              "Country/Region\n",
              "Mainland China    67332.0\n",
              "South Korea        5621.0\n",
              "Italy              3089.0\n",
              "Iran               2922.0\n",
              "Others              706.0\n",
              "                   ...   \n",
              "Morocco               1.0\n",
              "Nepal                 1.0\n",
              "Nigeria               1.0\n",
              "Latvia                1.0\n",
              "Colombia              0.0\n",
              "Name: Confirmed, Length: 90, dtype: float64"
            ]
          },
          "metadata": {
            "tags": []
          },
          "execution_count": 44
        }
      ]
    },
    {
      "cell_type": "code",
      "metadata": {
        "colab": {
          "base_uri": "https://localhost:8080/",
          "height": 450
        },
        "id": "picG37i0FnTn",
        "outputId": "6ca49a1c-cabf-48ac-fba3-4b81677f8e9c"
      },
      "source": [
        "df_time = df.groupby(['Country/Region',\n",
        "            pd.Grouper(key='ObservationDate', freq='1D')]).sum()\n",
        "df_time"
      ],
      "execution_count": 45,
      "outputs": [
        {
          "output_type": "execute_result",
          "data": {
            "text/html": [
              "<div>\n",
              "<style scoped>\n",
              "    .dataframe tbody tr th:only-of-type {\n",
              "        vertical-align: middle;\n",
              "    }\n",
              "\n",
              "    .dataframe tbody tr th {\n",
              "        vertical-align: top;\n",
              "    }\n",
              "\n",
              "    .dataframe thead th {\n",
              "        text-align: right;\n",
              "    }\n",
              "</style>\n",
              "<table border=\"1\" class=\"dataframe\">\n",
              "  <thead>\n",
              "    <tr style=\"text-align: right;\">\n",
              "      <th></th>\n",
              "      <th></th>\n",
              "      <th>Confirmed</th>\n",
              "      <th>Deaths</th>\n",
              "      <th>Recovered</th>\n",
              "    </tr>\n",
              "    <tr>\n",
              "      <th>Country/Region</th>\n",
              "      <th>ObservationDate</th>\n",
              "      <th></th>\n",
              "      <th></th>\n",
              "      <th></th>\n",
              "    </tr>\n",
              "  </thead>\n",
              "  <tbody>\n",
              "    <tr>\n",
              "      <th>Azerbaijan</th>\n",
              "      <th>2020-02-28</th>\n",
              "      <td>1.0</td>\n",
              "      <td>0.0</td>\n",
              "      <td>0.0</td>\n",
              "    </tr>\n",
              "    <tr>\n",
              "      <th rowspan=\"4\" valign=\"top\">Afghanistan</th>\n",
              "      <th>2020-02-24</th>\n",
              "      <td>1.0</td>\n",
              "      <td>0.0</td>\n",
              "      <td>0.0</td>\n",
              "    </tr>\n",
              "    <tr>\n",
              "      <th>2020-02-25</th>\n",
              "      <td>1.0</td>\n",
              "      <td>0.0</td>\n",
              "      <td>0.0</td>\n",
              "    </tr>\n",
              "    <tr>\n",
              "      <th>2020-02-26</th>\n",
              "      <td>1.0</td>\n",
              "      <td>0.0</td>\n",
              "      <td>0.0</td>\n",
              "    </tr>\n",
              "    <tr>\n",
              "      <th>2020-02-27</th>\n",
              "      <td>1.0</td>\n",
              "      <td>0.0</td>\n",
              "      <td>0.0</td>\n",
              "    </tr>\n",
              "    <tr>\n",
              "      <th>...</th>\n",
              "      <th>...</th>\n",
              "      <td>...</td>\n",
              "      <td>...</td>\n",
              "      <td>...</td>\n",
              "    </tr>\n",
              "    <tr>\n",
              "      <th rowspan=\"5\" valign=\"top\">Vietnam</th>\n",
              "      <th>2020-02-29</th>\n",
              "      <td>16.0</td>\n",
              "      <td>0.0</td>\n",
              "      <td>16.0</td>\n",
              "    </tr>\n",
              "    <tr>\n",
              "      <th>2020-03-01</th>\n",
              "      <td>16.0</td>\n",
              "      <td>0.0</td>\n",
              "      <td>16.0</td>\n",
              "    </tr>\n",
              "    <tr>\n",
              "      <th>2020-03-02</th>\n",
              "      <td>16.0</td>\n",
              "      <td>0.0</td>\n",
              "      <td>16.0</td>\n",
              "    </tr>\n",
              "    <tr>\n",
              "      <th>2020-03-03</th>\n",
              "      <td>16.0</td>\n",
              "      <td>0.0</td>\n",
              "      <td>16.0</td>\n",
              "    </tr>\n",
              "    <tr>\n",
              "      <th>2020-03-04</th>\n",
              "      <td>16.0</td>\n",
              "      <td>0.0</td>\n",
              "      <td>16.0</td>\n",
              "    </tr>\n",
              "  </tbody>\n",
              "</table>\n",
              "<p>1462 rows × 3 columns</p>\n",
              "</div>"
            ],
            "text/plain": [
              "                                Confirmed  Deaths  Recovered\n",
              "Country/Region ObservationDate                              \n",
              " Azerbaijan    2020-02-28             1.0     0.0        0.0\n",
              "Afghanistan    2020-02-24             1.0     0.0        0.0\n",
              "               2020-02-25             1.0     0.0        0.0\n",
              "               2020-02-26             1.0     0.0        0.0\n",
              "               2020-02-27             1.0     0.0        0.0\n",
              "...                                   ...     ...        ...\n",
              "Vietnam        2020-02-29            16.0     0.0       16.0\n",
              "               2020-03-01            16.0     0.0       16.0\n",
              "               2020-03-02            16.0     0.0       16.0\n",
              "               2020-03-03            16.0     0.0       16.0\n",
              "               2020-03-04            16.0     0.0       16.0\n",
              "\n",
              "[1462 rows x 3 columns]"
            ]
          },
          "metadata": {
            "tags": []
          },
          "execution_count": 45
        }
      ]
    },
    {
      "cell_type": "code",
      "metadata": {
        "colab": {
          "base_uri": "https://localhost:8080/",
          "height": 1000
        },
        "id": "mP7zwKySHtX-",
        "outputId": "7aa3eca5-43eb-4774-c183-2bd6812cabea"
      },
      "source": [
        "df_china = df_time.loc['Mainland China',:]\n",
        "df_china"
      ],
      "execution_count": 46,
      "outputs": [
        {
          "output_type": "execute_result",
          "data": {
            "text/html": [
              "<div>\n",
              "<style scoped>\n",
              "    .dataframe tbody tr th:only-of-type {\n",
              "        vertical-align: middle;\n",
              "    }\n",
              "\n",
              "    .dataframe tbody tr th {\n",
              "        vertical-align: top;\n",
              "    }\n",
              "\n",
              "    .dataframe thead th {\n",
              "        text-align: right;\n",
              "    }\n",
              "</style>\n",
              "<table border=\"1\" class=\"dataframe\">\n",
              "  <thead>\n",
              "    <tr style=\"text-align: right;\">\n",
              "      <th></th>\n",
              "      <th>Confirmed</th>\n",
              "      <th>Deaths</th>\n",
              "      <th>Recovered</th>\n",
              "    </tr>\n",
              "    <tr>\n",
              "      <th>ObservationDate</th>\n",
              "      <th></th>\n",
              "      <th></th>\n",
              "      <th></th>\n",
              "    </tr>\n",
              "  </thead>\n",
              "  <tbody>\n",
              "    <tr>\n",
              "      <th>2020-01-22</th>\n",
              "      <td>547.0</td>\n",
              "      <td>17.0</td>\n",
              "      <td>28.0</td>\n",
              "    </tr>\n",
              "    <tr>\n",
              "      <th>2020-01-23</th>\n",
              "      <td>639.0</td>\n",
              "      <td>18.0</td>\n",
              "      <td>30.0</td>\n",
              "    </tr>\n",
              "    <tr>\n",
              "      <th>2020-01-24</th>\n",
              "      <td>916.0</td>\n",
              "      <td>26.0</td>\n",
              "      <td>36.0</td>\n",
              "    </tr>\n",
              "    <tr>\n",
              "      <th>2020-01-25</th>\n",
              "      <td>1399.0</td>\n",
              "      <td>42.0</td>\n",
              "      <td>39.0</td>\n",
              "    </tr>\n",
              "    <tr>\n",
              "      <th>2020-01-26</th>\n",
              "      <td>2062.0</td>\n",
              "      <td>56.0</td>\n",
              "      <td>49.0</td>\n",
              "    </tr>\n",
              "    <tr>\n",
              "      <th>2020-01-27</th>\n",
              "      <td>2863.0</td>\n",
              "      <td>82.0</td>\n",
              "      <td>58.0</td>\n",
              "    </tr>\n",
              "    <tr>\n",
              "      <th>2020-01-28</th>\n",
              "      <td>5494.0</td>\n",
              "      <td>131.0</td>\n",
              "      <td>101.0</td>\n",
              "    </tr>\n",
              "    <tr>\n",
              "      <th>2020-01-29</th>\n",
              "      <td>6070.0</td>\n",
              "      <td>133.0</td>\n",
              "      <td>120.0</td>\n",
              "    </tr>\n",
              "    <tr>\n",
              "      <th>2020-01-30</th>\n",
              "      <td>8124.0</td>\n",
              "      <td>171.0</td>\n",
              "      <td>135.0</td>\n",
              "    </tr>\n",
              "    <tr>\n",
              "      <th>2020-01-31</th>\n",
              "      <td>9783.0</td>\n",
              "      <td>213.0</td>\n",
              "      <td>214.0</td>\n",
              "    </tr>\n",
              "    <tr>\n",
              "      <th>2020-02-01</th>\n",
              "      <td>11871.0</td>\n",
              "      <td>259.0</td>\n",
              "      <td>275.0</td>\n",
              "    </tr>\n",
              "    <tr>\n",
              "      <th>2020-02-02</th>\n",
              "      <td>16607.0</td>\n",
              "      <td>361.0</td>\n",
              "      <td>463.0</td>\n",
              "    </tr>\n",
              "    <tr>\n",
              "      <th>2020-02-03</th>\n",
              "      <td>19693.0</td>\n",
              "      <td>425.0</td>\n",
              "      <td>614.0</td>\n",
              "    </tr>\n",
              "    <tr>\n",
              "      <th>2020-02-04</th>\n",
              "      <td>23680.0</td>\n",
              "      <td>490.0</td>\n",
              "      <td>843.0</td>\n",
              "    </tr>\n",
              "    <tr>\n",
              "      <th>2020-02-05</th>\n",
              "      <td>27409.0</td>\n",
              "      <td>562.0</td>\n",
              "      <td>1115.0</td>\n",
              "    </tr>\n",
              "    <tr>\n",
              "      <th>2020-02-06</th>\n",
              "      <td>30553.0</td>\n",
              "      <td>632.0</td>\n",
              "      <td>1476.0</td>\n",
              "    </tr>\n",
              "    <tr>\n",
              "      <th>2020-02-07</th>\n",
              "      <td>34075.0</td>\n",
              "      <td>717.0</td>\n",
              "      <td>1998.0</td>\n",
              "    </tr>\n",
              "    <tr>\n",
              "      <th>2020-02-08</th>\n",
              "      <td>36778.0</td>\n",
              "      <td>804.0</td>\n",
              "      <td>2595.0</td>\n",
              "    </tr>\n",
              "    <tr>\n",
              "      <th>2020-02-09</th>\n",
              "      <td>39790.0</td>\n",
              "      <td>904.0</td>\n",
              "      <td>3218.0</td>\n",
              "    </tr>\n",
              "    <tr>\n",
              "      <th>2020-02-10</th>\n",
              "      <td>42306.0</td>\n",
              "      <td>1011.0</td>\n",
              "      <td>3917.0</td>\n",
              "    </tr>\n",
              "    <tr>\n",
              "      <th>2020-02-11</th>\n",
              "      <td>44327.0</td>\n",
              "      <td>1111.0</td>\n",
              "      <td>4635.0</td>\n",
              "    </tr>\n",
              "    <tr>\n",
              "      <th>2020-02-12</th>\n",
              "      <td>44699.0</td>\n",
              "      <td>1116.0</td>\n",
              "      <td>5079.0</td>\n",
              "    </tr>\n",
              "    <tr>\n",
              "      <th>2020-02-13</th>\n",
              "      <td>59832.0</td>\n",
              "      <td>1368.0</td>\n",
              "      <td>6213.0</td>\n",
              "    </tr>\n",
              "    <tr>\n",
              "      <th>2020-02-14</th>\n",
              "      <td>66292.0</td>\n",
              "      <td>1520.0</td>\n",
              "      <td>7973.0</td>\n",
              "    </tr>\n",
              "    <tr>\n",
              "      <th>2020-02-15</th>\n",
              "      <td>68347.0</td>\n",
              "      <td>1662.0</td>\n",
              "      <td>9294.0</td>\n",
              "    </tr>\n",
              "    <tr>\n",
              "      <th>2020-02-16</th>\n",
              "      <td>70446.0</td>\n",
              "      <td>1765.0</td>\n",
              "      <td>10748.0</td>\n",
              "    </tr>\n",
              "    <tr>\n",
              "      <th>2020-02-17</th>\n",
              "      <td>72364.0</td>\n",
              "      <td>1863.0</td>\n",
              "      <td>12455.0</td>\n",
              "    </tr>\n",
              "    <tr>\n",
              "      <th>2020-02-18</th>\n",
              "      <td>74139.0</td>\n",
              "      <td>2002.0</td>\n",
              "      <td>14199.0</td>\n",
              "    </tr>\n",
              "    <tr>\n",
              "      <th>2020-02-19</th>\n",
              "      <td>74546.0</td>\n",
              "      <td>2114.0</td>\n",
              "      <td>15952.0</td>\n",
              "    </tr>\n",
              "    <tr>\n",
              "      <th>2020-02-20</th>\n",
              "      <td>74999.0</td>\n",
              "      <td>2236.0</td>\n",
              "      <td>18002.0</td>\n",
              "    </tr>\n",
              "    <tr>\n",
              "      <th>2020-02-21</th>\n",
              "      <td>75472.0</td>\n",
              "      <td>2236.0</td>\n",
              "      <td>18693.0</td>\n",
              "    </tr>\n",
              "    <tr>\n",
              "      <th>2020-02-22</th>\n",
              "      <td>76922.0</td>\n",
              "      <td>2441.0</td>\n",
              "      <td>22687.0</td>\n",
              "    </tr>\n",
              "    <tr>\n",
              "      <th>2020-02-23</th>\n",
              "      <td>76938.0</td>\n",
              "      <td>2443.0</td>\n",
              "      <td>23170.0</td>\n",
              "    </tr>\n",
              "    <tr>\n",
              "      <th>2020-02-24</th>\n",
              "      <td>77152.0</td>\n",
              "      <td>2593.0</td>\n",
              "      <td>24990.0</td>\n",
              "    </tr>\n",
              "    <tr>\n",
              "      <th>2020-02-25</th>\n",
              "      <td>77660.0</td>\n",
              "      <td>2663.0</td>\n",
              "      <td>27650.0</td>\n",
              "    </tr>\n",
              "    <tr>\n",
              "      <th>2020-02-26</th>\n",
              "      <td>78065.0</td>\n",
              "      <td>2715.0</td>\n",
              "      <td>30053.0</td>\n",
              "    </tr>\n",
              "    <tr>\n",
              "      <th>2020-02-27</th>\n",
              "      <td>78498.0</td>\n",
              "      <td>2744.0</td>\n",
              "      <td>32898.0</td>\n",
              "    </tr>\n",
              "    <tr>\n",
              "      <th>2020-02-28</th>\n",
              "      <td>78824.0</td>\n",
              "      <td>2788.0</td>\n",
              "      <td>36291.0</td>\n",
              "    </tr>\n",
              "    <tr>\n",
              "      <th>2020-02-29</th>\n",
              "      <td>79251.0</td>\n",
              "      <td>2835.0</td>\n",
              "      <td>39279.0</td>\n",
              "    </tr>\n",
              "    <tr>\n",
              "      <th>2020-03-01</th>\n",
              "      <td>79826.0</td>\n",
              "      <td>2870.0</td>\n",
              "      <td>42118.0</td>\n",
              "    </tr>\n",
              "    <tr>\n",
              "      <th>2020-03-02</th>\n",
              "      <td>80026.0</td>\n",
              "      <td>2912.0</td>\n",
              "      <td>44810.0</td>\n",
              "    </tr>\n",
              "    <tr>\n",
              "      <th>2020-03-03</th>\n",
              "      <td>80151.0</td>\n",
              "      <td>2945.0</td>\n",
              "      <td>47404.0</td>\n",
              "    </tr>\n",
              "    <tr>\n",
              "      <th>2020-03-04</th>\n",
              "      <td>80271.0</td>\n",
              "      <td>2981.0</td>\n",
              "      <td>49955.0</td>\n",
              "    </tr>\n",
              "  </tbody>\n",
              "</table>\n",
              "</div>"
            ],
            "text/plain": [
              "                 Confirmed  Deaths  Recovered\n",
              "ObservationDate                              \n",
              "2020-01-22           547.0    17.0       28.0\n",
              "2020-01-23           639.0    18.0       30.0\n",
              "2020-01-24           916.0    26.0       36.0\n",
              "2020-01-25          1399.0    42.0       39.0\n",
              "2020-01-26          2062.0    56.0       49.0\n",
              "2020-01-27          2863.0    82.0       58.0\n",
              "2020-01-28          5494.0   131.0      101.0\n",
              "2020-01-29          6070.0   133.0      120.0\n",
              "2020-01-30          8124.0   171.0      135.0\n",
              "2020-01-31          9783.0   213.0      214.0\n",
              "2020-02-01         11871.0   259.0      275.0\n",
              "2020-02-02         16607.0   361.0      463.0\n",
              "2020-02-03         19693.0   425.0      614.0\n",
              "2020-02-04         23680.0   490.0      843.0\n",
              "2020-02-05         27409.0   562.0     1115.0\n",
              "2020-02-06         30553.0   632.0     1476.0\n",
              "2020-02-07         34075.0   717.0     1998.0\n",
              "2020-02-08         36778.0   804.0     2595.0\n",
              "2020-02-09         39790.0   904.0     3218.0\n",
              "2020-02-10         42306.0  1011.0     3917.0\n",
              "2020-02-11         44327.0  1111.0     4635.0\n",
              "2020-02-12         44699.0  1116.0     5079.0\n",
              "2020-02-13         59832.0  1368.0     6213.0\n",
              "2020-02-14         66292.0  1520.0     7973.0\n",
              "2020-02-15         68347.0  1662.0     9294.0\n",
              "2020-02-16         70446.0  1765.0    10748.0\n",
              "2020-02-17         72364.0  1863.0    12455.0\n",
              "2020-02-18         74139.0  2002.0    14199.0\n",
              "2020-02-19         74546.0  2114.0    15952.0\n",
              "2020-02-20         74999.0  2236.0    18002.0\n",
              "2020-02-21         75472.0  2236.0    18693.0\n",
              "2020-02-22         76922.0  2441.0    22687.0\n",
              "2020-02-23         76938.0  2443.0    23170.0\n",
              "2020-02-24         77152.0  2593.0    24990.0\n",
              "2020-02-25         77660.0  2663.0    27650.0\n",
              "2020-02-26         78065.0  2715.0    30053.0\n",
              "2020-02-27         78498.0  2744.0    32898.0\n",
              "2020-02-28         78824.0  2788.0    36291.0\n",
              "2020-02-29         79251.0  2835.0    39279.0\n",
              "2020-03-01         79826.0  2870.0    42118.0\n",
              "2020-03-02         80026.0  2912.0    44810.0\n",
              "2020-03-03         80151.0  2945.0    47404.0\n",
              "2020-03-04         80271.0  2981.0    49955.0"
            ]
          },
          "metadata": {
            "tags": []
          },
          "execution_count": 46
        }
      ]
    },
    {
      "cell_type": "code",
      "metadata": {
        "colab": {
          "base_uri": "https://localhost:8080/",
          "height": 510
        },
        "id": "1DaLtMN1H-_Y",
        "outputId": "7228e13d-7122-4bcd-c9eb-805cfa479c52"
      },
      "source": [
        "df_china.plot(figsize = (10,7), title = 'CODV-19')"
      ],
      "execution_count": 48,
      "outputs": [
        {
          "output_type": "execute_result",
          "data": {
            "text/plain": [
              "<matplotlib.axes._subplots.AxesSubplot at 0x7fc75af28e10>"
            ]
          },
          "metadata": {
            "tags": []
          },
          "execution_count": 48
        },
        {
          "output_type": "display_data",
          "data": {
            "image/png": "[encoded data removed]",
            "text/plain": [
              "<Figure size 720x504 with 1 Axes>"
            ]
          },
          "metadata": {
            "tags": [],
            "needs_background": "light"
          }
        }
      ]
    },
    {
      "cell_type": "code",
      "metadata": {
        "id": "vYjeNNjwIUBP"
      },
      "source": [
        "import matplotlib.pyplot as plt"
      ],
      "execution_count": 49,
      "outputs": []
    },
    {
      "cell_type": "code",
      "metadata": {
        "colab": {
          "base_uri": "https://localhost:8080/",
          "height": 493
        },
        "id": "aFgV7noCIggA",
        "outputId": "6a1f9393-f79c-4e1f-bbb8-b62073eaf56c"
      },
      "source": [
        "df_china.plot(figsize = (10,7), title = 'CODV-19')\n",
        "plt.xlabel('Date')\n",
        "plt.ylabel('People')\n",
        "plt.show()"
      ],
      "execution_count": 50,
      "outputs": [
        {
          "output_type": "display_data",
          "data": {
            "image/png": "[encoded data removed]",
            "text/plain": [
              "<Figure size 720x504 with 1 Axes>"
            ]
          },
          "metadata": {
            "tags": [],
            "needs_background": "light"
          }
        }
      ]
    },
    {
      "cell_type": "code",
      "metadata": {
        "colab": {
          "base_uri": "https://localhost:8080/",
          "height": 493
        },
        "id": "nWP903jwJGYv",
        "outputId": "e80baba5-eb19-43e3-d092-94226ad30e98"
      },
      "source": [
        "ax = df_china.plot(figsize = (10,7), title = 'COVID-19',\n",
        "              legend = False,\n",
        "              style = ['r-','g--', 'b:*'])\n",
        "ax.legend(['1', 'dos', '3'])\n",
        "plt.xlabel('Date')\n",
        "plt.ylabel('People')\n",
        "plt.show()"
      ],
      "execution_count": 52,
      "outputs": [
        {
          "output_type": "display_data",
          "data": {
            "image/png": "[encoded data removed]",
            "text/plain": [
              "<Figure size 720x504 with 1 Axes>"
            ]
          },
          "metadata": {
            "tags": [],
            "needs_background": "light"
          }
        }
      ]
    },
    {
      "cell_type": "code",
      "metadata": {
        "colab": {
          "base_uri": "https://localhost:8080/",
          "height": 173
        },
        "id": "qjlanZO1Jf6h",
        "outputId": "109578c7-8480-4e6f-d184-06b63fce7a56"
      },
      "source": [
        "df_monthly = df_china.resample('M').max()\n",
        "df_monthly"
      ],
      "execution_count": 53,
      "outputs": [
        {
          "output_type": "execute_result",
          "data": {
            "text/html": [
              "<div>\n",
              "<style scoped>\n",
              "    .dataframe tbody tr th:only-of-type {\n",
              "        vertical-align: middle;\n",
              "    }\n",
              "\n",
              "    .dataframe tbody tr th {\n",
              "        vertical-align: top;\n",
              "    }\n",
              "\n",
              "    .dataframe thead th {\n",
              "        text-align: right;\n",
              "    }\n",
              "</style>\n",
              "<table border=\"1\" class=\"dataframe\">\n",
              "  <thead>\n",
              "    <tr style=\"text-align: right;\">\n",
              "      <th></th>\n",
              "      <th>Confirmed</th>\n",
              "      <th>Deaths</th>\n",
              "      <th>Recovered</th>\n",
              "    </tr>\n",
              "    <tr>\n",
              "      <th>ObservationDate</th>\n",
              "      <th></th>\n",
              "      <th></th>\n",
              "      <th></th>\n",
              "    </tr>\n",
              "  </thead>\n",
              "  <tbody>\n",
              "    <tr>\n",
              "      <th>2020-01-31</th>\n",
              "      <td>9783.0</td>\n",
              "      <td>213.0</td>\n",
              "      <td>214.0</td>\n",
              "    </tr>\n",
              "    <tr>\n",
              "      <th>2020-02-29</th>\n",
              "      <td>79251.0</td>\n",
              "      <td>2835.0</td>\n",
              "      <td>39279.0</td>\n",
              "    </tr>\n",
              "    <tr>\n",
              "      <th>2020-03-31</th>\n",
              "      <td>80271.0</td>\n",
              "      <td>2981.0</td>\n",
              "      <td>49955.0</td>\n",
              "    </tr>\n",
              "  </tbody>\n",
              "</table>\n",
              "</div>"
            ],
            "text/plain": [
              "                 Confirmed  Deaths  Recovered\n",
              "ObservationDate                              \n",
              "2020-01-31          9783.0   213.0      214.0\n",
              "2020-02-29         79251.0  2835.0    39279.0\n",
              "2020-03-31         80271.0  2981.0    49955.0"
            ]
          },
          "metadata": {
            "tags": []
          },
          "execution_count": 53
        }
      ]
    },
    {
      "cell_type": "code",
      "metadata": {
        "colab": {
          "base_uri": "https://localhost:8080/",
          "height": 554
        },
        "id": "wZZF7RznJ46P",
        "outputId": "7ea3d80d-5162-4c1a-e363-8f0d2a77a848"
      },
      "source": [
        "df_monthly.plot(figsize=(10,7),kind='bar', stacked = True)"
      ],
      "execution_count": 55,
      "outputs": [
        {
          "output_type": "execute_result",
          "data": {
            "text/plain": [
              "<matplotlib.axes._subplots.AxesSubplot at 0x7fc75a90a990>"
            ]
          },
          "metadata": {
            "tags": []
          },
          "execution_count": 55
        },
        {
          "output_type": "display_data",
          "data": {
            "image/png": "[encoded data removed]",
            "text/plain": [
              "<Figure size 720x504 with 1 Axes>"
            ]
          },
          "metadata": {
            "tags": [],
            "needs_background": "light"
          }
        }
      ]
    },
    {
      "cell_type": "code",
      "metadata": {
        "colab": {
          "base_uri": "https://localhost:8080/",
          "height": 173
        },
        "id": "zpkGCC5fKNvu",
        "outputId": "3ae8e1ff-19e5-4945-b224-deecbaad067c"
      },
      "source": [
        "df_monthly['Traitment'] = df_monthly['Confirmed'] - df_monthly['Deaths'] - df_monthly['Recovered']\n",
        "df_monthly"
      ],
      "execution_count": 57,
      "outputs": [
        {
          "output_type": "execute_result",
          "data": {
            "text/html": [
              "<div>\n",
              "<style scoped>\n",
              "    .dataframe tbody tr th:only-of-type {\n",
              "        vertical-align: middle;\n",
              "    }\n",
              "\n",
              "    .dataframe tbody tr th {\n",
              "        vertical-align: top;\n",
              "    }\n",
              "\n",
              "    .dataframe thead th {\n",
              "        text-align: right;\n",
              "    }\n",
              "</style>\n",
              "<table border=\"1\" class=\"dataframe\">\n",
              "  <thead>\n",
              "    <tr style=\"text-align: right;\">\n",
              "      <th></th>\n",
              "      <th>Confirmed</th>\n",
              "      <th>Deaths</th>\n",
              "      <th>Recovered</th>\n",
              "      <th>Traitment</th>\n",
              "    </tr>\n",
              "    <tr>\n",
              "      <th>ObservationDate</th>\n",
              "      <th></th>\n",
              "      <th></th>\n",
              "      <th></th>\n",
              "      <th></th>\n",
              "    </tr>\n",
              "  </thead>\n",
              "  <tbody>\n",
              "    <tr>\n",
              "      <th>2020-01-31</th>\n",
              "      <td>9783.0</td>\n",
              "      <td>213.0</td>\n",
              "      <td>214.0</td>\n",
              "      <td>9356.0</td>\n",
              "    </tr>\n",
              "    <tr>\n",
              "      <th>2020-02-29</th>\n",
              "      <td>79251.0</td>\n",
              "      <td>2835.0</td>\n",
              "      <td>39279.0</td>\n",
              "      <td>37137.0</td>\n",
              "    </tr>\n",
              "    <tr>\n",
              "      <th>2020-03-31</th>\n",
              "      <td>80271.0</td>\n",
              "      <td>2981.0</td>\n",
              "      <td>49955.0</td>\n",
              "      <td>27335.0</td>\n",
              "    </tr>\n",
              "  </tbody>\n",
              "</table>\n",
              "</div>"
            ],
            "text/plain": [
              "                 Confirmed  Deaths  Recovered  Traitment\n",
              "ObservationDate                                         \n",
              "2020-01-31          9783.0   213.0      214.0     9356.0\n",
              "2020-02-29         79251.0  2835.0    39279.0    37137.0\n",
              "2020-03-31         80271.0  2981.0    49955.0    27335.0"
            ]
          },
          "metadata": {
            "tags": []
          },
          "execution_count": 57
        }
      ]
    },
    {
      "cell_type": "code",
      "metadata": {
        "colab": {
          "base_uri": "https://localhost:8080/",
          "height": 263
        },
        "id": "jT8pkSWMK5_A",
        "outputId": "cfe406a4-4de8-4d48-c4cc-15034d02636d"
      },
      "source": [
        "df_monthly[['Deaths', 'Recovered', 'Traitment']].T.plot(figsize=(10,7), kind = 'pie', subplots=True)"
      ],
      "execution_count": 58,
      "outputs": [
        {
          "output_type": "execute_result",
          "data": {
            "text/plain": [
              "array([<matplotlib.axes._subplots.AxesSubplot object at 0x7fc75a82f090>,\n",
              "       <matplotlib.axes._subplots.AxesSubplot object at 0x7fc75a7efb50>,\n",
              "       <matplotlib.axes._subplots.AxesSubplot object at 0x7fc75a89b910>],\n",
              "      dtype=object)"
            ]
          },
          "metadata": {
            "tags": []
          },
          "execution_count": 58
        },
        {
          "output_type": "display_data",
          "data": {
            "image/png": "[encoded data removed]",
            "text/plain": [
              "<Figure size 720x504 with 3 Axes>"
            ]
          },
          "metadata": {
            "tags": []
          }
        }
      ]
    },
    {
      "cell_type": "code",
      "metadata": {
        "colab": {
          "base_uri": "https://localhost:8080/",
          "height": 445
        },
        "id": "V6IkucsKLTHQ",
        "outputId": "55d11bfa-19a0-4055-e7c5-af5eef412b81"
      },
      "source": [
        "df_china['rate'] = 1 - df_china['Deaths']/df_china['Confirmed']\n",
        "df_china['rate'].hist(figsize=(10,7), bins=10)"
      ],
      "execution_count": 59,
      "outputs": [
        {
          "output_type": "execute_result",
          "data": {
            "text/plain": [
              "<matplotlib.axes._subplots.AxesSubplot at 0x7fc75a763450>"
            ]
          },
          "metadata": {
            "tags": []
          },
          "execution_count": 59
        },
        {
          "output_type": "display_data",
          "data": {
            "image/png": "[encoded data removed]",
            "text/plain": [
              "<Figure size 720x504 with 1 Axes>"
            ]
          },
          "metadata": {
            "tags": [],
            "needs_background": "light"
          }
        }
      ]
    },
    {
      "cell_type": "code",
      "metadata": {
        "colab": {
          "base_uri": "https://localhost:8080/",
          "height": 445
        },
        "id": "Jmrq0S6ML-mZ",
        "outputId": "acbecc1c-b28b-4229-987b-fd8dd241694e"
      },
      "source": [
        "df_china['rate'].plot(kind = 'kde',figsize = (10,7))"
      ],
      "execution_count": 62,
      "outputs": [
        {
          "output_type": "execute_result",
          "data": {
            "text/plain": [
              "<matplotlib.axes._subplots.AxesSubplot at 0x7fc74a630490>"
            ]
          },
          "metadata": {
            "tags": []
          },
          "execution_count": 62
        },
        {
          "output_type": "display_data",
          "data": {
            "image/png": "[encoded data removed]",
            "text/plain": [
              "<Figure size 720x504 with 1 Axes>"
            ]
          },
          "metadata": {
            "tags": [],
            "needs_background": "light"
          }
        }
      ]
    },
    {
      "cell_type": "code",
      "metadata": {
        "id": "HDMjQ05QMT8i"
      },
      "source": [
        ""
      ],
      "execution_count": null,
      "outputs": []
    }
  ]
}