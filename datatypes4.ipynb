{
  "nbformat": 4,
  "nbformat_minor": 0,
  "metadata": {
    "colab": {
      "name": "datatypes4.ipynb",
      "provenance": [],
      "authorship_tag": "ABX9TyOiXg55JkQetPM/Un7GSIIJ",
      "include_colab_link": true
    },
    "kernelspec": {
      "name": "python3",
      "display_name": "Python 3"
    },
    "language_info": {
      "name": "python"
    }
  },
  "cells": [
    {
      "cell_type": "markdown",
      "metadata": {
        "id": "view-in-github",
        "colab_type": "text"
      },
      "source": [
        "<a href=\"https://colab.research.google.com/github/NPSoto/PandasMastery/blob/main/datatypes4.ipynb\" target=\"_parent\"><img src=\"https://colab.research.google.com/assets/colab-badge.svg\" alt=\"Open In Colab\"/></a>"
      ]
    },
    {
      "cell_type": "code",
      "metadata": {
        "colab": {
          "base_uri": "https://localhost:8080/",
          "height": 343
        },
        "id": "NrLnG5hy20_o",
        "outputId": "38bb5995-37d0-4002-8594-4d82d60eb350"
      },
      "source": [
        "!pip install --upgrade pandas"
      ],
      "execution_count": 1,
      "outputs": [
        {
          "output_type": "stream",
          "text": [
            "Collecting pandas\n",
            "\u001b[?25l  Downloading https://files.pythonhosted.org/packages/51/51/48f3fc47c4e2144da2806dfb6629c4dd1fa3d5a143f9652b141e979a8ca9/pandas-1.2.4-cp37-cp37m-manylinux1_x86_64.whl (9.9MB)\n",
            "\u001b[K     |████████████████████████████████| 9.9MB 7.6MB/s \n",
            "\u001b[?25hRequirement already satisfied, skipping upgrade: python-dateutil>=2.7.3 in /usr/local/lib/python3.7/dist-packages (from pandas) (2.8.1)\n",
            "Requirement already satisfied, skipping upgrade: pytz>=2017.3 in /usr/local/lib/python3.7/dist-packages (from pandas) (2018.9)\n",
            "Requirement already satisfied, skipping upgrade: numpy>=1.16.5 in /usr/local/lib/python3.7/dist-packages (from pandas) (1.19.5)\n",
            "Requirement already satisfied, skipping upgrade: six>=1.5 in /usr/local/lib/python3.7/dist-packages (from python-dateutil>=2.7.3->pandas) (1.15.0)\n",
            "\u001b[31mERROR: google-colab 1.0.0 has requirement pandas~=1.1.0; python_version >= \"3.0\", but you'll have pandas 1.2.4 which is incompatible.\u001b[0m\n",
            "Installing collected packages: pandas\n",
            "  Found existing installation: pandas 1.1.5\n",
            "    Uninstalling pandas-1.1.5:\n",
            "      Successfully uninstalled pandas-1.1.5\n",
            "Successfully installed pandas-1.2.4\n"
          ],
          "name": "stdout"
        },
        {
          "output_type": "display_data",
          "data": {
            "application/vnd.colab-display-data+json": {
              "pip_warning": {
                "packages": [
                  "pandas"
                ]
              }
            }
          },
          "metadata": {
            "tags": []
          }
        }
      ]
    },
    {
      "cell_type": "code",
      "metadata": {
        "colab": {
          "base_uri": "https://localhost:8080/"
        },
        "id": "BUg6yiqS3J36",
        "outputId": "40711b7a-03ff-4300-ac62-0f4d95e40341"
      },
      "source": [
        "from google.colab import drive\n",
        "drive.mount('/content/drive')"
      ],
      "execution_count": 1,
      "outputs": [
        {
          "output_type": "stream",
          "text": [
            "Mounted at /content/drive\n"
          ],
          "name": "stdout"
        }
      ]
    },
    {
      "cell_type": "code",
      "metadata": {
        "colab": {
          "base_uri": "https://localhost:8080/"
        },
        "id": "r_9Av-kd3Weu",
        "outputId": "f02f1a86-a335-47c1-8cc4-4eb3dbeed0f7"
      },
      "source": [
        "%cd '/content/drive/My Drive/Pandas y Python'\n",
        "!ls"
      ],
      "execution_count": 2,
      "outputs": [
        {
          "output_type": "stream",
          "text": [
            "/content/drive/My Drive/Pandas y Python\n",
            "datatypes4.ipynb  db  db2  saveandload3.ipynb\n"
          ],
          "name": "stdout"
        }
      ]
    },
    {
      "cell_type": "code",
      "metadata": {
        "colab": {
          "base_uri": "https://localhost:8080/",
          "height": 35
        },
        "id": "SKvz8evT3llF",
        "outputId": "160b869e-9cfa-440c-91c5-de56e687bfbd"
      },
      "source": [
        "dir_pandas = \"/content/drive/My Drive/Pandas y Python/db/{}\"\n",
        "dir_pandas"
      ],
      "execution_count": 3,
      "outputs": [
        {
          "output_type": "execute_result",
          "data": {
            "application/vnd.google.colaboratory.intrinsic+json": {
              "type": "string"
            },
            "text/plain": [
              "'/content/drive/My Drive/Pandas y Python/db/{}'"
            ]
          },
          "metadata": {
            "tags": []
          },
          "execution_count": 3
        }
      ]
    },
    {
      "cell_type": "code",
      "metadata": {
        "colab": {
          "base_uri": "https://localhost:8080/",
          "height": 35
        },
        "id": "wAPJcdk632K0",
        "outputId": "62608cab-eb65-47a5-b493-2bf97733b7f5"
      },
      "source": [
        "import pandas as pd\n",
        "pd.__version__"
      ],
      "execution_count": 4,
      "outputs": [
        {
          "output_type": "execute_result",
          "data": {
            "application/vnd.google.colaboratory.intrinsic+json": {
              "type": "string"
            },
            "text/plain": [
              "'1.2.4'"
            ]
          },
          "metadata": {
            "tags": []
          },
          "execution_count": 4
        }
      ]
    },
    {
      "cell_type": "code",
      "metadata": {
        "colab": {
          "base_uri": "https://localhost:8080/"
        },
        "id": "NzCT1Dp638WL",
        "outputId": "5d4c8329-ca64-4e47-a070-f7dfad0e9a68"
      },
      "source": [
        "%cd '/content/drive/My Drive/Pandas y Python/db'\n",
        "!ls"
      ],
      "execution_count": 5,
      "outputs": [
        {
          "output_type": "stream",
          "text": [
            "/content/drive/My Drive/Pandas y Python/db\n",
            "'Copia de API_AG.LND.AGRI.K2_DS2_en_csv_v2_716226.csv'\n",
            "'Copia de API_AG.LND.FRST.K2_DS2_en_csv_v2_716262.csv'\n",
            "'Copia de API_EG.USE.ELEC.KH.PC_DS2_en_csv_v2_715482.csv'\n",
            "'Copia de API_EN.ATM.CO2E.KT_DS2_en_csv_v2_713263.csv'\n",
            "'Copia de API_SP.POP.TOTL_DS2_en_csv_v2_713131.csv'\n",
            "'Copia de covid_19_data.csv'\n",
            "'Copia de flights.db'\n",
            "'Copia de GlobalLandTemperaturesByCountry.csv'\n",
            "'Copia de london_merged.csv'\n",
            "'Copia de Meteorite_Landings.csv'\n",
            "'Copia de poblacion.csv'\n",
            "'Copia de test.csv'\n",
            "'Copia de test.hdf'\n",
            "'Copia de test.json'\n",
            "'Copia de test.parquet'\n",
            "'Copia de test.pkl'\n",
            "'Copia de test.xlsx'\n"
          ],
          "name": "stdout"
        }
      ]
    },
    {
      "cell_type": "code",
      "metadata": {
        "id": "iTw_UZ_W4J7T"
      },
      "source": [
        "df_meterites = pd.read_csv(dir_pandas.format('Meteorite_Landings.csv'))"
      ],
      "execution_count": 9,
      "outputs": []
    },
    {
      "cell_type": "code",
      "metadata": {
        "id": "72nsEz5A4nBJ"
      },
      "source": [
        "df_meteorites = df_meterites"
      ],
      "execution_count": 10,
      "outputs": []
    },
    {
      "cell_type": "code",
      "metadata": {
        "colab": {
          "base_uri": "https://localhost:8080/",
          "height": 563
        },
        "id": "2SnIRr3c5P88",
        "outputId": "17907fa4-7049-4a42-a676-63ea65a2d9f4"
      },
      "source": [
        "df_meteorites.head(10)"
      ],
      "execution_count": 11,
      "outputs": [
        {
          "output_type": "execute_result",
          "data": {
            "text/html": [
              "<div>\n",
              "<style scoped>\n",
              "    .dataframe tbody tr th:only-of-type {\n",
              "        vertical-align: middle;\n",
              "    }\n",
              "\n",
              "    .dataframe tbody tr th {\n",
              "        vertical-align: top;\n",
              "    }\n",
              "\n",
              "    .dataframe thead th {\n",
              "        text-align: right;\n",
              "    }\n",
              "</style>\n",
              "<table border=\"1\" class=\"dataframe\">\n",
              "  <thead>\n",
              "    <tr style=\"text-align: right;\">\n",
              "      <th></th>\n",
              "      <th>name</th>\n",
              "      <th>id</th>\n",
              "      <th>nametype</th>\n",
              "      <th>recclass</th>\n",
              "      <th>mass (g)</th>\n",
              "      <th>fall</th>\n",
              "      <th>year</th>\n",
              "      <th>reclat</th>\n",
              "      <th>reclong</th>\n",
              "      <th>GeoLocation</th>\n",
              "    </tr>\n",
              "  </thead>\n",
              "  <tbody>\n",
              "    <tr>\n",
              "      <th>0</th>\n",
              "      <td>Aachen</td>\n",
              "      <td>1</td>\n",
              "      <td>Valid</td>\n",
              "      <td>L5</td>\n",
              "      <td>21.0</td>\n",
              "      <td>Fell</td>\n",
              "      <td>01/01/1880 12:00:00 AM</td>\n",
              "      <td>50.77500</td>\n",
              "      <td>6.08333</td>\n",
              "      <td>(50.775, 6.08333)</td>\n",
              "    </tr>\n",
              "    <tr>\n",
              "      <th>1</th>\n",
              "      <td>Aarhus</td>\n",
              "      <td>2</td>\n",
              "      <td>Valid</td>\n",
              "      <td>H6</td>\n",
              "      <td>720.0</td>\n",
              "      <td>Fell</td>\n",
              "      <td>01/01/1951 12:00:00 AM</td>\n",
              "      <td>56.18333</td>\n",
              "      <td>10.23333</td>\n",
              "      <td>(56.18333, 10.23333)</td>\n",
              "    </tr>\n",
              "    <tr>\n",
              "      <th>2</th>\n",
              "      <td>Abee</td>\n",
              "      <td>6</td>\n",
              "      <td>Valid</td>\n",
              "      <td>EH4</td>\n",
              "      <td>107000.0</td>\n",
              "      <td>Fell</td>\n",
              "      <td>01/01/1952 12:00:00 AM</td>\n",
              "      <td>54.21667</td>\n",
              "      <td>-113.00000</td>\n",
              "      <td>(54.21667, -113.0)</td>\n",
              "    </tr>\n",
              "    <tr>\n",
              "      <th>3</th>\n",
              "      <td>Acapulco</td>\n",
              "      <td>10</td>\n",
              "      <td>Valid</td>\n",
              "      <td>Acapulcoite</td>\n",
              "      <td>1914.0</td>\n",
              "      <td>Fell</td>\n",
              "      <td>01/01/1976 12:00:00 AM</td>\n",
              "      <td>16.88333</td>\n",
              "      <td>-99.90000</td>\n",
              "      <td>(16.88333, -99.9)</td>\n",
              "    </tr>\n",
              "    <tr>\n",
              "      <th>4</th>\n",
              "      <td>Achiras</td>\n",
              "      <td>370</td>\n",
              "      <td>Valid</td>\n",
              "      <td>L6</td>\n",
              "      <td>780.0</td>\n",
              "      <td>Fell</td>\n",
              "      <td>01/01/1902 12:00:00 AM</td>\n",
              "      <td>-33.16667</td>\n",
              "      <td>-64.95000</td>\n",
              "      <td>(-33.16667, -64.95)</td>\n",
              "    </tr>\n",
              "    <tr>\n",
              "      <th>5</th>\n",
              "      <td>Adhi Kot</td>\n",
              "      <td>379</td>\n",
              "      <td>Valid</td>\n",
              "      <td>EH4</td>\n",
              "      <td>4239.0</td>\n",
              "      <td>Fell</td>\n",
              "      <td>01/01/1919 12:00:00 AM</td>\n",
              "      <td>32.10000</td>\n",
              "      <td>71.80000</td>\n",
              "      <td>(32.1, 71.8)</td>\n",
              "    </tr>\n",
              "    <tr>\n",
              "      <th>6</th>\n",
              "      <td>Adzhi-Bogdo (stone)</td>\n",
              "      <td>390</td>\n",
              "      <td>Valid</td>\n",
              "      <td>LL3-6</td>\n",
              "      <td>910.0</td>\n",
              "      <td>Fell</td>\n",
              "      <td>01/01/1949 12:00:00 AM</td>\n",
              "      <td>44.83333</td>\n",
              "      <td>95.16667</td>\n",
              "      <td>(44.83333, 95.16667)</td>\n",
              "    </tr>\n",
              "    <tr>\n",
              "      <th>7</th>\n",
              "      <td>Agen</td>\n",
              "      <td>392</td>\n",
              "      <td>Valid</td>\n",
              "      <td>H5</td>\n",
              "      <td>30000.0</td>\n",
              "      <td>Fell</td>\n",
              "      <td>01/01/1814 12:00:00 AM</td>\n",
              "      <td>44.21667</td>\n",
              "      <td>0.61667</td>\n",
              "      <td>(44.21667, 0.61667)</td>\n",
              "    </tr>\n",
              "    <tr>\n",
              "      <th>8</th>\n",
              "      <td>Aguada</td>\n",
              "      <td>398</td>\n",
              "      <td>Valid</td>\n",
              "      <td>L6</td>\n",
              "      <td>1620.0</td>\n",
              "      <td>Fell</td>\n",
              "      <td>01/01/1930 12:00:00 AM</td>\n",
              "      <td>-31.60000</td>\n",
              "      <td>-65.23333</td>\n",
              "      <td>(-31.6, -65.23333)</td>\n",
              "    </tr>\n",
              "    <tr>\n",
              "      <th>9</th>\n",
              "      <td>Aguila Blanca</td>\n",
              "      <td>417</td>\n",
              "      <td>Valid</td>\n",
              "      <td>L</td>\n",
              "      <td>1440.0</td>\n",
              "      <td>Fell</td>\n",
              "      <td>01/01/1920 12:00:00 AM</td>\n",
              "      <td>-30.86667</td>\n",
              "      <td>-64.55000</td>\n",
              "      <td>(-30.86667, -64.55)</td>\n",
              "    </tr>\n",
              "  </tbody>\n",
              "</table>\n",
              "</div>"
            ],
            "text/plain": [
              "                  name   id nametype  ...    reclat    reclong           GeoLocation\n",
              "0               Aachen    1    Valid  ...  50.77500    6.08333     (50.775, 6.08333)\n",
              "1               Aarhus    2    Valid  ...  56.18333   10.23333  (56.18333, 10.23333)\n",
              "2                 Abee    6    Valid  ...  54.21667 -113.00000    (54.21667, -113.0)\n",
              "3             Acapulco   10    Valid  ...  16.88333  -99.90000     (16.88333, -99.9)\n",
              "4              Achiras  370    Valid  ... -33.16667  -64.95000   (-33.16667, -64.95)\n",
              "5             Adhi Kot  379    Valid  ...  32.10000   71.80000          (32.1, 71.8)\n",
              "6  Adzhi-Bogdo (stone)  390    Valid  ...  44.83333   95.16667  (44.83333, 95.16667)\n",
              "7                 Agen  392    Valid  ...  44.21667    0.61667   (44.21667, 0.61667)\n",
              "8               Aguada  398    Valid  ... -31.60000  -65.23333    (-31.6, -65.23333)\n",
              "9        Aguila Blanca  417    Valid  ... -30.86667  -64.55000   (-30.86667, -64.55)\n",
              "\n",
              "[10 rows x 10 columns]"
            ]
          },
          "metadata": {
            "tags": []
          },
          "execution_count": 11
        }
      ]
    },
    {
      "cell_type": "code",
      "metadata": {
        "colab": {
          "base_uri": "https://localhost:8080/"
        },
        "id": "fZGa1yEk5Tec",
        "outputId": "bea8efdd-01ff-49cb-e0b3-50a318883300"
      },
      "source": [
        "df_meteorites.shape"
      ],
      "execution_count": 13,
      "outputs": [
        {
          "output_type": "execute_result",
          "data": {
            "text/plain": [
              "(45716, 10)"
            ]
          },
          "metadata": {
            "tags": []
          },
          "execution_count": 13
        }
      ]
    },
    {
      "cell_type": "code",
      "metadata": {
        "colab": {
          "base_uri": "https://localhost:8080/"
        },
        "id": "iN_quT-i-wyY",
        "outputId": "642cd104-c021-4e1e-e063-2f6c95fdfacf"
      },
      "source": [
        "df_meteorites.sample"
      ],
      "execution_count": 14,
      "outputs": [
        {
          "output_type": "execute_result",
          "data": {
            "text/plain": [
              "<bound method NDFrame.sample of              name     id nametype  ...    reclat    reclong             GeoLocation\n",
              "0          Aachen      1    Valid  ...  50.77500    6.08333       (50.775, 6.08333)\n",
              "1          Aarhus      2    Valid  ...  56.18333   10.23333    (56.18333, 10.23333)\n",
              "2            Abee      6    Valid  ...  54.21667 -113.00000      (54.21667, -113.0)\n",
              "3        Acapulco     10    Valid  ...  16.88333  -99.90000       (16.88333, -99.9)\n",
              "4         Achiras    370    Valid  ... -33.16667  -64.95000     (-33.16667, -64.95)\n",
              "...           ...    ...      ...  ...       ...        ...                     ...\n",
              "45711  Zillah 002  31356    Valid  ...  29.03700   17.01850       (29.037, 17.0185)\n",
              "45712      Zinder  30409    Valid  ...  13.78333    8.96667     (13.78333, 8.96667)\n",
              "45713        Zlin  30410    Valid  ...  49.25000   17.66667       (49.25, 17.66667)\n",
              "45714   Zubkovsky  31357    Valid  ...  49.78917   41.50460     (49.78917, 41.5046)\n",
              "45715  Zulu Queen  30414    Valid  ...  33.98333 -115.68333  (33.98333, -115.68333)\n",
              "\n",
              "[45716 rows x 10 columns]>"
            ]
          },
          "metadata": {
            "tags": []
          },
          "execution_count": 14
        }
      ]
    },
    {
      "cell_type": "code",
      "metadata": {
        "colab": {
          "base_uri": "https://localhost:8080/"
        },
        "id": "QPXH0kPA-1sO",
        "outputId": "97fbecd1-5df9-455f-af6f-2a239f38958d"
      },
      "source": [
        "df_meteorites.size"
      ],
      "execution_count": 15,
      "outputs": [
        {
          "output_type": "execute_result",
          "data": {
            "text/plain": [
              "457160"
            ]
          },
          "metadata": {
            "tags": []
          },
          "execution_count": 15
        }
      ]
    },
    {
      "cell_type": "code",
      "metadata": {
        "colab": {
          "base_uri": "https://localhost:8080/",
          "height": 297
        },
        "id": "yC10qI1H_Dpk",
        "outputId": "0792078b-b87c-4e44-a598-8a1524942a60"
      },
      "source": [
        "df_meteorites.describe()"
      ],
      "execution_count": 20,
      "outputs": [
        {
          "output_type": "execute_result",
          "data": {
            "text/html": [
              "<div>\n",
              "<style scoped>\n",
              "    .dataframe tbody tr th:only-of-type {\n",
              "        vertical-align: middle;\n",
              "    }\n",
              "\n",
              "    .dataframe tbody tr th {\n",
              "        vertical-align: top;\n",
              "    }\n",
              "\n",
              "    .dataframe thead th {\n",
              "        text-align: right;\n",
              "    }\n",
              "</style>\n",
              "<table border=\"1\" class=\"dataframe\">\n",
              "  <thead>\n",
              "    <tr style=\"text-align: right;\">\n",
              "      <th></th>\n",
              "      <th>id</th>\n",
              "      <th>mass (g)</th>\n",
              "      <th>reclat</th>\n",
              "      <th>reclong</th>\n",
              "    </tr>\n",
              "  </thead>\n",
              "  <tbody>\n",
              "    <tr>\n",
              "      <th>count</th>\n",
              "      <td>45,716.0</td>\n",
              "      <td>45,585.0</td>\n",
              "      <td>38,401.0</td>\n",
              "      <td>38,401.0</td>\n",
              "    </tr>\n",
              "    <tr>\n",
              "      <th>mean</th>\n",
              "      <td>26,889.7</td>\n",
              "      <td>13,278.1</td>\n",
              "      <td>-39.1</td>\n",
              "      <td>61.1</td>\n",
              "    </tr>\n",
              "    <tr>\n",
              "      <th>std</th>\n",
              "      <td>16,860.7</td>\n",
              "      <td>574,988.9</td>\n",
              "      <td>46.4</td>\n",
              "      <td>80.6</td>\n",
              "    </tr>\n",
              "    <tr>\n",
              "      <th>min</th>\n",
              "      <td>1.0</td>\n",
              "      <td>0.0</td>\n",
              "      <td>-87.4</td>\n",
              "      <td>-165.4</td>\n",
              "    </tr>\n",
              "    <tr>\n",
              "      <th>25%</th>\n",
              "      <td>12,688.8</td>\n",
              "      <td>7.2</td>\n",
              "      <td>-76.7</td>\n",
              "      <td>0.0</td>\n",
              "    </tr>\n",
              "    <tr>\n",
              "      <th>50%</th>\n",
              "      <td>24,261.5</td>\n",
              "      <td>32.6</td>\n",
              "      <td>-71.5</td>\n",
              "      <td>35.7</td>\n",
              "    </tr>\n",
              "    <tr>\n",
              "      <th>75%</th>\n",
              "      <td>40,656.8</td>\n",
              "      <td>202.6</td>\n",
              "      <td>0.0</td>\n",
              "      <td>157.2</td>\n",
              "    </tr>\n",
              "    <tr>\n",
              "      <th>max</th>\n",
              "      <td>57,458.0</td>\n",
              "      <td>60,000,000.0</td>\n",
              "      <td>81.2</td>\n",
              "      <td>354.5</td>\n",
              "    </tr>\n",
              "  </tbody>\n",
              "</table>\n",
              "</div>"
            ],
            "text/plain": [
              "            id     mass (g)   reclat  reclong\n",
              "count 45,716.0     45,585.0 38,401.0 38,401.0\n",
              "mean  26,889.7     13,278.1    -39.1     61.1\n",
              "std   16,860.7    574,988.9     46.4     80.6\n",
              "min        1.0          0.0    -87.4   -165.4\n",
              "25%   12,688.8          7.2    -76.7      0.0\n",
              "50%   24,261.5         32.6    -71.5     35.7\n",
              "75%   40,656.8        202.6      0.0    157.2\n",
              "max   57,458.0 60,000,000.0     81.2    354.5"
            ]
          },
          "metadata": {
            "tags": []
          },
          "execution_count": 20
        }
      ]
    },
    {
      "cell_type": "code",
      "metadata": {
        "id": "D_E0cAR9_Hob"
      },
      "source": [
        "pd.options.display.float_format = '{:,.1f}'.format"
      ],
      "execution_count": 19,
      "outputs": []
    },
    {
      "cell_type": "code",
      "metadata": {
        "colab": {
          "base_uri": "https://localhost:8080/",
          "height": 444
        },
        "id": "0Mi27JlvANRZ",
        "outputId": "1e56c7b4-0b5b-484a-fc70-4a9b99db816a"
      },
      "source": [
        "df_meteorites.describe(include='all')"
      ],
      "execution_count": 21,
      "outputs": [
        {
          "output_type": "execute_result",
          "data": {
            "text/html": [
              "<div>\n",
              "<style scoped>\n",
              "    .dataframe tbody tr th:only-of-type {\n",
              "        vertical-align: middle;\n",
              "    }\n",
              "\n",
              "    .dataframe tbody tr th {\n",
              "        vertical-align: top;\n",
              "    }\n",
              "\n",
              "    .dataframe thead th {\n",
              "        text-align: right;\n",
              "    }\n",
              "</style>\n",
              "<table border=\"1\" class=\"dataframe\">\n",
              "  <thead>\n",
              "    <tr style=\"text-align: right;\">\n",
              "      <th></th>\n",
              "      <th>name</th>\n",
              "      <th>id</th>\n",
              "      <th>nametype</th>\n",
              "      <th>recclass</th>\n",
              "      <th>mass (g)</th>\n",
              "      <th>fall</th>\n",
              "      <th>year</th>\n",
              "      <th>reclat</th>\n",
              "      <th>reclong</th>\n",
              "      <th>GeoLocation</th>\n",
              "    </tr>\n",
              "  </thead>\n",
              "  <tbody>\n",
              "    <tr>\n",
              "      <th>count</th>\n",
              "      <td>45716</td>\n",
              "      <td>45,716.0</td>\n",
              "      <td>45716</td>\n",
              "      <td>45716</td>\n",
              "      <td>45,585.0</td>\n",
              "      <td>45716</td>\n",
              "      <td>45425</td>\n",
              "      <td>38,401.0</td>\n",
              "      <td>38,401.0</td>\n",
              "      <td>38401</td>\n",
              "    </tr>\n",
              "    <tr>\n",
              "      <th>unique</th>\n",
              "      <td>45716</td>\n",
              "      <td>NaN</td>\n",
              "      <td>2</td>\n",
              "      <td>466</td>\n",
              "      <td>NaN</td>\n",
              "      <td>2</td>\n",
              "      <td>266</td>\n",
              "      <td>NaN</td>\n",
              "      <td>NaN</td>\n",
              "      <td>17100</td>\n",
              "    </tr>\n",
              "    <tr>\n",
              "      <th>top</th>\n",
              "      <td>Pecora Escarpment 91267</td>\n",
              "      <td>NaN</td>\n",
              "      <td>Valid</td>\n",
              "      <td>L6</td>\n",
              "      <td>NaN</td>\n",
              "      <td>Found</td>\n",
              "      <td>01/01/2003 12:00:00 AM</td>\n",
              "      <td>NaN</td>\n",
              "      <td>NaN</td>\n",
              "      <td>(0.0, 0.0)</td>\n",
              "    </tr>\n",
              "    <tr>\n",
              "      <th>freq</th>\n",
              "      <td>1</td>\n",
              "      <td>NaN</td>\n",
              "      <td>45641</td>\n",
              "      <td>8285</td>\n",
              "      <td>NaN</td>\n",
              "      <td>44609</td>\n",
              "      <td>3323</td>\n",
              "      <td>NaN</td>\n",
              "      <td>NaN</td>\n",
              "      <td>6214</td>\n",
              "    </tr>\n",
              "    <tr>\n",
              "      <th>mean</th>\n",
              "      <td>NaN</td>\n",
              "      <td>26,889.7</td>\n",
              "      <td>NaN</td>\n",
              "      <td>NaN</td>\n",
              "      <td>13,278.1</td>\n",
              "      <td>NaN</td>\n",
              "      <td>NaN</td>\n",
              "      <td>-39.1</td>\n",
              "      <td>61.1</td>\n",
              "      <td>NaN</td>\n",
              "    </tr>\n",
              "    <tr>\n",
              "      <th>std</th>\n",
              "      <td>NaN</td>\n",
              "      <td>16,860.7</td>\n",
              "      <td>NaN</td>\n",
              "      <td>NaN</td>\n",
              "      <td>574,988.9</td>\n",
              "      <td>NaN</td>\n",
              "      <td>NaN</td>\n",
              "      <td>46.4</td>\n",
              "      <td>80.6</td>\n",
              "      <td>NaN</td>\n",
              "    </tr>\n",
              "    <tr>\n",
              "      <th>min</th>\n",
              "      <td>NaN</td>\n",
              "      <td>1.0</td>\n",
              "      <td>NaN</td>\n",
              "      <td>NaN</td>\n",
              "      <td>0.0</td>\n",
              "      <td>NaN</td>\n",
              "      <td>NaN</td>\n",
              "      <td>-87.4</td>\n",
              "      <td>-165.4</td>\n",
              "      <td>NaN</td>\n",
              "    </tr>\n",
              "    <tr>\n",
              "      <th>25%</th>\n",
              "      <td>NaN</td>\n",
              "      <td>12,688.8</td>\n",
              "      <td>NaN</td>\n",
              "      <td>NaN</td>\n",
              "      <td>7.2</td>\n",
              "      <td>NaN</td>\n",
              "      <td>NaN</td>\n",
              "      <td>-76.7</td>\n",
              "      <td>0.0</td>\n",
              "      <td>NaN</td>\n",
              "    </tr>\n",
              "    <tr>\n",
              "      <th>50%</th>\n",
              "      <td>NaN</td>\n",
              "      <td>24,261.5</td>\n",
              "      <td>NaN</td>\n",
              "      <td>NaN</td>\n",
              "      <td>32.6</td>\n",
              "      <td>NaN</td>\n",
              "      <td>NaN</td>\n",
              "      <td>-71.5</td>\n",
              "      <td>35.7</td>\n",
              "      <td>NaN</td>\n",
              "    </tr>\n",
              "    <tr>\n",
              "      <th>75%</th>\n",
              "      <td>NaN</td>\n",
              "      <td>40,656.8</td>\n",
              "      <td>NaN</td>\n",
              "      <td>NaN</td>\n",
              "      <td>202.6</td>\n",
              "      <td>NaN</td>\n",
              "      <td>NaN</td>\n",
              "      <td>0.0</td>\n",
              "      <td>157.2</td>\n",
              "      <td>NaN</td>\n",
              "    </tr>\n",
              "    <tr>\n",
              "      <th>max</th>\n",
              "      <td>NaN</td>\n",
              "      <td>57,458.0</td>\n",
              "      <td>NaN</td>\n",
              "      <td>NaN</td>\n",
              "      <td>60,000,000.0</td>\n",
              "      <td>NaN</td>\n",
              "      <td>NaN</td>\n",
              "      <td>81.2</td>\n",
              "      <td>354.5</td>\n",
              "      <td>NaN</td>\n",
              "    </tr>\n",
              "  </tbody>\n",
              "</table>\n",
              "</div>"
            ],
            "text/plain": [
              "                           name       id nametype  ...   reclat  reclong GeoLocation\n",
              "count                     45716 45,716.0    45716  ... 38,401.0 38,401.0       38401\n",
              "unique                    45716      NaN        2  ...      NaN      NaN       17100\n",
              "top     Pecora Escarpment 91267      NaN    Valid  ...      NaN      NaN  (0.0, 0.0)\n",
              "freq                          1      NaN    45641  ...      NaN      NaN        6214\n",
              "mean                        NaN 26,889.7      NaN  ...    -39.1     61.1         NaN\n",
              "std                         NaN 16,860.7      NaN  ...     46.4     80.6         NaN\n",
              "min                         NaN      1.0      NaN  ...    -87.4   -165.4         NaN\n",
              "25%                         NaN 12,688.8      NaN  ...    -76.7      0.0         NaN\n",
              "50%                         NaN 24,261.5      NaN  ...    -71.5     35.7         NaN\n",
              "75%                         NaN 40,656.8      NaN  ...      0.0    157.2         NaN\n",
              "max                         NaN 57,458.0      NaN  ...     81.2    354.5         NaN\n",
              "\n",
              "[11 rows x 10 columns]"
            ]
          },
          "metadata": {
            "tags": []
          },
          "execution_count": 21
        }
      ]
    },
    {
      "cell_type": "code",
      "metadata": {
        "colab": {
          "base_uri": "https://localhost:8080/"
        },
        "id": "xU7Tz8dJCPyo",
        "outputId": "ab6613c4-83ad-483f-ab03-09390f4149ea"
      },
      "source": [
        "df_meteorites.info()"
      ],
      "execution_count": 23,
      "outputs": [
        {
          "output_type": "stream",
          "text": [
            "<class 'pandas.core.frame.DataFrame'>\n",
            "RangeIndex: 45716 entries, 0 to 45715\n",
            "Data columns (total 10 columns):\n",
            " #   Column       Non-Null Count  Dtype  \n",
            "---  ------       --------------  -----  \n",
            " 0   name         45716 non-null  object \n",
            " 1   id           45716 non-null  int64  \n",
            " 2   nametype     45716 non-null  object \n",
            " 3   recclass     45716 non-null  object \n",
            " 4   mass (g)     45585 non-null  float64\n",
            " 5   fall         45716 non-null  object \n",
            " 6   year         45425 non-null  object \n",
            " 7   reclat       38401 non-null  float64\n",
            " 8   reclong      38401 non-null  float64\n",
            " 9   GeoLocation  38401 non-null  object \n",
            "dtypes: float64(3), int64(1), object(6)\n",
            "memory usage: 3.5+ MB\n"
          ],
          "name": "stdout"
        }
      ]
    },
    {
      "cell_type": "code",
      "metadata": {
        "colab": {
          "base_uri": "https://localhost:8080/"
        },
        "id": "BewT7beHCoQ3",
        "outputId": "6c998bbe-1ffd-4c01-fa85-ffd109d0797b"
      },
      "source": [
        "df_meteorites.dtypes"
      ],
      "execution_count": 24,
      "outputs": [
        {
          "output_type": "execute_result",
          "data": {
            "text/plain": [
              "name            object\n",
              "id               int64\n",
              "nametype        object\n",
              "recclass        object\n",
              "mass (g)       float64\n",
              "fall            object\n",
              "year            object\n",
              "reclat         float64\n",
              "reclong        float64\n",
              "GeoLocation     object\n",
              "dtype: object"
            ]
          },
          "metadata": {
            "tags": []
          },
          "execution_count": 24
        }
      ]
    },
    {
      "cell_type": "code",
      "metadata": {
        "colab": {
          "base_uri": "https://localhost:8080/"
        },
        "id": "gRZ-ACwgDITm",
        "outputId": "55420279-22eb-45f3-c50b-0d62b19df3b6"
      },
      "source": [
        "df_meteorites.convert_dtypes().dtypes"
      ],
      "execution_count": 26,
      "outputs": [
        {
          "output_type": "execute_result",
          "data": {
            "text/plain": [
              "name            string\n",
              "id               Int64\n",
              "nametype        string\n",
              "recclass        string\n",
              "mass (g)       Float64\n",
              "fall            string\n",
              "year            string\n",
              "reclat         Float64\n",
              "reclong        Float64\n",
              "GeoLocation     string\n",
              "dtype: object"
            ]
          },
          "metadata": {
            "tags": []
          },
          "execution_count": 26
        }
      ]
    },
    {
      "cell_type": "code",
      "metadata": {
        "colab": {
          "base_uri": "https://localhost:8080/"
        },
        "id": "N9E4D3dWDN4L",
        "outputId": "08a9a5a3-b60d-4933-c041-073037844eec"
      },
      "source": [
        "df_meteorites.nunique()"
      ],
      "execution_count": 27,
      "outputs": [
        {
          "output_type": "execute_result",
          "data": {
            "text/plain": [
              "name           45716\n",
              "id             45716\n",
              "nametype           2\n",
              "recclass         466\n",
              "mass (g)       12576\n",
              "fall               2\n",
              "year             266\n",
              "reclat         12738\n",
              "reclong        14640\n",
              "GeoLocation    17100\n",
              "dtype: int64"
            ]
          },
          "metadata": {
            "tags": []
          },
          "execution_count": 27
        }
      ]
    },
    {
      "cell_type": "code",
      "metadata": {
        "id": "G3cv6NM0Dp4Z"
      },
      "source": [
        "df_meteorites[['fall', 'nametype']] = df_meteorites[['fall', 'nametype']].astype('category')"
      ],
      "execution_count": 29,
      "outputs": []
    },
    {
      "cell_type": "code",
      "metadata": {
        "colab": {
          "base_uri": "https://localhost:8080/"
        },
        "id": "Zrsqd1n0EW0E",
        "outputId": "1747a520-4a56-4fc9-9dce-59dbc82326a4"
      },
      "source": [
        "df_meteorites.dtypes"
      ],
      "execution_count": 30,
      "outputs": [
        {
          "output_type": "execute_result",
          "data": {
            "text/plain": [
              "name             object\n",
              "id                int64\n",
              "nametype       category\n",
              "recclass         object\n",
              "mass (g)        float64\n",
              "fall           category\n",
              "year             object\n",
              "reclat          float64\n",
              "reclong         float64\n",
              "GeoLocation      object\n",
              "dtype: object"
            ]
          },
          "metadata": {
            "tags": []
          },
          "execution_count": 30
        }
      ]
    },
    {
      "cell_type": "code",
      "metadata": {
        "colab": {
          "base_uri": "https://localhost:8080/"
        },
        "id": "6g12nGPaE4wk",
        "outputId": "94b21733-f6b6-4233-e9a4-2d22be1199ff"
      },
      "source": [
        "df_meteorites['fall'].unique()"
      ],
      "execution_count": 31,
      "outputs": [
        {
          "output_type": "execute_result",
          "data": {
            "text/plain": [
              "['Fell', 'Found']\n",
              "Categories (2, object): ['Fell', 'Found']"
            ]
          },
          "metadata": {
            "tags": []
          },
          "execution_count": 31
        }
      ]
    },
    {
      "cell_type": "code",
      "metadata": {
        "colab": {
          "base_uri": "https://localhost:8080/"
        },
        "id": "8kkawoyyFEKL",
        "outputId": "36ec6f86-c8e6-4b7c-8caa-eacbce1bd3f7"
      },
      "source": [
        "df_meteorites['fall'].value_counts()"
      ],
      "execution_count": 32,
      "outputs": [
        {
          "output_type": "execute_result",
          "data": {
            "text/plain": [
              "Found    44609\n",
              "Fell      1107\n",
              "Name: fall, dtype: int64"
            ]
          },
          "metadata": {
            "tags": []
          },
          "execution_count": 32
        }
      ]
    },
    {
      "cell_type": "code",
      "metadata": {
        "colab": {
          "base_uri": "https://localhost:8080/",
          "height": 419
        },
        "id": "BmpERgvuFJXi",
        "outputId": "58190cd6-4187-4373-942f-9f78e6f85d7b"
      },
      "source": [
        "pd.get_dummies(df_meteorites['fall'])"
      ],
      "execution_count": 33,
      "outputs": [
        {
          "output_type": "execute_result",
          "data": {
            "text/html": [
              "<div>\n",
              "<style scoped>\n",
              "    .dataframe tbody tr th:only-of-type {\n",
              "        vertical-align: middle;\n",
              "    }\n",
              "\n",
              "    .dataframe tbody tr th {\n",
              "        vertical-align: top;\n",
              "    }\n",
              "\n",
              "    .dataframe thead th {\n",
              "        text-align: right;\n",
              "    }\n",
              "</style>\n",
              "<table border=\"1\" class=\"dataframe\">\n",
              "  <thead>\n",
              "    <tr style=\"text-align: right;\">\n",
              "      <th></th>\n",
              "      <th>Fell</th>\n",
              "      <th>Found</th>\n",
              "    </tr>\n",
              "  </thead>\n",
              "  <tbody>\n",
              "    <tr>\n",
              "      <th>0</th>\n",
              "      <td>1</td>\n",
              "      <td>0</td>\n",
              "    </tr>\n",
              "    <tr>\n",
              "      <th>1</th>\n",
              "      <td>1</td>\n",
              "      <td>0</td>\n",
              "    </tr>\n",
              "    <tr>\n",
              "      <th>2</th>\n",
              "      <td>1</td>\n",
              "      <td>0</td>\n",
              "    </tr>\n",
              "    <tr>\n",
              "      <th>3</th>\n",
              "      <td>1</td>\n",
              "      <td>0</td>\n",
              "    </tr>\n",
              "    <tr>\n",
              "      <th>4</th>\n",
              "      <td>1</td>\n",
              "      <td>0</td>\n",
              "    </tr>\n",
              "    <tr>\n",
              "      <th>...</th>\n",
              "      <td>...</td>\n",
              "      <td>...</td>\n",
              "    </tr>\n",
              "    <tr>\n",
              "      <th>45711</th>\n",
              "      <td>0</td>\n",
              "      <td>1</td>\n",
              "    </tr>\n",
              "    <tr>\n",
              "      <th>45712</th>\n",
              "      <td>0</td>\n",
              "      <td>1</td>\n",
              "    </tr>\n",
              "    <tr>\n",
              "      <th>45713</th>\n",
              "      <td>0</td>\n",
              "      <td>1</td>\n",
              "    </tr>\n",
              "    <tr>\n",
              "      <th>45714</th>\n",
              "      <td>0</td>\n",
              "      <td>1</td>\n",
              "    </tr>\n",
              "    <tr>\n",
              "      <th>45715</th>\n",
              "      <td>0</td>\n",
              "      <td>1</td>\n",
              "    </tr>\n",
              "  </tbody>\n",
              "</table>\n",
              "<p>45716 rows × 2 columns</p>\n",
              "</div>"
            ],
            "text/plain": [
              "       Fell  Found\n",
              "0         1      0\n",
              "1         1      0\n",
              "2         1      0\n",
              "3         1      0\n",
              "4         1      0\n",
              "...     ...    ...\n",
              "45711     0      1\n",
              "45712     0      1\n",
              "45713     0      1\n",
              "45714     0      1\n",
              "45715     0      1\n",
              "\n",
              "[45716 rows x 2 columns]"
            ]
          },
          "metadata": {
            "tags": []
          },
          "execution_count": 33
        }
      ]
    },
    {
      "cell_type": "code",
      "metadata": {
        "colab": {
          "base_uri": "https://localhost:8080/",
          "height": 796
        },
        "id": "XjSkUCKDFWyL",
        "outputId": "03c5bfde-8ea1-4399-f897-42bcdad1d3d5"
      },
      "source": [
        "df_meteorites['ones']=1\n",
        "df_meteorites"
      ],
      "execution_count": 34,
      "outputs": [
        {
          "output_type": "execute_result",
          "data": {
            "text/html": [
              "<div>\n",
              "<style scoped>\n",
              "    .dataframe tbody tr th:only-of-type {\n",
              "        vertical-align: middle;\n",
              "    }\n",
              "\n",
              "    .dataframe tbody tr th {\n",
              "        vertical-align: top;\n",
              "    }\n",
              "\n",
              "    .dataframe thead th {\n",
              "        text-align: right;\n",
              "    }\n",
              "</style>\n",
              "<table border=\"1\" class=\"dataframe\">\n",
              "  <thead>\n",
              "    <tr style=\"text-align: right;\">\n",
              "      <th></th>\n",
              "      <th>name</th>\n",
              "      <th>id</th>\n",
              "      <th>nametype</th>\n",
              "      <th>recclass</th>\n",
              "      <th>mass (g)</th>\n",
              "      <th>fall</th>\n",
              "      <th>year</th>\n",
              "      <th>reclat</th>\n",
              "      <th>reclong</th>\n",
              "      <th>GeoLocation</th>\n",
              "      <th>ones</th>\n",
              "    </tr>\n",
              "  </thead>\n",
              "  <tbody>\n",
              "    <tr>\n",
              "      <th>0</th>\n",
              "      <td>Aachen</td>\n",
              "      <td>1</td>\n",
              "      <td>Valid</td>\n",
              "      <td>L5</td>\n",
              "      <td>21.0</td>\n",
              "      <td>Fell</td>\n",
              "      <td>01/01/1880 12:00:00 AM</td>\n",
              "      <td>50.8</td>\n",
              "      <td>6.1</td>\n",
              "      <td>(50.775, 6.08333)</td>\n",
              "      <td>1</td>\n",
              "    </tr>\n",
              "    <tr>\n",
              "      <th>1</th>\n",
              "      <td>Aarhus</td>\n",
              "      <td>2</td>\n",
              "      <td>Valid</td>\n",
              "      <td>H6</td>\n",
              "      <td>720.0</td>\n",
              "      <td>Fell</td>\n",
              "      <td>01/01/1951 12:00:00 AM</td>\n",
              "      <td>56.2</td>\n",
              "      <td>10.2</td>\n",
              "      <td>(56.18333, 10.23333)</td>\n",
              "      <td>1</td>\n",
              "    </tr>\n",
              "    <tr>\n",
              "      <th>2</th>\n",
              "      <td>Abee</td>\n",
              "      <td>6</td>\n",
              "      <td>Valid</td>\n",
              "      <td>EH4</td>\n",
              "      <td>107,000.0</td>\n",
              "      <td>Fell</td>\n",
              "      <td>01/01/1952 12:00:00 AM</td>\n",
              "      <td>54.2</td>\n",
              "      <td>-113.0</td>\n",
              "      <td>(54.21667, -113.0)</td>\n",
              "      <td>1</td>\n",
              "    </tr>\n",
              "    <tr>\n",
              "      <th>3</th>\n",
              "      <td>Acapulco</td>\n",
              "      <td>10</td>\n",
              "      <td>Valid</td>\n",
              "      <td>Acapulcoite</td>\n",
              "      <td>1,914.0</td>\n",
              "      <td>Fell</td>\n",
              "      <td>01/01/1976 12:00:00 AM</td>\n",
              "      <td>16.9</td>\n",
              "      <td>-99.9</td>\n",
              "      <td>(16.88333, -99.9)</td>\n",
              "      <td>1</td>\n",
              "    </tr>\n",
              "    <tr>\n",
              "      <th>4</th>\n",
              "      <td>Achiras</td>\n",
              "      <td>370</td>\n",
              "      <td>Valid</td>\n",
              "      <td>L6</td>\n",
              "      <td>780.0</td>\n",
              "      <td>Fell</td>\n",
              "      <td>01/01/1902 12:00:00 AM</td>\n",
              "      <td>-33.2</td>\n",
              "      <td>-65.0</td>\n",
              "      <td>(-33.16667, -64.95)</td>\n",
              "      <td>1</td>\n",
              "    </tr>\n",
              "    <tr>\n",
              "      <th>...</th>\n",
              "      <td>...</td>\n",
              "      <td>...</td>\n",
              "      <td>...</td>\n",
              "      <td>...</td>\n",
              "      <td>...</td>\n",
              "      <td>...</td>\n",
              "      <td>...</td>\n",
              "      <td>...</td>\n",
              "      <td>...</td>\n",
              "      <td>...</td>\n",
              "      <td>...</td>\n",
              "    </tr>\n",
              "    <tr>\n",
              "      <th>45711</th>\n",
              "      <td>Zillah 002</td>\n",
              "      <td>31356</td>\n",
              "      <td>Valid</td>\n",
              "      <td>Eucrite</td>\n",
              "      <td>172.0</td>\n",
              "      <td>Found</td>\n",
              "      <td>01/01/1990 12:00:00 AM</td>\n",
              "      <td>29.0</td>\n",
              "      <td>17.0</td>\n",
              "      <td>(29.037, 17.0185)</td>\n",
              "      <td>1</td>\n",
              "    </tr>\n",
              "    <tr>\n",
              "      <th>45712</th>\n",
              "      <td>Zinder</td>\n",
              "      <td>30409</td>\n",
              "      <td>Valid</td>\n",
              "      <td>Pallasite, ungrouped</td>\n",
              "      <td>46.0</td>\n",
              "      <td>Found</td>\n",
              "      <td>01/01/1999 12:00:00 AM</td>\n",
              "      <td>13.8</td>\n",
              "      <td>9.0</td>\n",
              "      <td>(13.78333, 8.96667)</td>\n",
              "      <td>1</td>\n",
              "    </tr>\n",
              "    <tr>\n",
              "      <th>45713</th>\n",
              "      <td>Zlin</td>\n",
              "      <td>30410</td>\n",
              "      <td>Valid</td>\n",
              "      <td>H4</td>\n",
              "      <td>3.3</td>\n",
              "      <td>Found</td>\n",
              "      <td>01/01/1939 12:00:00 AM</td>\n",
              "      <td>49.2</td>\n",
              "      <td>17.7</td>\n",
              "      <td>(49.25, 17.66667)</td>\n",
              "      <td>1</td>\n",
              "    </tr>\n",
              "    <tr>\n",
              "      <th>45714</th>\n",
              "      <td>Zubkovsky</td>\n",
              "      <td>31357</td>\n",
              "      <td>Valid</td>\n",
              "      <td>L6</td>\n",
              "      <td>2,167.0</td>\n",
              "      <td>Found</td>\n",
              "      <td>01/01/2003 12:00:00 AM</td>\n",
              "      <td>49.8</td>\n",
              "      <td>41.5</td>\n",
              "      <td>(49.78917, 41.5046)</td>\n",
              "      <td>1</td>\n",
              "    </tr>\n",
              "    <tr>\n",
              "      <th>45715</th>\n",
              "      <td>Zulu Queen</td>\n",
              "      <td>30414</td>\n",
              "      <td>Valid</td>\n",
              "      <td>L3.7</td>\n",
              "      <td>200.0</td>\n",
              "      <td>Found</td>\n",
              "      <td>01/01/1976 12:00:00 AM</td>\n",
              "      <td>34.0</td>\n",
              "      <td>-115.7</td>\n",
              "      <td>(33.98333, -115.68333)</td>\n",
              "      <td>1</td>\n",
              "    </tr>\n",
              "  </tbody>\n",
              "</table>\n",
              "<p>45716 rows × 11 columns</p>\n",
              "</div>"
            ],
            "text/plain": [
              "             name     id nametype  ... reclong             GeoLocation ones\n",
              "0          Aachen      1    Valid  ...     6.1       (50.775, 6.08333)    1\n",
              "1          Aarhus      2    Valid  ...    10.2    (56.18333, 10.23333)    1\n",
              "2            Abee      6    Valid  ...  -113.0      (54.21667, -113.0)    1\n",
              "3        Acapulco     10    Valid  ...   -99.9       (16.88333, -99.9)    1\n",
              "4         Achiras    370    Valid  ...   -65.0     (-33.16667, -64.95)    1\n",
              "...           ...    ...      ...  ...     ...                     ...  ...\n",
              "45711  Zillah 002  31356    Valid  ...    17.0       (29.037, 17.0185)    1\n",
              "45712      Zinder  30409    Valid  ...     9.0     (13.78333, 8.96667)    1\n",
              "45713        Zlin  30410    Valid  ...    17.7       (49.25, 17.66667)    1\n",
              "45714   Zubkovsky  31357    Valid  ...    41.5     (49.78917, 41.5046)    1\n",
              "45715  Zulu Queen  30414    Valid  ...  -115.7  (33.98333, -115.68333)    1\n",
              "\n",
              "[45716 rows x 11 columns]"
            ]
          },
          "metadata": {
            "tags": []
          },
          "execution_count": 34
        }
      ]
    },
    {
      "cell_type": "code",
      "metadata": {
        "id": "kWxcVZliFk0W"
      },
      "source": [
        "df_meteorites[['fell', 'found']] = pd.get_dummies(df_meteorites['fall'])"
      ],
      "execution_count": 35,
      "outputs": []
    },
    {
      "cell_type": "code",
      "metadata": {
        "colab": {
          "base_uri": "https://localhost:8080/",
          "height": 796
        },
        "id": "FHtd4NjnF83L",
        "outputId": "b76ecd49-d439-408b-f160-de897b599a35"
      },
      "source": [
        "df_meteorites"
      ],
      "execution_count": 36,
      "outputs": [
        {
          "output_type": "execute_result",
          "data": {
            "text/html": [
              "<div>\n",
              "<style scoped>\n",
              "    .dataframe tbody tr th:only-of-type {\n",
              "        vertical-align: middle;\n",
              "    }\n",
              "\n",
              "    .dataframe tbody tr th {\n",
              "        vertical-align: top;\n",
              "    }\n",
              "\n",
              "    .dataframe thead th {\n",
              "        text-align: right;\n",
              "    }\n",
              "</style>\n",
              "<table border=\"1\" class=\"dataframe\">\n",
              "  <thead>\n",
              "    <tr style=\"text-align: right;\">\n",
              "      <th></th>\n",
              "      <th>name</th>\n",
              "      <th>id</th>\n",
              "      <th>nametype</th>\n",
              "      <th>recclass</th>\n",
              "      <th>mass (g)</th>\n",
              "      <th>fall</th>\n",
              "      <th>year</th>\n",
              "      <th>reclat</th>\n",
              "      <th>reclong</th>\n",
              "      <th>GeoLocation</th>\n",
              "      <th>ones</th>\n",
              "      <th>fell</th>\n",
              "      <th>found</th>\n",
              "    </tr>\n",
              "  </thead>\n",
              "  <tbody>\n",
              "    <tr>\n",
              "      <th>0</th>\n",
              "      <td>Aachen</td>\n",
              "      <td>1</td>\n",
              "      <td>Valid</td>\n",
              "      <td>L5</td>\n",
              "      <td>21.0</td>\n",
              "      <td>Fell</td>\n",
              "      <td>01/01/1880 12:00:00 AM</td>\n",
              "      <td>50.8</td>\n",
              "      <td>6.1</td>\n",
              "      <td>(50.775, 6.08333)</td>\n",
              "      <td>1</td>\n",
              "      <td>1</td>\n",
              "      <td>0</td>\n",
              "    </tr>\n",
              "    <tr>\n",
              "      <th>1</th>\n",
              "      <td>Aarhus</td>\n",
              "      <td>2</td>\n",
              "      <td>Valid</td>\n",
              "      <td>H6</td>\n",
              "      <td>720.0</td>\n",
              "      <td>Fell</td>\n",
              "      <td>01/01/1951 12:00:00 AM</td>\n",
              "      <td>56.2</td>\n",
              "      <td>10.2</td>\n",
              "      <td>(56.18333, 10.23333)</td>\n",
              "      <td>1</td>\n",
              "      <td>1</td>\n",
              "      <td>0</td>\n",
              "    </tr>\n",
              "    <tr>\n",
              "      <th>2</th>\n",
              "      <td>Abee</td>\n",
              "      <td>6</td>\n",
              "      <td>Valid</td>\n",
              "      <td>EH4</td>\n",
              "      <td>107,000.0</td>\n",
              "      <td>Fell</td>\n",
              "      <td>01/01/1952 12:00:00 AM</td>\n",
              "      <td>54.2</td>\n",
              "      <td>-113.0</td>\n",
              "      <td>(54.21667, -113.0)</td>\n",
              "      <td>1</td>\n",
              "      <td>1</td>\n",
              "      <td>0</td>\n",
              "    </tr>\n",
              "    <tr>\n",
              "      <th>3</th>\n",
              "      <td>Acapulco</td>\n",
              "      <td>10</td>\n",
              "      <td>Valid</td>\n",
              "      <td>Acapulcoite</td>\n",
              "      <td>1,914.0</td>\n",
              "      <td>Fell</td>\n",
              "      <td>01/01/1976 12:00:00 AM</td>\n",
              "      <td>16.9</td>\n",
              "      <td>-99.9</td>\n",
              "      <td>(16.88333, -99.9)</td>\n",
              "      <td>1</td>\n",
              "      <td>1</td>\n",
              "      <td>0</td>\n",
              "    </tr>\n",
              "    <tr>\n",
              "      <th>4</th>\n",
              "      <td>Achiras</td>\n",
              "      <td>370</td>\n",
              "      <td>Valid</td>\n",
              "      <td>L6</td>\n",
              "      <td>780.0</td>\n",
              "      <td>Fell</td>\n",
              "      <td>01/01/1902 12:00:00 AM</td>\n",
              "      <td>-33.2</td>\n",
              "      <td>-65.0</td>\n",
              "      <td>(-33.16667, -64.95)</td>\n",
              "      <td>1</td>\n",
              "      <td>1</td>\n",
              "      <td>0</td>\n",
              "    </tr>\n",
              "    <tr>\n",
              "      <th>...</th>\n",
              "      <td>...</td>\n",
              "      <td>...</td>\n",
              "      <td>...</td>\n",
              "      <td>...</td>\n",
              "      <td>...</td>\n",
              "      <td>...</td>\n",
              "      <td>...</td>\n",
              "      <td>...</td>\n",
              "      <td>...</td>\n",
              "      <td>...</td>\n",
              "      <td>...</td>\n",
              "      <td>...</td>\n",
              "      <td>...</td>\n",
              "    </tr>\n",
              "    <tr>\n",
              "      <th>45711</th>\n",
              "      <td>Zillah 002</td>\n",
              "      <td>31356</td>\n",
              "      <td>Valid</td>\n",
              "      <td>Eucrite</td>\n",
              "      <td>172.0</td>\n",
              "      <td>Found</td>\n",
              "      <td>01/01/1990 12:00:00 AM</td>\n",
              "      <td>29.0</td>\n",
              "      <td>17.0</td>\n",
              "      <td>(29.037, 17.0185)</td>\n",
              "      <td>1</td>\n",
              "      <td>0</td>\n",
              "      <td>1</td>\n",
              "    </tr>\n",
              "    <tr>\n",
              "      <th>45712</th>\n",
              "      <td>Zinder</td>\n",
              "      <td>30409</td>\n",
              "      <td>Valid</td>\n",
              "      <td>Pallasite, ungrouped</td>\n",
              "      <td>46.0</td>\n",
              "      <td>Found</td>\n",
              "      <td>01/01/1999 12:00:00 AM</td>\n",
              "      <td>13.8</td>\n",
              "      <td>9.0</td>\n",
              "      <td>(13.78333, 8.96667)</td>\n",
              "      <td>1</td>\n",
              "      <td>0</td>\n",
              "      <td>1</td>\n",
              "    </tr>\n",
              "    <tr>\n",
              "      <th>45713</th>\n",
              "      <td>Zlin</td>\n",
              "      <td>30410</td>\n",
              "      <td>Valid</td>\n",
              "      <td>H4</td>\n",
              "      <td>3.3</td>\n",
              "      <td>Found</td>\n",
              "      <td>01/01/1939 12:00:00 AM</td>\n",
              "      <td>49.2</td>\n",
              "      <td>17.7</td>\n",
              "      <td>(49.25, 17.66667)</td>\n",
              "      <td>1</td>\n",
              "      <td>0</td>\n",
              "      <td>1</td>\n",
              "    </tr>\n",
              "    <tr>\n",
              "      <th>45714</th>\n",
              "      <td>Zubkovsky</td>\n",
              "      <td>31357</td>\n",
              "      <td>Valid</td>\n",
              "      <td>L6</td>\n",
              "      <td>2,167.0</td>\n",
              "      <td>Found</td>\n",
              "      <td>01/01/2003 12:00:00 AM</td>\n",
              "      <td>49.8</td>\n",
              "      <td>41.5</td>\n",
              "      <td>(49.78917, 41.5046)</td>\n",
              "      <td>1</td>\n",
              "      <td>0</td>\n",
              "      <td>1</td>\n",
              "    </tr>\n",
              "    <tr>\n",
              "      <th>45715</th>\n",
              "      <td>Zulu Queen</td>\n",
              "      <td>30414</td>\n",
              "      <td>Valid</td>\n",
              "      <td>L3.7</td>\n",
              "      <td>200.0</td>\n",
              "      <td>Found</td>\n",
              "      <td>01/01/1976 12:00:00 AM</td>\n",
              "      <td>34.0</td>\n",
              "      <td>-115.7</td>\n",
              "      <td>(33.98333, -115.68333)</td>\n",
              "      <td>1</td>\n",
              "      <td>0</td>\n",
              "      <td>1</td>\n",
              "    </tr>\n",
              "  </tbody>\n",
              "</table>\n",
              "<p>45716 rows × 13 columns</p>\n",
              "</div>"
            ],
            "text/plain": [
              "             name     id nametype  ... ones  fell found\n",
              "0          Aachen      1    Valid  ...    1     1     0\n",
              "1          Aarhus      2    Valid  ...    1     1     0\n",
              "2            Abee      6    Valid  ...    1     1     0\n",
              "3        Acapulco     10    Valid  ...    1     1     0\n",
              "4         Achiras    370    Valid  ...    1     1     0\n",
              "...           ...    ...      ...  ...  ...   ...   ...\n",
              "45711  Zillah 002  31356    Valid  ...    1     0     1\n",
              "45712      Zinder  30409    Valid  ...    1     0     1\n",
              "45713        Zlin  30410    Valid  ...    1     0     1\n",
              "45714   Zubkovsky  31357    Valid  ...    1     0     1\n",
              "45715  Zulu Queen  30414    Valid  ...    1     0     1\n",
              "\n",
              "[45716 rows x 13 columns]"
            ]
          },
          "metadata": {
            "tags": []
          },
          "execution_count": 36
        }
      ]
    },
    {
      "cell_type": "code",
      "metadata": {
        "colab": {
          "base_uri": "https://localhost:8080/"
        },
        "id": "20lgFKJCGJVB",
        "outputId": "607e6b79-f453-4726-a321-2141426d713b"
      },
      "source": [
        "df_meteorites['year']"
      ],
      "execution_count": 37,
      "outputs": [
        {
          "output_type": "execute_result",
          "data": {
            "text/plain": [
              "0        01/01/1880 12:00:00 AM\n",
              "1        01/01/1951 12:00:00 AM\n",
              "2        01/01/1952 12:00:00 AM\n",
              "3        01/01/1976 12:00:00 AM\n",
              "4        01/01/1902 12:00:00 AM\n",
              "                  ...          \n",
              "45711    01/01/1990 12:00:00 AM\n",
              "45712    01/01/1999 12:00:00 AM\n",
              "45713    01/01/1939 12:00:00 AM\n",
              "45714    01/01/2003 12:00:00 AM\n",
              "45715    01/01/1976 12:00:00 AM\n",
              "Name: year, Length: 45716, dtype: object"
            ]
          },
          "metadata": {
            "tags": []
          },
          "execution_count": 37
        }
      ]
    },
    {
      "cell_type": "code",
      "metadata": {
        "colab": {
          "base_uri": "https://localhost:8080/"
        },
        "id": "tOJVRDdQGSGQ",
        "outputId": "55d35201-8362-4113-9597-4498f90a61f6"
      },
      "source": [
        "pd.to_datetime(\n",
        "    df_meteorites['year'],\n",
        "    errors = 'coerce',\n",
        "    format = '%m/%d/%Y %H:%M:%S %p'\n",
        "    )"
      ],
      "execution_count": 38,
      "outputs": [
        {
          "output_type": "execute_result",
          "data": {
            "text/plain": [
              "0       1880-01-01 12:00:00\n",
              "1       1951-01-01 12:00:00\n",
              "2       1952-01-01 12:00:00\n",
              "3       1976-01-01 12:00:00\n",
              "4       1902-01-01 12:00:00\n",
              "                ...        \n",
              "45711   1990-01-01 12:00:00\n",
              "45712   1999-01-01 12:00:00\n",
              "45713   1939-01-01 12:00:00\n",
              "45714   2003-01-01 12:00:00\n",
              "45715   1976-01-01 12:00:00\n",
              "Name: year, Length: 45716, dtype: datetime64[ns]"
            ]
          },
          "metadata": {
            "tags": []
          },
          "execution_count": 38
        }
      ]
    },
    {
      "cell_type": "code",
      "metadata": {
        "id": "--7Vpv2oLxOO"
      },
      "source": [
        "df_meteorites['year'] = pd.to_datetime(\n",
        "    df_meteorites['year'],\n",
        "    errors = 'coerce',\n",
        "    format = '%m/%d/%Y %H:%M:%S %p'\n",
        "    ) "
      ],
      "execution_count": 39,
      "outputs": []
    },
    {
      "cell_type": "code",
      "metadata": {
        "colab": {
          "base_uri": "https://localhost:8080/"
        },
        "id": "VVqPAlgHMJka",
        "outputId": "1d1b7039-a370-4b76-e7f4-9123f73f2315"
      },
      "source": [
        "df_meteorites.dtypes"
      ],
      "execution_count": 40,
      "outputs": [
        {
          "output_type": "execute_result",
          "data": {
            "text/plain": [
              "name                   object\n",
              "id                      int64\n",
              "nametype             category\n",
              "recclass               object\n",
              "mass (g)              float64\n",
              "fall                 category\n",
              "year           datetime64[ns]\n",
              "reclat                float64\n",
              "reclong               float64\n",
              "GeoLocation            object\n",
              "ones                    int64\n",
              "fell                    uint8\n",
              "found                   uint8\n",
              "dtype: object"
            ]
          },
          "metadata": {
            "tags": []
          },
          "execution_count": 40
        }
      ]
    },
    {
      "cell_type": "code",
      "metadata": {
        "id": "2NxJ-7bxMNQX"
      },
      "source": [
        "df_meteorites.rename(columns={'mass (g)':'mass'}, inplace=True)"
      ],
      "execution_count": 42,
      "outputs": []
    },
    {
      "cell_type": "code",
      "metadata": {
        "colab": {
          "base_uri": "https://localhost:8080/",
          "height": 779
        },
        "id": "IHhnjWzmM1jp",
        "outputId": "bcae3842-1e73-494a-e979-69f1150f8363"
      },
      "source": [
        "df_meteorites"
      ],
      "execution_count": 43,
      "outputs": [
        {
          "output_type": "execute_result",
          "data": {
            "text/html": [
              "<div>\n",
              "<style scoped>\n",
              "    .dataframe tbody tr th:only-of-type {\n",
              "        vertical-align: middle;\n",
              "    }\n",
              "\n",
              "    .dataframe tbody tr th {\n",
              "        vertical-align: top;\n",
              "    }\n",
              "\n",
              "    .dataframe thead th {\n",
              "        text-align: right;\n",
              "    }\n",
              "</style>\n",
              "<table border=\"1\" class=\"dataframe\">\n",
              "  <thead>\n",
              "    <tr style=\"text-align: right;\">\n",
              "      <th></th>\n",
              "      <th>name</th>\n",
              "      <th>id</th>\n",
              "      <th>nametype</th>\n",
              "      <th>recclass</th>\n",
              "      <th>mass</th>\n",
              "      <th>fall</th>\n",
              "      <th>year</th>\n",
              "      <th>reclat</th>\n",
              "      <th>reclong</th>\n",
              "      <th>GeoLocation</th>\n",
              "      <th>ones</th>\n",
              "      <th>fell</th>\n",
              "      <th>found</th>\n",
              "    </tr>\n",
              "  </thead>\n",
              "  <tbody>\n",
              "    <tr>\n",
              "      <th>0</th>\n",
              "      <td>Aachen</td>\n",
              "      <td>1</td>\n",
              "      <td>Valid</td>\n",
              "      <td>L5</td>\n",
              "      <td>21.0</td>\n",
              "      <td>Fell</td>\n",
              "      <td>1880-01-01 12:00:00</td>\n",
              "      <td>50.8</td>\n",
              "      <td>6.1</td>\n",
              "      <td>(50.775, 6.08333)</td>\n",
              "      <td>1</td>\n",
              "      <td>1</td>\n",
              "      <td>0</td>\n",
              "    </tr>\n",
              "    <tr>\n",
              "      <th>1</th>\n",
              "      <td>Aarhus</td>\n",
              "      <td>2</td>\n",
              "      <td>Valid</td>\n",
              "      <td>H6</td>\n",
              "      <td>720.0</td>\n",
              "      <td>Fell</td>\n",
              "      <td>1951-01-01 12:00:00</td>\n",
              "      <td>56.2</td>\n",
              "      <td>10.2</td>\n",
              "      <td>(56.18333, 10.23333)</td>\n",
              "      <td>1</td>\n",
              "      <td>1</td>\n",
              "      <td>0</td>\n",
              "    </tr>\n",
              "    <tr>\n",
              "      <th>2</th>\n",
              "      <td>Abee</td>\n",
              "      <td>6</td>\n",
              "      <td>Valid</td>\n",
              "      <td>EH4</td>\n",
              "      <td>107,000.0</td>\n",
              "      <td>Fell</td>\n",
              "      <td>1952-01-01 12:00:00</td>\n",
              "      <td>54.2</td>\n",
              "      <td>-113.0</td>\n",
              "      <td>(54.21667, -113.0)</td>\n",
              "      <td>1</td>\n",
              "      <td>1</td>\n",
              "      <td>0</td>\n",
              "    </tr>\n",
              "    <tr>\n",
              "      <th>3</th>\n",
              "      <td>Acapulco</td>\n",
              "      <td>10</td>\n",
              "      <td>Valid</td>\n",
              "      <td>Acapulcoite</td>\n",
              "      <td>1,914.0</td>\n",
              "      <td>Fell</td>\n",
              "      <td>1976-01-01 12:00:00</td>\n",
              "      <td>16.9</td>\n",
              "      <td>-99.9</td>\n",
              "      <td>(16.88333, -99.9)</td>\n",
              "      <td>1</td>\n",
              "      <td>1</td>\n",
              "      <td>0</td>\n",
              "    </tr>\n",
              "    <tr>\n",
              "      <th>4</th>\n",
              "      <td>Achiras</td>\n",
              "      <td>370</td>\n",
              "      <td>Valid</td>\n",
              "      <td>L6</td>\n",
              "      <td>780.0</td>\n",
              "      <td>Fell</td>\n",
              "      <td>1902-01-01 12:00:00</td>\n",
              "      <td>-33.2</td>\n",
              "      <td>-65.0</td>\n",
              "      <td>(-33.16667, -64.95)</td>\n",
              "      <td>1</td>\n",
              "      <td>1</td>\n",
              "      <td>0</td>\n",
              "    </tr>\n",
              "    <tr>\n",
              "      <th>...</th>\n",
              "      <td>...</td>\n",
              "      <td>...</td>\n",
              "      <td>...</td>\n",
              "      <td>...</td>\n",
              "      <td>...</td>\n",
              "      <td>...</td>\n",
              "      <td>...</td>\n",
              "      <td>...</td>\n",
              "      <td>...</td>\n",
              "      <td>...</td>\n",
              "      <td>...</td>\n",
              "      <td>...</td>\n",
              "      <td>...</td>\n",
              "    </tr>\n",
              "    <tr>\n",
              "      <th>45711</th>\n",
              "      <td>Zillah 002</td>\n",
              "      <td>31356</td>\n",
              "      <td>Valid</td>\n",
              "      <td>Eucrite</td>\n",
              "      <td>172.0</td>\n",
              "      <td>Found</td>\n",
              "      <td>1990-01-01 12:00:00</td>\n",
              "      <td>29.0</td>\n",
              "      <td>17.0</td>\n",
              "      <td>(29.037, 17.0185)</td>\n",
              "      <td>1</td>\n",
              "      <td>0</td>\n",
              "      <td>1</td>\n",
              "    </tr>\n",
              "    <tr>\n",
              "      <th>45712</th>\n",
              "      <td>Zinder</td>\n",
              "      <td>30409</td>\n",
              "      <td>Valid</td>\n",
              "      <td>Pallasite, ungrouped</td>\n",
              "      <td>46.0</td>\n",
              "      <td>Found</td>\n",
              "      <td>1999-01-01 12:00:00</td>\n",
              "      <td>13.8</td>\n",
              "      <td>9.0</td>\n",
              "      <td>(13.78333, 8.96667)</td>\n",
              "      <td>1</td>\n",
              "      <td>0</td>\n",
              "      <td>1</td>\n",
              "    </tr>\n",
              "    <tr>\n",
              "      <th>45713</th>\n",
              "      <td>Zlin</td>\n",
              "      <td>30410</td>\n",
              "      <td>Valid</td>\n",
              "      <td>H4</td>\n",
              "      <td>3.3</td>\n",
              "      <td>Found</td>\n",
              "      <td>1939-01-01 12:00:00</td>\n",
              "      <td>49.2</td>\n",
              "      <td>17.7</td>\n",
              "      <td>(49.25, 17.66667)</td>\n",
              "      <td>1</td>\n",
              "      <td>0</td>\n",
              "      <td>1</td>\n",
              "    </tr>\n",
              "    <tr>\n",
              "      <th>45714</th>\n",
              "      <td>Zubkovsky</td>\n",
              "      <td>31357</td>\n",
              "      <td>Valid</td>\n",
              "      <td>L6</td>\n",
              "      <td>2,167.0</td>\n",
              "      <td>Found</td>\n",
              "      <td>2003-01-01 12:00:00</td>\n",
              "      <td>49.8</td>\n",
              "      <td>41.5</td>\n",
              "      <td>(49.78917, 41.5046)</td>\n",
              "      <td>1</td>\n",
              "      <td>0</td>\n",
              "      <td>1</td>\n",
              "    </tr>\n",
              "    <tr>\n",
              "      <th>45715</th>\n",
              "      <td>Zulu Queen</td>\n",
              "      <td>30414</td>\n",
              "      <td>Valid</td>\n",
              "      <td>L3.7</td>\n",
              "      <td>200.0</td>\n",
              "      <td>Found</td>\n",
              "      <td>1976-01-01 12:00:00</td>\n",
              "      <td>34.0</td>\n",
              "      <td>-115.7</td>\n",
              "      <td>(33.98333, -115.68333)</td>\n",
              "      <td>1</td>\n",
              "      <td>0</td>\n",
              "      <td>1</td>\n",
              "    </tr>\n",
              "  </tbody>\n",
              "</table>\n",
              "<p>45716 rows × 13 columns</p>\n",
              "</div>"
            ],
            "text/plain": [
              "             name     id nametype  ... ones  fell found\n",
              "0          Aachen      1    Valid  ...    1     1     0\n",
              "1          Aarhus      2    Valid  ...    1     1     0\n",
              "2            Abee      6    Valid  ...    1     1     0\n",
              "3        Acapulco     10    Valid  ...    1     1     0\n",
              "4         Achiras    370    Valid  ...    1     1     0\n",
              "...           ...    ...      ...  ...  ...   ...   ...\n",
              "45711  Zillah 002  31356    Valid  ...    1     0     1\n",
              "45712      Zinder  30409    Valid  ...    1     0     1\n",
              "45713        Zlin  30410    Valid  ...    1     0     1\n",
              "45714   Zubkovsky  31357    Valid  ...    1     0     1\n",
              "45715  Zulu Queen  30414    Valid  ...    1     0     1\n",
              "\n",
              "[45716 rows x 13 columns]"
            ]
          },
          "metadata": {
            "tags": []
          },
          "execution_count": 43
        }
      ]
    },
    {
      "cell_type": "code",
      "metadata": {
        "colab": {
          "base_uri": "https://localhost:8080/"
        },
        "id": "4Qq2vBfGM-yk",
        "outputId": "2005cff1-9d05-44f7-f70f-60bf4f2c2137"
      },
      "source": [
        "list(df_meteorites)"
      ],
      "execution_count": 47,
      "outputs": [
        {
          "output_type": "execute_result",
          "data": {
            "text/plain": [
              "['name',\n",
              " 'id',\n",
              " 'nametype',\n",
              " 'recclass',\n",
              " 'mass',\n",
              " 'fall',\n",
              " 'year',\n",
              " 'reclat',\n",
              " 'reclong',\n",
              " 'GeoLocation',\n",
              " 'fell',\n",
              " 'found']"
            ]
          },
          "metadata": {
            "tags": []
          },
          "execution_count": 47
        }
      ]
    },
    {
      "cell_type": "code",
      "metadata": {
        "id": "teRzqG-uNKVi"
      },
      "source": [
        "df_meteorites.drop(['ones'], axis=1, inplace=True)"
      ],
      "execution_count": 46,
      "outputs": []
    },
    {
      "cell_type": "code",
      "metadata": {
        "colab": {
          "base_uri": "https://localhost:8080/",
          "height": 719
        },
        "id": "69q9sqP9NwEr",
        "outputId": "8facaf8c-fe14-4c8a-fd3e-de50577c26bb"
      },
      "source": [
        "df_meteorites.drop([0,2,4,6]).head(10)"
      ],
      "execution_count": 48,
      "outputs": [
        {
          "output_type": "execute_result",
          "data": {
            "text/html": [
              "<div>\n",
              "<style scoped>\n",
              "    .dataframe tbody tr th:only-of-type {\n",
              "        vertical-align: middle;\n",
              "    }\n",
              "\n",
              "    .dataframe tbody tr th {\n",
              "        vertical-align: top;\n",
              "    }\n",
              "\n",
              "    .dataframe thead th {\n",
              "        text-align: right;\n",
              "    }\n",
              "</style>\n",
              "<table border=\"1\" class=\"dataframe\">\n",
              "  <thead>\n",
              "    <tr style=\"text-align: right;\">\n",
              "      <th></th>\n",
              "      <th>name</th>\n",
              "      <th>id</th>\n",
              "      <th>nametype</th>\n",
              "      <th>recclass</th>\n",
              "      <th>mass</th>\n",
              "      <th>fall</th>\n",
              "      <th>year</th>\n",
              "      <th>reclat</th>\n",
              "      <th>reclong</th>\n",
              "      <th>GeoLocation</th>\n",
              "      <th>fell</th>\n",
              "      <th>found</th>\n",
              "    </tr>\n",
              "  </thead>\n",
              "  <tbody>\n",
              "    <tr>\n",
              "      <th>1</th>\n",
              "      <td>Aarhus</td>\n",
              "      <td>2</td>\n",
              "      <td>Valid</td>\n",
              "      <td>H6</td>\n",
              "      <td>720.0</td>\n",
              "      <td>Fell</td>\n",
              "      <td>1951-01-01 12:00:00</td>\n",
              "      <td>56.2</td>\n",
              "      <td>10.2</td>\n",
              "      <td>(56.18333, 10.23333)</td>\n",
              "      <td>1</td>\n",
              "      <td>0</td>\n",
              "    </tr>\n",
              "    <tr>\n",
              "      <th>3</th>\n",
              "      <td>Acapulco</td>\n",
              "      <td>10</td>\n",
              "      <td>Valid</td>\n",
              "      <td>Acapulcoite</td>\n",
              "      <td>1,914.0</td>\n",
              "      <td>Fell</td>\n",
              "      <td>1976-01-01 12:00:00</td>\n",
              "      <td>16.9</td>\n",
              "      <td>-99.9</td>\n",
              "      <td>(16.88333, -99.9)</td>\n",
              "      <td>1</td>\n",
              "      <td>0</td>\n",
              "    </tr>\n",
              "    <tr>\n",
              "      <th>5</th>\n",
              "      <td>Adhi Kot</td>\n",
              "      <td>379</td>\n",
              "      <td>Valid</td>\n",
              "      <td>EH4</td>\n",
              "      <td>4,239.0</td>\n",
              "      <td>Fell</td>\n",
              "      <td>1919-01-01 12:00:00</td>\n",
              "      <td>32.1</td>\n",
              "      <td>71.8</td>\n",
              "      <td>(32.1, 71.8)</td>\n",
              "      <td>1</td>\n",
              "      <td>0</td>\n",
              "    </tr>\n",
              "    <tr>\n",
              "      <th>7</th>\n",
              "      <td>Agen</td>\n",
              "      <td>392</td>\n",
              "      <td>Valid</td>\n",
              "      <td>H5</td>\n",
              "      <td>30,000.0</td>\n",
              "      <td>Fell</td>\n",
              "      <td>1814-01-01 12:00:00</td>\n",
              "      <td>44.2</td>\n",
              "      <td>0.6</td>\n",
              "      <td>(44.21667, 0.61667)</td>\n",
              "      <td>1</td>\n",
              "      <td>0</td>\n",
              "    </tr>\n",
              "    <tr>\n",
              "      <th>8</th>\n",
              "      <td>Aguada</td>\n",
              "      <td>398</td>\n",
              "      <td>Valid</td>\n",
              "      <td>L6</td>\n",
              "      <td>1,620.0</td>\n",
              "      <td>Fell</td>\n",
              "      <td>1930-01-01 12:00:00</td>\n",
              "      <td>-31.6</td>\n",
              "      <td>-65.2</td>\n",
              "      <td>(-31.6, -65.23333)</td>\n",
              "      <td>1</td>\n",
              "      <td>0</td>\n",
              "    </tr>\n",
              "    <tr>\n",
              "      <th>9</th>\n",
              "      <td>Aguila Blanca</td>\n",
              "      <td>417</td>\n",
              "      <td>Valid</td>\n",
              "      <td>L</td>\n",
              "      <td>1,440.0</td>\n",
              "      <td>Fell</td>\n",
              "      <td>1920-01-01 12:00:00</td>\n",
              "      <td>-30.9</td>\n",
              "      <td>-64.5</td>\n",
              "      <td>(-30.86667, -64.55)</td>\n",
              "      <td>1</td>\n",
              "      <td>0</td>\n",
              "    </tr>\n",
              "    <tr>\n",
              "      <th>10</th>\n",
              "      <td>Aioun el Atrouss</td>\n",
              "      <td>423</td>\n",
              "      <td>Valid</td>\n",
              "      <td>Diogenite-pm</td>\n",
              "      <td>1,000.0</td>\n",
              "      <td>Fell</td>\n",
              "      <td>1974-01-01 12:00:00</td>\n",
              "      <td>16.4</td>\n",
              "      <td>-9.6</td>\n",
              "      <td>(16.39806, -9.57028)</td>\n",
              "      <td>1</td>\n",
              "      <td>0</td>\n",
              "    </tr>\n",
              "    <tr>\n",
              "      <th>11</th>\n",
              "      <td>Aïr</td>\n",
              "      <td>424</td>\n",
              "      <td>Valid</td>\n",
              "      <td>L6</td>\n",
              "      <td>24,000.0</td>\n",
              "      <td>Fell</td>\n",
              "      <td>1925-01-01 12:00:00</td>\n",
              "      <td>19.1</td>\n",
              "      <td>8.4</td>\n",
              "      <td>(19.08333, 8.38333)</td>\n",
              "      <td>1</td>\n",
              "      <td>0</td>\n",
              "    </tr>\n",
              "    <tr>\n",
              "      <th>12</th>\n",
              "      <td>Aire-sur-la-Lys</td>\n",
              "      <td>425</td>\n",
              "      <td>Valid</td>\n",
              "      <td>Unknown</td>\n",
              "      <td>NaN</td>\n",
              "      <td>Fell</td>\n",
              "      <td>1769-01-01 12:00:00</td>\n",
              "      <td>50.7</td>\n",
              "      <td>2.3</td>\n",
              "      <td>(50.66667, 2.33333)</td>\n",
              "      <td>1</td>\n",
              "      <td>0</td>\n",
              "    </tr>\n",
              "    <tr>\n",
              "      <th>13</th>\n",
              "      <td>Akaba</td>\n",
              "      <td>426</td>\n",
              "      <td>Valid</td>\n",
              "      <td>L6</td>\n",
              "      <td>779.0</td>\n",
              "      <td>Fell</td>\n",
              "      <td>1949-01-01 12:00:00</td>\n",
              "      <td>29.5</td>\n",
              "      <td>35.0</td>\n",
              "      <td>(29.51667, 35.05)</td>\n",
              "      <td>1</td>\n",
              "      <td>0</td>\n",
              "    </tr>\n",
              "  </tbody>\n",
              "</table>\n",
              "</div>"
            ],
            "text/plain": [
              "                name   id nametype  ...           GeoLocation  fell found\n",
              "1             Aarhus    2    Valid  ...  (56.18333, 10.23333)     1     0\n",
              "3           Acapulco   10    Valid  ...     (16.88333, -99.9)     1     0\n",
              "5           Adhi Kot  379    Valid  ...          (32.1, 71.8)     1     0\n",
              "7               Agen  392    Valid  ...   (44.21667, 0.61667)     1     0\n",
              "8             Aguada  398    Valid  ...    (-31.6, -65.23333)     1     0\n",
              "9      Aguila Blanca  417    Valid  ...   (-30.86667, -64.55)     1     0\n",
              "10  Aioun el Atrouss  423    Valid  ...  (16.39806, -9.57028)     1     0\n",
              "11               Aïr  424    Valid  ...   (19.08333, 8.38333)     1     0\n",
              "12   Aire-sur-la-Lys  425    Valid  ...   (50.66667, 2.33333)     1     0\n",
              "13             Akaba  426    Valid  ...     (29.51667, 35.05)     1     0\n",
              "\n",
              "[10 rows x 12 columns]"
            ]
          },
          "metadata": {
            "tags": []
          },
          "execution_count": 48
        }
      ]
    },
    {
      "cell_type": "code",
      "metadata": {
        "colab": {
          "base_uri": "https://localhost:8080/",
          "height": 589
        },
        "id": "btLJLbcxOjvf",
        "outputId": "77715363-72c5-4719-f606-ae3d5a14ac70"
      },
      "source": [
        "df_meteorites.drop(columns = ['id', 'recclass'], index=[0,2,4,6])"
      ],
      "execution_count": 49,
      "outputs": [
        {
          "output_type": "execute_result",
          "data": {
            "text/html": [
              "<div>\n",
              "<style scoped>\n",
              "    .dataframe tbody tr th:only-of-type {\n",
              "        vertical-align: middle;\n",
              "    }\n",
              "\n",
              "    .dataframe tbody tr th {\n",
              "        vertical-align: top;\n",
              "    }\n",
              "\n",
              "    .dataframe thead th {\n",
              "        text-align: right;\n",
              "    }\n",
              "</style>\n",
              "<table border=\"1\" class=\"dataframe\">\n",
              "  <thead>\n",
              "    <tr style=\"text-align: right;\">\n",
              "      <th></th>\n",
              "      <th>name</th>\n",
              "      <th>nametype</th>\n",
              "      <th>mass</th>\n",
              "      <th>fall</th>\n",
              "      <th>year</th>\n",
              "      <th>reclat</th>\n",
              "      <th>reclong</th>\n",
              "      <th>GeoLocation</th>\n",
              "      <th>fell</th>\n",
              "      <th>found</th>\n",
              "    </tr>\n",
              "  </thead>\n",
              "  <tbody>\n",
              "    <tr>\n",
              "      <th>1</th>\n",
              "      <td>Aarhus</td>\n",
              "      <td>Valid</td>\n",
              "      <td>720.0</td>\n",
              "      <td>Fell</td>\n",
              "      <td>1951-01-01 12:00:00</td>\n",
              "      <td>56.2</td>\n",
              "      <td>10.2</td>\n",
              "      <td>(56.18333, 10.23333)</td>\n",
              "      <td>1</td>\n",
              "      <td>0</td>\n",
              "    </tr>\n",
              "    <tr>\n",
              "      <th>3</th>\n",
              "      <td>Acapulco</td>\n",
              "      <td>Valid</td>\n",
              "      <td>1,914.0</td>\n",
              "      <td>Fell</td>\n",
              "      <td>1976-01-01 12:00:00</td>\n",
              "      <td>16.9</td>\n",
              "      <td>-99.9</td>\n",
              "      <td>(16.88333, -99.9)</td>\n",
              "      <td>1</td>\n",
              "      <td>0</td>\n",
              "    </tr>\n",
              "    <tr>\n",
              "      <th>5</th>\n",
              "      <td>Adhi Kot</td>\n",
              "      <td>Valid</td>\n",
              "      <td>4,239.0</td>\n",
              "      <td>Fell</td>\n",
              "      <td>1919-01-01 12:00:00</td>\n",
              "      <td>32.1</td>\n",
              "      <td>71.8</td>\n",
              "      <td>(32.1, 71.8)</td>\n",
              "      <td>1</td>\n",
              "      <td>0</td>\n",
              "    </tr>\n",
              "    <tr>\n",
              "      <th>7</th>\n",
              "      <td>Agen</td>\n",
              "      <td>Valid</td>\n",
              "      <td>30,000.0</td>\n",
              "      <td>Fell</td>\n",
              "      <td>1814-01-01 12:00:00</td>\n",
              "      <td>44.2</td>\n",
              "      <td>0.6</td>\n",
              "      <td>(44.21667, 0.61667)</td>\n",
              "      <td>1</td>\n",
              "      <td>0</td>\n",
              "    </tr>\n",
              "    <tr>\n",
              "      <th>8</th>\n",
              "      <td>Aguada</td>\n",
              "      <td>Valid</td>\n",
              "      <td>1,620.0</td>\n",
              "      <td>Fell</td>\n",
              "      <td>1930-01-01 12:00:00</td>\n",
              "      <td>-31.6</td>\n",
              "      <td>-65.2</td>\n",
              "      <td>(-31.6, -65.23333)</td>\n",
              "      <td>1</td>\n",
              "      <td>0</td>\n",
              "    </tr>\n",
              "    <tr>\n",
              "      <th>...</th>\n",
              "      <td>...</td>\n",
              "      <td>...</td>\n",
              "      <td>...</td>\n",
              "      <td>...</td>\n",
              "      <td>...</td>\n",
              "      <td>...</td>\n",
              "      <td>...</td>\n",
              "      <td>...</td>\n",
              "      <td>...</td>\n",
              "      <td>...</td>\n",
              "    </tr>\n",
              "    <tr>\n",
              "      <th>45711</th>\n",
              "      <td>Zillah 002</td>\n",
              "      <td>Valid</td>\n",
              "      <td>172.0</td>\n",
              "      <td>Found</td>\n",
              "      <td>1990-01-01 12:00:00</td>\n",
              "      <td>29.0</td>\n",
              "      <td>17.0</td>\n",
              "      <td>(29.037, 17.0185)</td>\n",
              "      <td>0</td>\n",
              "      <td>1</td>\n",
              "    </tr>\n",
              "    <tr>\n",
              "      <th>45712</th>\n",
              "      <td>Zinder</td>\n",
              "      <td>Valid</td>\n",
              "      <td>46.0</td>\n",
              "      <td>Found</td>\n",
              "      <td>1999-01-01 12:00:00</td>\n",
              "      <td>13.8</td>\n",
              "      <td>9.0</td>\n",
              "      <td>(13.78333, 8.96667)</td>\n",
              "      <td>0</td>\n",
              "      <td>1</td>\n",
              "    </tr>\n",
              "    <tr>\n",
              "      <th>45713</th>\n",
              "      <td>Zlin</td>\n",
              "      <td>Valid</td>\n",
              "      <td>3.3</td>\n",
              "      <td>Found</td>\n",
              "      <td>1939-01-01 12:00:00</td>\n",
              "      <td>49.2</td>\n",
              "      <td>17.7</td>\n",
              "      <td>(49.25, 17.66667)</td>\n",
              "      <td>0</td>\n",
              "      <td>1</td>\n",
              "    </tr>\n",
              "    <tr>\n",
              "      <th>45714</th>\n",
              "      <td>Zubkovsky</td>\n",
              "      <td>Valid</td>\n",
              "      <td>2,167.0</td>\n",
              "      <td>Found</td>\n",
              "      <td>2003-01-01 12:00:00</td>\n",
              "      <td>49.8</td>\n",
              "      <td>41.5</td>\n",
              "      <td>(49.78917, 41.5046)</td>\n",
              "      <td>0</td>\n",
              "      <td>1</td>\n",
              "    </tr>\n",
              "    <tr>\n",
              "      <th>45715</th>\n",
              "      <td>Zulu Queen</td>\n",
              "      <td>Valid</td>\n",
              "      <td>200.0</td>\n",
              "      <td>Found</td>\n",
              "      <td>1976-01-01 12:00:00</td>\n",
              "      <td>34.0</td>\n",
              "      <td>-115.7</td>\n",
              "      <td>(33.98333, -115.68333)</td>\n",
              "      <td>0</td>\n",
              "      <td>1</td>\n",
              "    </tr>\n",
              "  </tbody>\n",
              "</table>\n",
              "<p>45712 rows × 10 columns</p>\n",
              "</div>"
            ],
            "text/plain": [
              "             name nametype     mass  ...             GeoLocation fell  found\n",
              "1          Aarhus    Valid    720.0  ...    (56.18333, 10.23333)    1      0\n",
              "3        Acapulco    Valid  1,914.0  ...       (16.88333, -99.9)    1      0\n",
              "5        Adhi Kot    Valid  4,239.0  ...            (32.1, 71.8)    1      0\n",
              "7            Agen    Valid 30,000.0  ...     (44.21667, 0.61667)    1      0\n",
              "8          Aguada    Valid  1,620.0  ...      (-31.6, -65.23333)    1      0\n",
              "...           ...      ...      ...  ...                     ...  ...    ...\n",
              "45711  Zillah 002    Valid    172.0  ...       (29.037, 17.0185)    0      1\n",
              "45712      Zinder    Valid     46.0  ...     (13.78333, 8.96667)    0      1\n",
              "45713        Zlin    Valid      3.3  ...       (49.25, 17.66667)    0      1\n",
              "45714   Zubkovsky    Valid  2,167.0  ...     (49.78917, 41.5046)    0      1\n",
              "45715  Zulu Queen    Valid    200.0  ...  (33.98333, -115.68333)    0      1\n",
              "\n",
              "[45712 rows x 10 columns]"
            ]
          },
          "metadata": {
            "tags": []
          },
          "execution_count": 49
        }
      ]
    },
    {
      "cell_type": "code",
      "metadata": {
        "id": "uXnZjFUKPGnj"
      },
      "source": [
        "df = df_meteorites.copy(deep=True)\n",
        "df.drop(['id'], axis=1, inplace=True)"
      ],
      "execution_count": 50,
      "outputs": []
    },
    {
      "cell_type": "code",
      "metadata": {
        "colab": {
          "base_uri": "https://localhost:8080/",
          "height": 779
        },
        "id": "MwmLkBimQbRM",
        "outputId": "40ea31ae-3c65-400a-e18c-3a582926cf1f"
      },
      "source": [
        "df"
      ],
      "execution_count": 51,
      "outputs": [
        {
          "output_type": "execute_result",
          "data": {
            "text/html": [
              "<div>\n",
              "<style scoped>\n",
              "    .dataframe tbody tr th:only-of-type {\n",
              "        vertical-align: middle;\n",
              "    }\n",
              "\n",
              "    .dataframe tbody tr th {\n",
              "        vertical-align: top;\n",
              "    }\n",
              "\n",
              "    .dataframe thead th {\n",
              "        text-align: right;\n",
              "    }\n",
              "</style>\n",
              "<table border=\"1\" class=\"dataframe\">\n",
              "  <thead>\n",
              "    <tr style=\"text-align: right;\">\n",
              "      <th></th>\n",
              "      <th>name</th>\n",
              "      <th>nametype</th>\n",
              "      <th>recclass</th>\n",
              "      <th>mass</th>\n",
              "      <th>fall</th>\n",
              "      <th>year</th>\n",
              "      <th>reclat</th>\n",
              "      <th>reclong</th>\n",
              "      <th>GeoLocation</th>\n",
              "      <th>fell</th>\n",
              "      <th>found</th>\n",
              "    </tr>\n",
              "  </thead>\n",
              "  <tbody>\n",
              "    <tr>\n",
              "      <th>0</th>\n",
              "      <td>Aachen</td>\n",
              "      <td>Valid</td>\n",
              "      <td>L5</td>\n",
              "      <td>21.0</td>\n",
              "      <td>Fell</td>\n",
              "      <td>1880-01-01 12:00:00</td>\n",
              "      <td>50.8</td>\n",
              "      <td>6.1</td>\n",
              "      <td>(50.775, 6.08333)</td>\n",
              "      <td>1</td>\n",
              "      <td>0</td>\n",
              "    </tr>\n",
              "    <tr>\n",
              "      <th>1</th>\n",
              "      <td>Aarhus</td>\n",
              "      <td>Valid</td>\n",
              "      <td>H6</td>\n",
              "      <td>720.0</td>\n",
              "      <td>Fell</td>\n",
              "      <td>1951-01-01 12:00:00</td>\n",
              "      <td>56.2</td>\n",
              "      <td>10.2</td>\n",
              "      <td>(56.18333, 10.23333)</td>\n",
              "      <td>1</td>\n",
              "      <td>0</td>\n",
              "    </tr>\n",
              "    <tr>\n",
              "      <th>2</th>\n",
              "      <td>Abee</td>\n",
              "      <td>Valid</td>\n",
              "      <td>EH4</td>\n",
              "      <td>107,000.0</td>\n",
              "      <td>Fell</td>\n",
              "      <td>1952-01-01 12:00:00</td>\n",
              "      <td>54.2</td>\n",
              "      <td>-113.0</td>\n",
              "      <td>(54.21667, -113.0)</td>\n",
              "      <td>1</td>\n",
              "      <td>0</td>\n",
              "    </tr>\n",
              "    <tr>\n",
              "      <th>3</th>\n",
              "      <td>Acapulco</td>\n",
              "      <td>Valid</td>\n",
              "      <td>Acapulcoite</td>\n",
              "      <td>1,914.0</td>\n",
              "      <td>Fell</td>\n",
              "      <td>1976-01-01 12:00:00</td>\n",
              "      <td>16.9</td>\n",
              "      <td>-99.9</td>\n",
              "      <td>(16.88333, -99.9)</td>\n",
              "      <td>1</td>\n",
              "      <td>0</td>\n",
              "    </tr>\n",
              "    <tr>\n",
              "      <th>4</th>\n",
              "      <td>Achiras</td>\n",
              "      <td>Valid</td>\n",
              "      <td>L6</td>\n",
              "      <td>780.0</td>\n",
              "      <td>Fell</td>\n",
              "      <td>1902-01-01 12:00:00</td>\n",
              "      <td>-33.2</td>\n",
              "      <td>-65.0</td>\n",
              "      <td>(-33.16667, -64.95)</td>\n",
              "      <td>1</td>\n",
              "      <td>0</td>\n",
              "    </tr>\n",
              "    <tr>\n",
              "      <th>...</th>\n",
              "      <td>...</td>\n",
              "      <td>...</td>\n",
              "      <td>...</td>\n",
              "      <td>...</td>\n",
              "      <td>...</td>\n",
              "      <td>...</td>\n",
              "      <td>...</td>\n",
              "      <td>...</td>\n",
              "      <td>...</td>\n",
              "      <td>...</td>\n",
              "      <td>...</td>\n",
              "    </tr>\n",
              "    <tr>\n",
              "      <th>45711</th>\n",
              "      <td>Zillah 002</td>\n",
              "      <td>Valid</td>\n",
              "      <td>Eucrite</td>\n",
              "      <td>172.0</td>\n",
              "      <td>Found</td>\n",
              "      <td>1990-01-01 12:00:00</td>\n",
              "      <td>29.0</td>\n",
              "      <td>17.0</td>\n",
              "      <td>(29.037, 17.0185)</td>\n",
              "      <td>0</td>\n",
              "      <td>1</td>\n",
              "    </tr>\n",
              "    <tr>\n",
              "      <th>45712</th>\n",
              "      <td>Zinder</td>\n",
              "      <td>Valid</td>\n",
              "      <td>Pallasite, ungrouped</td>\n",
              "      <td>46.0</td>\n",
              "      <td>Found</td>\n",
              "      <td>1999-01-01 12:00:00</td>\n",
              "      <td>13.8</td>\n",
              "      <td>9.0</td>\n",
              "      <td>(13.78333, 8.96667)</td>\n",
              "      <td>0</td>\n",
              "      <td>1</td>\n",
              "    </tr>\n",
              "    <tr>\n",
              "      <th>45713</th>\n",
              "      <td>Zlin</td>\n",
              "      <td>Valid</td>\n",
              "      <td>H4</td>\n",
              "      <td>3.3</td>\n",
              "      <td>Found</td>\n",
              "      <td>1939-01-01 12:00:00</td>\n",
              "      <td>49.2</td>\n",
              "      <td>17.7</td>\n",
              "      <td>(49.25, 17.66667)</td>\n",
              "      <td>0</td>\n",
              "      <td>1</td>\n",
              "    </tr>\n",
              "    <tr>\n",
              "      <th>45714</th>\n",
              "      <td>Zubkovsky</td>\n",
              "      <td>Valid</td>\n",
              "      <td>L6</td>\n",
              "      <td>2,167.0</td>\n",
              "      <td>Found</td>\n",
              "      <td>2003-01-01 12:00:00</td>\n",
              "      <td>49.8</td>\n",
              "      <td>41.5</td>\n",
              "      <td>(49.78917, 41.5046)</td>\n",
              "      <td>0</td>\n",
              "      <td>1</td>\n",
              "    </tr>\n",
              "    <tr>\n",
              "      <th>45715</th>\n",
              "      <td>Zulu Queen</td>\n",
              "      <td>Valid</td>\n",
              "      <td>L3.7</td>\n",
              "      <td>200.0</td>\n",
              "      <td>Found</td>\n",
              "      <td>1976-01-01 12:00:00</td>\n",
              "      <td>34.0</td>\n",
              "      <td>-115.7</td>\n",
              "      <td>(33.98333, -115.68333)</td>\n",
              "      <td>0</td>\n",
              "      <td>1</td>\n",
              "    </tr>\n",
              "  </tbody>\n",
              "</table>\n",
              "<p>45716 rows × 11 columns</p>\n",
              "</div>"
            ],
            "text/plain": [
              "             name nametype  ... fell  found\n",
              "0          Aachen    Valid  ...    1      0\n",
              "1          Aarhus    Valid  ...    1      0\n",
              "2            Abee    Valid  ...    1      0\n",
              "3        Acapulco    Valid  ...    1      0\n",
              "4         Achiras    Valid  ...    1      0\n",
              "...           ...      ...  ...  ...    ...\n",
              "45711  Zillah 002    Valid  ...    0      1\n",
              "45712      Zinder    Valid  ...    0      1\n",
              "45713        Zlin    Valid  ...    0      1\n",
              "45714   Zubkovsky    Valid  ...    0      1\n",
              "45715  Zulu Queen    Valid  ...    0      1\n",
              "\n",
              "[45716 rows x 11 columns]"
            ]
          },
          "metadata": {
            "tags": []
          },
          "execution_count": 51
        }
      ]
    },
    {
      "cell_type": "code",
      "metadata": {
        "colab": {
          "base_uri": "https://localhost:8080/",
          "height": 779
        },
        "id": "1Bhye-3lQc-5",
        "outputId": "8ab72e2f-9316-4dda-8572-502e751ddc33"
      },
      "source": [
        "df_meteorites"
      ],
      "execution_count": 52,
      "outputs": [
        {
          "output_type": "execute_result",
          "data": {
            "text/html": [
              "<div>\n",
              "<style scoped>\n",
              "    .dataframe tbody tr th:only-of-type {\n",
              "        vertical-align: middle;\n",
              "    }\n",
              "\n",
              "    .dataframe tbody tr th {\n",
              "        vertical-align: top;\n",
              "    }\n",
              "\n",
              "    .dataframe thead th {\n",
              "        text-align: right;\n",
              "    }\n",
              "</style>\n",
              "<table border=\"1\" class=\"dataframe\">\n",
              "  <thead>\n",
              "    <tr style=\"text-align: right;\">\n",
              "      <th></th>\n",
              "      <th>name</th>\n",
              "      <th>id</th>\n",
              "      <th>nametype</th>\n",
              "      <th>recclass</th>\n",
              "      <th>mass</th>\n",
              "      <th>fall</th>\n",
              "      <th>year</th>\n",
              "      <th>reclat</th>\n",
              "      <th>reclong</th>\n",
              "      <th>GeoLocation</th>\n",
              "      <th>fell</th>\n",
              "      <th>found</th>\n",
              "    </tr>\n",
              "  </thead>\n",
              "  <tbody>\n",
              "    <tr>\n",
              "      <th>0</th>\n",
              "      <td>Aachen</td>\n",
              "      <td>1</td>\n",
              "      <td>Valid</td>\n",
              "      <td>L5</td>\n",
              "      <td>21.0</td>\n",
              "      <td>Fell</td>\n",
              "      <td>1880-01-01 12:00:00</td>\n",
              "      <td>50.8</td>\n",
              "      <td>6.1</td>\n",
              "      <td>(50.775, 6.08333)</td>\n",
              "      <td>1</td>\n",
              "      <td>0</td>\n",
              "    </tr>\n",
              "    <tr>\n",
              "      <th>1</th>\n",
              "      <td>Aarhus</td>\n",
              "      <td>2</td>\n",
              "      <td>Valid</td>\n",
              "      <td>H6</td>\n",
              "      <td>720.0</td>\n",
              "      <td>Fell</td>\n",
              "      <td>1951-01-01 12:00:00</td>\n",
              "      <td>56.2</td>\n",
              "      <td>10.2</td>\n",
              "      <td>(56.18333, 10.23333)</td>\n",
              "      <td>1</td>\n",
              "      <td>0</td>\n",
              "    </tr>\n",
              "    <tr>\n",
              "      <th>2</th>\n",
              "      <td>Abee</td>\n",
              "      <td>6</td>\n",
              "      <td>Valid</td>\n",
              "      <td>EH4</td>\n",
              "      <td>107,000.0</td>\n",
              "      <td>Fell</td>\n",
              "      <td>1952-01-01 12:00:00</td>\n",
              "      <td>54.2</td>\n",
              "      <td>-113.0</td>\n",
              "      <td>(54.21667, -113.0)</td>\n",
              "      <td>1</td>\n",
              "      <td>0</td>\n",
              "    </tr>\n",
              "    <tr>\n",
              "      <th>3</th>\n",
              "      <td>Acapulco</td>\n",
              "      <td>10</td>\n",
              "      <td>Valid</td>\n",
              "      <td>Acapulcoite</td>\n",
              "      <td>1,914.0</td>\n",
              "      <td>Fell</td>\n",
              "      <td>1976-01-01 12:00:00</td>\n",
              "      <td>16.9</td>\n",
              "      <td>-99.9</td>\n",
              "      <td>(16.88333, -99.9)</td>\n",
              "      <td>1</td>\n",
              "      <td>0</td>\n",
              "    </tr>\n",
              "    <tr>\n",
              "      <th>4</th>\n",
              "      <td>Achiras</td>\n",
              "      <td>370</td>\n",
              "      <td>Valid</td>\n",
              "      <td>L6</td>\n",
              "      <td>780.0</td>\n",
              "      <td>Fell</td>\n",
              "      <td>1902-01-01 12:00:00</td>\n",
              "      <td>-33.2</td>\n",
              "      <td>-65.0</td>\n",
              "      <td>(-33.16667, -64.95)</td>\n",
              "      <td>1</td>\n",
              "      <td>0</td>\n",
              "    </tr>\n",
              "    <tr>\n",
              "      <th>...</th>\n",
              "      <td>...</td>\n",
              "      <td>...</td>\n",
              "      <td>...</td>\n",
              "      <td>...</td>\n",
              "      <td>...</td>\n",
              "      <td>...</td>\n",
              "      <td>...</td>\n",
              "      <td>...</td>\n",
              "      <td>...</td>\n",
              "      <td>...</td>\n",
              "      <td>...</td>\n",
              "      <td>...</td>\n",
              "    </tr>\n",
              "    <tr>\n",
              "      <th>45711</th>\n",
              "      <td>Zillah 002</td>\n",
              "      <td>31356</td>\n",
              "      <td>Valid</td>\n",
              "      <td>Eucrite</td>\n",
              "      <td>172.0</td>\n",
              "      <td>Found</td>\n",
              "      <td>1990-01-01 12:00:00</td>\n",
              "      <td>29.0</td>\n",
              "      <td>17.0</td>\n",
              "      <td>(29.037, 17.0185)</td>\n",
              "      <td>0</td>\n",
              "      <td>1</td>\n",
              "    </tr>\n",
              "    <tr>\n",
              "      <th>45712</th>\n",
              "      <td>Zinder</td>\n",
              "      <td>30409</td>\n",
              "      <td>Valid</td>\n",
              "      <td>Pallasite, ungrouped</td>\n",
              "      <td>46.0</td>\n",
              "      <td>Found</td>\n",
              "      <td>1999-01-01 12:00:00</td>\n",
              "      <td>13.8</td>\n",
              "      <td>9.0</td>\n",
              "      <td>(13.78333, 8.96667)</td>\n",
              "      <td>0</td>\n",
              "      <td>1</td>\n",
              "    </tr>\n",
              "    <tr>\n",
              "      <th>45713</th>\n",
              "      <td>Zlin</td>\n",
              "      <td>30410</td>\n",
              "      <td>Valid</td>\n",
              "      <td>H4</td>\n",
              "      <td>3.3</td>\n",
              "      <td>Found</td>\n",
              "      <td>1939-01-01 12:00:00</td>\n",
              "      <td>49.2</td>\n",
              "      <td>17.7</td>\n",
              "      <td>(49.25, 17.66667)</td>\n",
              "      <td>0</td>\n",
              "      <td>1</td>\n",
              "    </tr>\n",
              "    <tr>\n",
              "      <th>45714</th>\n",
              "      <td>Zubkovsky</td>\n",
              "      <td>31357</td>\n",
              "      <td>Valid</td>\n",
              "      <td>L6</td>\n",
              "      <td>2,167.0</td>\n",
              "      <td>Found</td>\n",
              "      <td>2003-01-01 12:00:00</td>\n",
              "      <td>49.8</td>\n",
              "      <td>41.5</td>\n",
              "      <td>(49.78917, 41.5046)</td>\n",
              "      <td>0</td>\n",
              "      <td>1</td>\n",
              "    </tr>\n",
              "    <tr>\n",
              "      <th>45715</th>\n",
              "      <td>Zulu Queen</td>\n",
              "      <td>30414</td>\n",
              "      <td>Valid</td>\n",
              "      <td>L3.7</td>\n",
              "      <td>200.0</td>\n",
              "      <td>Found</td>\n",
              "      <td>1976-01-01 12:00:00</td>\n",
              "      <td>34.0</td>\n",
              "      <td>-115.7</td>\n",
              "      <td>(33.98333, -115.68333)</td>\n",
              "      <td>0</td>\n",
              "      <td>1</td>\n",
              "    </tr>\n",
              "  </tbody>\n",
              "</table>\n",
              "<p>45716 rows × 12 columns</p>\n",
              "</div>"
            ],
            "text/plain": [
              "             name     id nametype  ...             GeoLocation  fell found\n",
              "0          Aachen      1    Valid  ...       (50.775, 6.08333)     1     0\n",
              "1          Aarhus      2    Valid  ...    (56.18333, 10.23333)     1     0\n",
              "2            Abee      6    Valid  ...      (54.21667, -113.0)     1     0\n",
              "3        Acapulco     10    Valid  ...       (16.88333, -99.9)     1     0\n",
              "4         Achiras    370    Valid  ...     (-33.16667, -64.95)     1     0\n",
              "...           ...    ...      ...  ...                     ...   ...   ...\n",
              "45711  Zillah 002  31356    Valid  ...       (29.037, 17.0185)     0     1\n",
              "45712      Zinder  30409    Valid  ...     (13.78333, 8.96667)     0     1\n",
              "45713        Zlin  30410    Valid  ...       (49.25, 17.66667)     0     1\n",
              "45714   Zubkovsky  31357    Valid  ...     (49.78917, 41.5046)     0     1\n",
              "45715  Zulu Queen  30414    Valid  ...  (33.98333, -115.68333)     0     1\n",
              "\n",
              "[45716 rows x 12 columns]"
            ]
          },
          "metadata": {
            "tags": []
          },
          "execution_count": 52
        }
      ]
    },
    {
      "cell_type": "code",
      "metadata": {
        "id": "ccHm5tOlQk41"
      },
      "source": [
        ""
      ],
      "execution_count": null,
      "outputs": []
    }
  ]
}